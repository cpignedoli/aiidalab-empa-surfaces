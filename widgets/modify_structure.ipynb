{
 "cells": [
  {
   "cell_type": "code",
   "execution_count": null,
   "metadata": {},
   "outputs": [],
   "source": [
    "%aiida"
   ]
  },
  {
   "cell_type": "code",
   "execution_count": null,
   "metadata": {},
   "outputs": [],
   "source": [
    "from aiidalab_widgets_base import  StructureBrowserWidget\n",
    "from apps.surfaces.widgets.viewer_details import ViewerDetails\n",
    "from IPython.display import display, clear_output, HTML\n",
    "import nglview\n",
    "from ase import Atoms\n",
    "from ase.data import covalent_radii, vdw_radii\n",
    "from ase.neighborlist import NeighborList\n",
    "import ase.neighborlist\n",
    "import ase.build\n",
    "from apps.surfaces.widgets import analyze_structure\n",
    "import nglview\n",
    "import numpy as np\n",
    "from numpy.linalg import norm\n",
    "import ipywidgets as ipw\n",
    "\n"
   ]
  },
  {
   "cell_type": "code",
   "execution_count": null,
   "metadata": {},
   "outputs": [],
   "source": []
  }
 ],
 "metadata": {
  "kernelspec": {
   "display_name": "Python 3",
   "language": "python",
   "name": "python3"
  },
  "language_info": {
   "codemirror_mode": {
    "name": "ipython",
    "version": 3
   },
   "file_extension": ".py",
   "mimetype": "text/x-python",
   "name": "python",
   "nbconvert_exporter": "python",
   "pygments_lexer": "ipython3",
   "version": "3.7.4"
  }
 },
 "nbformat": 4,
 "nbformat_minor": 2
}
