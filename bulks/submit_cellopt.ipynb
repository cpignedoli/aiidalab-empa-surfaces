{
 "cells": [
  {
   "cell_type": "markdown",
   "metadata": {},
   "source": [
    "#  Submit Bulk Cell Optimization"
   ]
  },
  {
   "cell_type": "code",
   "execution_count": 1,
   "metadata": {},
   "outputs": [],
   "source": [
    "%aiida\n",
    "from aiida import load_dbenv, is_dbenv_loaded\n",
    "from aiida.backends import settings\n",
    "if not is_dbenv_loaded():\n",
    "    load_dbenv(profile=settings.AIIDADB_PROFILE)\n",
    "\n",
    "from aiida.orm.code import Code\n",
    "from aiida.orm import load_node\n",
    "from aiida.orm import Code, Computer\n",
    "from aiida.orm.querybuilder import QueryBuilder\n",
    "from aiida.orm.data.base import Int, Float, Str, Bool\n",
    "from aiida.work.run import submit\n",
    "from aiida.orm.data.structure import StructureData\n",
    "\n",
    "import nglview\n",
    "import numpy as np\n",
    "import ipywidgets as ipw\n",
    "from collections import OrderedDict\n",
    "from IPython.display import display, clear_output, HTML\n",
    "import nglview\n",
    "\n",
    "from apps.surfaces.structure_browser import StructureBrowser\n",
    "from apps.surfaces.bulks.celloptwork import CellOptWorkChain\n",
    "from apps.surfaces.widgets.computer_code_selection import ComputerCodeDropdown\n",
    "from apps.surfaces.widgets.dft_details_dev import DFTDetails\n",
    "from apps.surfaces.widgets.viewer_details import ViewerDetails\n",
    "from apps.surfaces.widgets.slab_validity import slab_is_valid\n",
    "from apps.surfaces.widgets.suggested_param import suggested_parameters\n",
    "from apps.surfaces.widgets.submit_button_dev import SubmitButton\n",
    "\n",
    "from ase.data import vdw_radii\n",
    "\n",
    "import copy\n",
    "\n",
    "from apps.surfaces.widgets import find_mol"
   ]
  },
  {
   "cell_type": "code",
   "execution_count": 2,
   "metadata": {},
   "outputs": [
    {
     "data": {
      "application/javascript": [
       "IPython.OutputArea.prototype._should_scroll = function(lines) {\n",
       "    return false;\n",
       "}"
      ],
      "text/plain": [
       "<IPython.core.display.Javascript object>"
      ]
     },
     "metadata": {},
     "output_type": "display_data"
    }
   ],
   "source": [
    "%%javascript\n",
    "IPython.OutputArea.prototype._should_scroll = function(lines) {\n",
    "    return false;\n",
    "}"
   ]
  },
  {
   "cell_type": "code",
   "execution_count": 3,
   "metadata": {},
   "outputs": [],
   "source": [
    "## GENERAL PARAMETERS\n",
    "\n",
    "the_workchain=CellOptWorkChain\n",
    "job_details = {'workchain':'CellOptWorkChain'}\n",
    "job_details['calc_type']='Full DFT'\n",
    "job_details_list = []"
   ]
  },
  {
   "cell_type": "code",
   "execution_count": 4,
   "metadata": {},
   "outputs": [],
   "source": [
    "## WIDGETS MONITOR FUNCTIONS\n",
    "def on_struct_change(c):\n",
    "    if not struct_browser.results.value:\n",
    "        return\n",
    "    job_details['structure']=struct_browser.results.value\n",
    "    node = struct_browser.results.value\n",
    "    structure_pks_text_box.value = str(node.pk)\n",
    "    \n",
    "    atoms = node.get_ase()\n",
    "    atoms.pbc = [1, 1, 1]\n",
    "    slab_analyzed = find_mol.analyze_slab(atoms)\n",
    "    job_details['slab_analyzed'] = slab_analyzed\n",
    "    job_details['elements']      = slab_analyzed['all_elements']\n",
    "\n",
    "    \n",
    "    #guess_calc_params(slab_analyzed)\n",
    "    \n",
    "    viewer_widget.setup(atoms, slab_analyzed)\n",
    "    \n",
    "    with mol_ids_info_out:\n",
    "        clear_output()\n",
    "        print(slab_analyzed['summary'])\n",
    "\n",
    "def on_fixed_atoms_btn_click(c):\n",
    "    if dft_details_widget.btn_fixed_pressed:\n",
    "        viewer_widget.show_fixed(dft_details_widget.fixed_atoms.value)\n",
    "    else:\n",
    "        viewer_widget.show_fixed(\"\")\n",
    "        \n",
    "#def guess_calc_params(slab_analyzed):\n",
    "#    method = dft_details_widget.calc_type.value\n",
    "#    valid_slab, msg = slab_is_valid(slab_analyzed,method)\n",
    "#    if valid_slab:        \n",
    "#        atoms_to_fix,num_nodes=suggested_parameters(slab_analyzed,method)\n",
    "#        dft_details_widget.reset(fixed_atoms=atoms_to_fix,num_machines=num_nodes,calc_type=method)\n",
    "#    else:\n",
    "#        print(msg)"
   ]
  },
  {
   "cell_type": "code",
   "execution_count": 5,
   "metadata": {},
   "outputs": [
    {
     "data": {
      "application/vnd.jupyter.widget-view+json": {
       "model_id": "aff6a60da1f44189988aec8338fbd2d6",
       "version_major": 2,
       "version_minor": 0
      },
      "text/plain": [
       "VkJveChjaGlsZHJlbj0oU3RydWN0dXJlQnJvd3NlcihjaGlsZHJlbj0oVkJveChjaGlsZHJlbj0oVkJveChjaGlsZHJlbj0oSFRNTCh2YWx1ZT11JzxwPlNlbGVjdCB0aGUgZGF0ZSByYW5nZTrigKY=\n"
      ]
     },
     "metadata": {},
     "output_type": "display_data"
    },
    {
     "data": {
      "application/vnd.jupyter.widget-view+json": {
       "model_id": "bd17107a03e74f89a7cac774252f9ef4",
       "version_major": 2,
       "version_minor": 0
      },
      "text/plain": [
       "VGV4dCh2YWx1ZT11JycsIGRlc2NyaXB0aW9uPXUnU3RydWN0dXJlIFBLczonLCBsYXlvdXQ9TGF5b3V0KHdpZHRoPXUnNjAlJyksIHBsYWNlaG9sZGVyPXUnMTIzNDUgNjc4OTAnLCBzdHlsZT3igKY=\n"
      ]
     },
     "metadata": {},
     "output_type": "display_data"
    },
    {
     "data": {
      "application/vnd.jupyter.widget-view+json": {
       "model_id": "3c3da386a62740e18ad1322fb98f7969",
       "version_major": 2,
       "version_minor": 0
      },
      "text/plain": [
       "VkJveChjaGlsZHJlbj0oQ29tcHV0ZXJDb2RlRHJvcGRvd24oY2hpbGRyZW49KFZCb3goY2hpbGRyZW49KExhYmVsKHZhbHVlPXUnU2VsZWN0IGNvbXB1dGVyJyksIERyb3Bkb3duKG9wdGlvbnPigKY=\n"
      ]
     },
     "metadata": {},
     "output_type": "display_data"
    },
    {
     "data": {
      "application/vnd.jupyter.widget-view+json": {
       "model_id": "de83e117f4a648fa9737c2daffefe5cc",
       "version_major": 2,
       "version_minor": 0
      },
      "text/plain": [
       "U3VibWl0QnV0dG9uKGNoaWxkcmVuPShIQm94KGNoaWxkcmVuPShCdXR0b24oZGVzY3JpcHRpb249dSdTdWJtaXQnLCBzdHlsZT1CdXR0b25TdHlsZSgpKSwgSW50VGV4dCh2YWx1ZT04NjAwMCzigKY=\n"
      ]
     },
     "metadata": {},
     "output_type": "display_data"
    }
   ],
   "source": [
    "## DISPLAY WIDGETS AND DEFINE JOB PARAMETERS\n",
    "\n",
    "##STRUCTURE\n",
    "struct_browser = StructureBrowser()\n",
    "struct_browser.results.observe(on_struct_change, names='value') \n",
    "\n",
    "##VIEWER\n",
    "viewer_widget = ViewerDetails()\n",
    "\n",
    "mol_ids_info_out = ipw.Output()\n",
    "\n",
    "display(ipw.VBox([struct_browser, viewer_widget, mol_ids_info_out]))\n",
    "\n",
    "structure_pks_text_box = ipw.Text(\n",
    "    value='',\n",
    "    placeholder='12345 67890',\n",
    "    description='Structure PKs:',\n",
    "    disabled=False,\n",
    "    layout={'width':'60%'},\n",
    "    style = {'description_width': '20%'}\n",
    ")\n",
    "display(structure_pks_text_box)\n",
    "\n",
    "def read_structure_pks():\n",
    "    job_details_list[:] = []\n",
    "    pks_list = np.array(structure_pks_text_box.value.split(), dtype=int)\n",
    "    for pk in pks_list:\n",
    "        node= load_node(pk)\n",
    "        temp_job_detail = copy.deepcopy(job_details)\n",
    "        temp_job_detail['structure'] = node\n",
    "        \n",
    "        atoms = node.get_ase()\n",
    "        atoms.pbc = [1, 1, 1]\n",
    "        slab_analyzed = find_mol.analyze_slab(atoms)\n",
    "        temp_job_detail['slab_analyzed'] = slab_analyzed\n",
    "        temp_job_detail['elements']      = slab_analyzed['all_elements']        \n",
    "        \n",
    "        job_details_list.append(temp_job_detail)\n",
    "    \n",
    "##CODE\n",
    "computer_code_dropdown = ComputerCodeDropdown(job_details=job_details,input_plugin='cp2k')\n",
    "\n",
    "##DFT\n",
    "dft_details_widget = DFTDetails(job_details=job_details,\n",
    "                                widgets_disabled      = {                        \n",
    "                                    'calc_type'      : True,\n",
    "                                    'charge'         : False,\n",
    "                                    'multiplicity'   : False,\n",
    "                                    'uks_switch'     : False,\n",
    "                                    'cell_free'      : False,\n",
    "                                    'cell_sym'       : False\n",
    "                                }\n",
    "                                )    \n",
    "dft_details_widget.btn_fixed_atoms.on_click(on_fixed_atoms_btn_click)\n",
    "#dft_details_widget.calc_type.observe(lambda c: guess_calc_params(), names='value')\n",
    "\n",
    "#display code dropdown\n",
    "display(ipw.VBox([computer_code_dropdown, dft_details_widget]))\n",
    "\n",
    "#display submit button\n",
    "btn_submit = SubmitButton(\n",
    "    the_workchain=the_workchain,job_details=job_details_list,\n",
    "    presub_calls=[dft_details_widget.read_widgets_and_update_job_details, read_structure_pks]\n",
    ")\n",
    "display(btn_submit)\n"
   ]
  },
  {
   "cell_type": "code",
   "execution_count": null,
   "metadata": {},
   "outputs": [],
   "source": []
  }
 ],
 "metadata": {
  "kernelspec": {
   "display_name": "Python 2",
   "language": "python",
   "name": "python2"
  },
  "language_info": {
   "codemirror_mode": {
    "name": "ipython",
    "version": 2
   },
   "file_extension": ".py",
   "mimetype": "text/x-python",
   "name": "python",
   "nbconvert_exporter": "python",
   "pygments_lexer": "ipython2",
   "version": "2.7.15rc1"
  }
 },
 "nbformat": 4,
 "nbformat_minor": 2
}
