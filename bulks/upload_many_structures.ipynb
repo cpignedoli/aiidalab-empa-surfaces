{
 "cells": [
  {
   "cell_type": "code",
   "execution_count": 1,
   "metadata": {},
   "outputs": [
    {
     "ename": "SyntaxError",
     "evalue": "invalid syntax (computers_and_codes.py, line 38)",
     "output_type": "error",
     "traceback": [
      "\u001b[0;36m  File \u001b[0;32m\"/project/my_libs/aiidalab-widgets-base/aiidalab_widgets_base/computers_and_codes.py\"\u001b[0;36m, line \u001b[0;32m38\u001b[0m\n\u001b[0;31m    def _get_codes(self, self.sel_comp,input_plugin):\u001b[0m\n\u001b[0m                             ^\u001b[0m\n\u001b[0;31mSyntaxError\u001b[0m\u001b[0;31m:\u001b[0m invalid syntax\n"
     ]
    }
   ],
   "source": [
    "from aiidalab_widgets_base import MultiStructureUploadWidget\n",
    "from IPython.display import display\n",
    "\n",
    "#widget = MultiStructureUploadWidget()\n",
    "# Enforce node format to be CifData:\n",
    "widget = MultiStructureUploadWidget(node_class='StructureData')\n",
    "display(widget)"
   ]
  },
  {
   "cell_type": "code",
   "execution_count": null,
   "metadata": {},
   "outputs": [],
   "source": []
  }
 ],
 "metadata": {
  "kernelspec": {
   "display_name": "Python 2",
   "language": "python",
   "name": "python2"
  },
  "language_info": {
   "codemirror_mode": {
    "name": "ipython",
    "version": 2
   },
   "file_extension": ".py",
   "mimetype": "text/x-python",
   "name": "python",
   "nbconvert_exporter": "python",
   "pygments_lexer": "ipython2",
   "version": "2.7.15rc1"
  }
 },
 "nbformat": 4,
 "nbformat_minor": 2
}
