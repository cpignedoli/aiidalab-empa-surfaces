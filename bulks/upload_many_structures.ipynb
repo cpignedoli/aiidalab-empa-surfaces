{
 "cells": [
  {
   "cell_type": "code",
   "execution_count": 5,
   "metadata": {},
   "outputs": [
    {
     "data": {
      "application/vnd.jupyter.widget-view+json": {
       "model_id": "39fd2f186b534143b81cdc21a667da30",
       "version_major": 2,
       "version_minor": 0
      },
      "text/plain": [
       "TXVsdGlTdHJ1Y3R1cmVVcGxvYWRXaWRnZXQoY2hpbGRyZW49KEZpbGVVcGxvYWRXaWRnZXQobGFiZWw9dSdVcGxvYWQgWmlwIG9yIFRhciBhcmNoaXZlJywgX2RvbV9jbGFzc2VzPSh1J3dpZGfigKY=\n"
      ]
     },
     "metadata": {},
     "output_type": "display_data"
    }
   ],
   "source": [
    "from aiidalab_widgets_base.structures_multi import  MultiStructureUploadWidget\n",
    "#for new widget:\n",
    "#from aiidalab_widgets_base import MultiStructureUploadWidget\n",
    "from IPython.display import display\n",
    "\n",
    "#widget = MultiStructureUploadWidget()\n",
    "# Enforce node format to be CifData:\n",
    "#FOR NEW WIDGETS\n",
    "widget = MultiStructureUploadWidget(node_class='StructureData')\n",
    "display(widget)"
   ]
  },
  {
   "cell_type": "code",
   "execution_count": null,
   "metadata": {},
   "outputs": [],
   "source": []
  }
 ],
 "metadata": {
  "kernelspec": {
   "display_name": "Python 2",
   "language": "python",
   "name": "python2"
  },
  "language_info": {
   "codemirror_mode": {
    "name": "ipython",
    "version": 2
   },
   "file_extension": ".py",
   "mimetype": "text/x-python",
   "name": "python",
   "nbconvert_exporter": "python",
   "pygments_lexer": "ipython2",
   "version": "2.7.15rc1"
  }
 },
 "nbformat": 4,
 "nbformat_minor": 2
}
