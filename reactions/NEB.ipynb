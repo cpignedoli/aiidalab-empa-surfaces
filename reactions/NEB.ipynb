{
 "cells": [
  {
   "cell_type": "code",
   "execution_count": null,
   "metadata": {},
   "outputs": [],
   "source": [
    "%%javascript\n",
    "IPython.OutputArea.prototype._should_scroll = function(lines) {\n",
    "    return false;\n",
    "}"
   ]
  },
  {
   "cell_type": "code",
   "execution_count": null,
   "metadata": {},
   "outputs": [],
   "source": [
    "%aiida\n",
    "from aiida.orm.data.base import Int, Float, Bool, Str, List\n",
    "from aiida.orm.data.structure import StructureData\n",
    "from aiida.orm.data.parameter import ParameterData\n",
    "from aiida.orm.data.folder import FolderData\n",
    "from aiida.work.run import submit\n",
    "\n",
    "import ipywidgets as ipw\n",
    "from IPython.display import display, clear_output, HTML\n",
    "import nglview\n",
    "import numpy as np\n",
    "\n",
    "import tempfile\n",
    "import shutil\n",
    "\n",
    "\n",
    "\n",
    "import ase\n",
    "import ase.io\n",
    "from ase import Atom\n",
    "\n",
    "from apps.surfaces.structure_browser import StructureBrowser\n",
    "from apps.surfaces.widgets.computer_code_selection import ComputerCodeDropdown\n",
    "from apps.surfaces.widgets.dft_details import DFTDetails\n",
    "from apps.surfaces.widgets.neb_details import NEBDetails\n",
    "from apps.surfaces.widgets.viewer_details import ViewerDetails\n",
    "from apps.surfaces.widgets.slab_validity import slab_is_valid\n",
    "from apps.surfaces.widgets.suggested_param import suggested_parameters\n",
    "from apps.surfaces.widgets.submit_button import SubmitButton\n",
    "from apps.surfaces.reactions.nebwork import NEBWorkchain\n",
    "\n",
    "from ase.data import vdw_radii\n",
    "\n",
    "from apps.surfaces.widgets import find_mol"
   ]
  },
  {
   "cell_type": "code",
   "execution_count": null,
   "metadata": {},
   "outputs": [],
   "source": [
    "## GENERAL PARAMETERS\n",
    "style = {'description_width': '120px'}\n",
    "layout = {'width': '70%'}\n",
    "the_workchain=NEBWorkchain\n",
    "job_details = {'workchain':'NEBWorkchain'}\n",
    "atoms=[]\n",
    "details=[]\n",
    "slab_analyzed=[]"
   ]
  },
  {
   "cell_type": "code",
   "execution_count": null,
   "metadata": {},
   "outputs": [],
   "source": [
    "from tempfile import NamedTemporaryFile\n",
    "from base64 import b64encode\n",
    "def render_thumbnail(atoms):\n",
    "    tmp = NamedTemporaryFile()\n",
    "    ase.io.write(tmp.name, atoms, format='png') # does not accept StringIO\n",
    "    raw = open(tmp.name).read()\n",
    "    tmp.close()\n",
    "    return b64encode(raw)\n",
    "\n",
    "def display_thumbnail(th):\n",
    "    return ipw.HTML('<img width=\"400px\" src=\"data:image/png;base64,{}\" title=\"\">'.format(th))"
   ]
  },
  {
   "cell_type": "code",
   "execution_count": null,
   "metadata": {},
   "outputs": [],
   "source": [
    "## WIDGETS MONITOR FUNCTIONS\n",
    "def on_struct_change(c):\n",
    "    global atoms,slab_analyzed\n",
    "    if not struct_browser.results.value:\n",
    "        return\n",
    "    job_details['structure']=struct_browser.results.value\n",
    "    node = struct_browser.results.value\n",
    "    atoms = node.get_ase()\n",
    "    atoms.pbc = [1, 1, 1]\n",
    "    slab_analyzed = find_mol.analyze_slab(atoms)\n",
    "    job_details['slab_analyzed']=slab_analyzed\n",
    "    dft_details_widget.reset()  \n",
    "    neb_details_widget.reset()\n",
    "    #refresh_structure_view()\n",
    "    guess_calc_params()\n",
    "    \n",
    "    viewer_widget.setup(atoms, slab_analyzed)\n",
    "    \n",
    "    with mol_ids_info_out:\n",
    "        clear_output()\n",
    "        print(slab_analyzed['summary'])\n",
    "\n",
    "def on_fixed_atoms_btn_click(c):\n",
    "    if dft_details_widget.btn_fixed_pressed:\n",
    "        viewer_widget.show_fixed(dft_details_widget.fixed_atoms.value)\n",
    "    else:\n",
    "        viewer_widget.show_fixed(\"\")\n",
    "        \n",
    "def guess_calc_params():\n",
    "    method=dft_details_widget.calc_type.value\n",
    "    valid_slab,msg = slab_is_valid(slab_analyzed,method)\n",
    "    if valid_slab:        \n",
    "        atoms_to_fix,num_nodes=suggested_parameters(slab_analyzed,method)\n",
    "        dft_details_widget.reset(fixed_atoms=atoms_to_fix,num_machines=num_nodes,calc_type=method)\n",
    "        #dft_details_widget.fixed_atoms.value = atoms_to_fix\n",
    "        #dft_details_widget.num_nodes.value = num_nodes\n",
    "    else:\n",
    "        print(msg)"
   ]
  },
  {
   "cell_type": "markdown",
   "metadata": {},
   "source": [
    "# Submit a NEB calculation"
   ]
  },
  {
   "cell_type": "markdown",
   "metadata": {},
   "source": [
    "## Structure"
   ]
  },
  {
   "cell_type": "code",
   "execution_count": null,
   "metadata": {
    "scrolled": false
   },
   "outputs": [],
   "source": [
    "## DISPLAY WIDGETS AND DEFINE JOB PARAMETERS\n",
    "\n",
    "##CODE\n",
    "computer_code_dropdown = ComputerCodeDropdown(job_details=job_details,input_plugin='cp2k')\n",
    "\n",
    "##STRUCTURE\n",
    "struct_browser = StructureBrowser()\n",
    "struct_browser.results.observe(on_struct_change, names='value') \n",
    "\n",
    "##DFT\n",
    "dft_details_widget = DFTDetails(job_details=job_details)    \n",
    "dft_details_widget.btn_fixed_atoms.on_click(on_fixed_atoms_btn_click)\n",
    "dft_details_widget.calc_type.observe(lambda c: guess_calc_params(), names='value')\n",
    "\n",
    "##NEB\n",
    "neb_details_widget = NEBDetails(job_details=job_details) \n",
    "\n",
    "##VIEWER\n",
    "viewer_widget=ViewerDetails()\n",
    "\n",
    "mol_ids_info_out = ipw.Output()\n",
    "\n",
    "#display(ipw.VBox([struct_browser, viewer]))\n",
    "display(ipw.VBox([struct_browser, viewer_widget, mol_ids_info_out]))\n",
    "\n",
    "#display code,dft,neb dropdown\n",
    "display(ipw.VBox([computer_code_dropdown, dft_details_widget,neb_details_widget]))\n"
   ]
  },
  {
   "cell_type": "code",
   "execution_count": null,
   "metadata": {},
   "outputs": [],
   "source": [
    "## Continue NEB\n",
    "#\n",
    "#def on_load_old_neb_press(c):\n",
    "#    \n",
    "#    old_neb_node = load_node(old_neb_pk_text.value)\n",
    "#    \n",
    "#    on_struct_change(0)\n",
    "#    \n",
    "#\n",
    "#old_neb_pk_text = ipw.IntText(description='Old NEB PK',\n",
    "#                           value=0)\n",
    "#\n",
    "#load_old_neb_button = ipw.Button(description='Load NEB')\n",
    "#\n",
    "#display(ipw.HBox([old_neb_pk_text, load_old_neb_button]))"
   ]
  },
  {
   "cell_type": "code",
   "execution_count": null,
   "metadata": {},
   "outputs": [],
   "source": [
    "#old_neb_node = load_node(old_neb_pk_text.value)"
   ]
  },
  {
   "cell_type": "code",
   "execution_count": null,
   "metadata": {},
   "outputs": [],
   "source": [
    "#old_neb_node.out.CALL.description"
   ]
  },
  {
   "cell_type": "markdown",
   "metadata": {},
   "source": [
    "## Submission"
   ]
  },
  {
   "cell_type": "code",
   "execution_count": null,
   "metadata": {},
   "outputs": [],
   "source": [
    "\n",
    "#display submit button\n",
    "btn_submit = SubmitButton(the_workchain=the_workchain,job_details=job_details)\n",
    "display(btn_submit)"
   ]
  },
  {
   "cell_type": "code",
   "execution_count": null,
   "metadata": {},
   "outputs": [],
   "source": []
  }
 ],
 "metadata": {
  "kernelspec": {
   "display_name": "Python 2",
   "language": "python",
   "name": "python2"
  },
  "language_info": {
   "codemirror_mode": {
    "name": "ipython",
    "version": 2
   },
   "file_extension": ".py",
   "mimetype": "text/x-python",
   "name": "python",
   "nbconvert_exporter": "python",
   "pygments_lexer": "ipython2",
   "version": "2.7.15rc1"
  }
 },
 "nbformat": 4,
 "nbformat_minor": 2
}
