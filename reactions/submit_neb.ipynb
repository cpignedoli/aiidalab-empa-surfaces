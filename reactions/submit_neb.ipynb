{
 "cells": [
  {
   "cell_type": "code",
   "execution_count": 1,
   "metadata": {},
   "outputs": [
    {
     "data": {
      "application/json": {
       "current_state": "Loaded AiiDA DB environment."
      },
      "text/html": [
       "<p>Loaded AiiDA DB environment.</p>"
      ],
      "text/latex": [
       "Loaded AiiDA DB environment.\n"
      ],
      "text/plain": [
       "Loaded AiiDA DB environment.\n"
      ]
     },
     "execution_count": 1,
     "metadata": {},
     "output_type": "execute_result"
    }
   ],
   "source": [
    "%aiida"
   ]
  },
  {
   "cell_type": "code",
   "execution_count": 2,
   "metadata": {},
   "outputs": [
    {
     "data": {
      "application/vnd.jupyter.widget-view+json": {
       "model_id": "e5141be821274485bd6302a8667df8d0",
       "version_major": 2,
       "version_minor": 0
      },
      "text/plain": [
       "_ColormakerRegistry()"
      ]
     },
     "metadata": {},
     "output_type": "display_data"
    }
   ],
   "source": [
    "#from aiida.orm.data.base import Int, Float, Bool, Str, List\n",
    "#from aiida.orm.data.structure import StructureData\n",
    "#from aiida.orm.data.parameter import ParameterData\n",
    "#from aiida.orm.data.folder import FolderData\n",
    "#from aiida.work.run import submit\n",
    "\n",
    "import ipywidgets as ipw\n",
    "from IPython.display import display, clear_output, HTML\n",
    "import nglview\n",
    "import numpy as np\n",
    "\n",
    "import tempfile\n",
    "import shutil\n",
    "\n",
    "import ase\n",
    "import ase.io\n",
    "from ase import Atom\n",
    "\n",
    "from aiidalab_widgets_base import CodeDropdown, SubmitButtonWidget, MetadataWidget, StructureBrowserWidget\n",
    "from aiida.engine import submit, run, run_get_node\n",
    "\n",
    "#from apps.surfaces.widgets.computer_code_selection import ComputerCodeDropdown\n",
    "from apps.surfaces.widgets.dft_details_dev import DFTDetails\n",
    "from apps.surfaces.widgets.neb_details import NebDetails\n",
    "from apps.surfaces.widgets.viewer_details import ViewerDetails\n",
    "from apps.surfaces.widgets.slab_validity import slab_is_valid\n",
    "from apps.surfaces.widgets.suggested_param import suggested_parameters\n",
    "#from apps.surfaces.widgets.submit_button import SubmitButton\n",
    "\n",
    "\n",
    "from ase.data import vdw_radii\n",
    "\n",
    "from apps.surfaces.widgets import analyze_structure\n",
    "\n",
    "NebWorkChain = WorkflowFactory('neb') \n"
   ]
  },
  {
   "cell_type": "code",
   "execution_count": 3,
   "metadata": {},
   "outputs": [
    {
     "data": {
      "application/javascript": [
       "IPython.OutputArea.prototype._should_scroll = function(lines) {\n",
       "    return false;\n",
       "}"
      ],
      "text/plain": [
       "<IPython.core.display.Javascript object>"
      ]
     },
     "metadata": {},
     "output_type": "display_data"
    }
   ],
   "source": [
    "%%javascript\n",
    "IPython.OutputArea.prototype._should_scroll = function(lines) {\n",
    "    return false;\n",
    "}"
   ]
  },
  {
   "cell_type": "code",
   "execution_count": 4,
   "metadata": {},
   "outputs": [],
   "source": [
    "## GENERAL PARAMETERS\n",
    "style = {'description_width': '120px'}\n",
    "layout = {'width': '70%'}\n",
    "the_workchain=NebWorkChain\n",
    "job_details = {'workchain':'NebWorkChain'}\n",
    "atoms=[]\n",
    "details=[]\n",
    "slab_analyzed=[]"
   ]
  },
  {
   "cell_type": "code",
   "execution_count": 5,
   "metadata": {},
   "outputs": [],
   "source": [
    "#from tempfile import NamedTemporaryFile\n",
    "#from base64 import b64encode\n",
    "#def render_thumbnail(atoms):\n",
    "#    tmp = NamedTemporaryFile()\n",
    "#    ase.io.write(tmp.name, atoms, format='png') # does not accept StringIO\n",
    "#    raw = open(tmp.name).read()\n",
    "#    tmp.close()\n",
    "#    return b64encode(raw)\n",
    "#\n",
    "#def display_thumbnail(th):\n",
    "#    return ipw.HTML('<img width=\"400px\" src=\"data:image/png;base64,{}\" title=\"\">'.format(th))"
   ]
  },
  {
   "cell_type": "code",
   "execution_count": 6,
   "metadata": {},
   "outputs": [],
   "source": [
    "## WIDGETS MONITOR FUNCTIONS\n",
    "def on_struct_change(c):\n",
    "    global atoms,slab_analyzed\n",
    "    if not struct_browser.results.value:\n",
    "        return\n",
    "    job_details['structure']=struct_browser.results.value\n",
    "    node = struct_browser.results.value\n",
    "    atoms = node.get_ase()\n",
    "    atoms.pbc = [1, 1, 1]\n",
    "    slab_analyzed = find_mol.analyze_slab(atoms)\n",
    "    job_details['slab_analyzed']=slab_analyzed\n",
    "    dft_details_widget.reset()  \n",
    "    neb_details_widget.reset()\n",
    "    #refresh_structure_view()\n",
    "    guess_calc_params()\n",
    "    \n",
    "    viewer_widget.setup(atoms, slab_analyzed)\n",
    "    \n",
    "    with mol_ids_info_out:\n",
    "        clear_output()\n",
    "        print(slab_analyzed['summary'])\n",
    "\n",
    "def on_fixed_atoms_btn_click(c):\n",
    "    if dft_details_widget.btn_fixed_pressed:\n",
    "        viewer_widget.show_fixed(dft_details_widget.fixed_atoms.value)\n",
    "    else:\n",
    "        viewer_widget.show_fixed(\"\")\n",
    "        \n",
    "def guess_calc_params():\n",
    "    method=dft_details_widget.calc_type.value\n",
    "    valid_slab,msg = slab_is_valid(slab_analyzed,method)\n",
    "    if valid_slab:        \n",
    "        atoms_to_fix,num_nodes=suggested_parameters(slab_analyzed,method)\n",
    "        dft_details_widget.reset(fixed_atoms=atoms_to_fix,num_machines=num_nodes,calc_type=method)\n",
    "        #dft_details_widget.fixed_atoms.value = atoms_to_fix\n",
    "        #dft_details_widget.num_nodes.value = num_nodes\n",
    "    else:\n",
    "        print(msg)"
   ]
  },
  {
   "cell_type": "markdown",
   "metadata": {},
   "source": [
    "# Submit a NEB calculation"
   ]
  },
  {
   "cell_type": "markdown",
   "metadata": {},
   "source": [
    "## Structure"
   ]
  },
  {
   "cell_type": "code",
   "execution_count": 7,
   "metadata": {},
   "outputs": [
    {
     "data": {
      "application/vnd.jupyter.widget-view+json": {
       "model_id": "df26b8aeb89241558e6e7e371961bc02",
       "version_major": 2,
       "version_minor": 0
      },
      "text/plain": [
       "VBox(children=(StructureBrowserWidget(children=(VBox(children=(VBox(children=(HTML(value='<p>Select the date r…"
      ]
     },
     "metadata": {},
     "output_type": "display_data"
    },
    {
     "data": {
      "application/vnd.jupyter.widget-view+json": {
       "model_id": "3e4544a861554e968351810de90fe47a",
       "version_major": 2,
       "version_minor": 0
      },
      "text/plain": [
       "VBox(children=(CodeDropdown(children=(HBox(children=(Dropdown(description='Select code:', options=('cp2k@mc3-m…"
      ]
     },
     "metadata": {},
     "output_type": "display_data"
    }
   ],
   "source": [
    "## DISPLAY WIDGETS AND DEFINE JOB PARAMETERS\n",
    "\n",
    "##STRUCTURE\n",
    "struct_browser = StructureBrowserWidget()\n",
    "struct_browser.results.observe(on_struct_change, names='value')\n",
    "\n",
    "##VIEWER\n",
    "viewer_widget = ViewerDetails()\n",
    "\n",
    "mol_ids_info_out = ipw.Output()\n",
    "\n",
    "display(ipw.VBox([struct_browser, viewer_widget, mol_ids_info_out]))\n",
    "\n",
    "##CODE\n",
    "computer_code_dropdown = CodeDropdown(input_plugin='cp2k', path_to_root=\"../../\")\n",
    "\n",
    "# Misc details\n",
    "style = {'description_width': '120px'}\n",
    "layout = {'width': '70%'}\n",
    "num_nodes_selector = ipw.IntText(\n",
    "    value=1,\n",
    "    description='# Nodes',\n",
    "    style=style, layout=layout)\n",
    "calc_name_selector = ipw.Text(\n",
    "    description='Calculation Name: ',\n",
    "    placeholder='A great name.',\n",
    "    style=style, layout=layout)\n",
    "\n",
    "##DFT\n",
    "dft_details_widget = DFTDetails(job_details=job_details)    \n",
    "dft_details_widget.btn_fixed_atoms.on_click(on_fixed_atoms_btn_click)\n",
    "dft_details_widget.calc_type.observe(lambda c: guess_calc_params(), names='value')\n",
    "\n",
    "##NEB\n",
    "neb_details_widget = NebDetails(computer_code_dropdown, dft_details_widget) \n",
    "\n",
    "display(ipw.VBox([computer_code_dropdown, num_nodes_selector, calc_name_selector, dft_details_widget,neb_details_widget]))\n"
   ]
  },
  {
   "cell_type": "markdown",
   "metadata": {},
   "source": [
    "## Submission"
   ]
  },
  {
   "cell_type": "code",
   "execution_count": 8,
   "metadata": {},
   "outputs": [
    {
     "ename": "ValueError",
     "evalue": "invalid attribute value value 'structure' is not of the right type. Got '<class 'bool'>', expected '<class 'aiida.orm.nodes.data.structure.StructureData'>'",
     "output_type": "error",
     "traceback": [
      "\u001b[0;31m---------------------------------------------------------------------------\u001b[0m",
      "\u001b[0;31mValueError\u001b[0m                                Traceback (most recent call last)",
      "\u001b[0;32m<ipython-input-8-9761eb4750ab>\u001b[0m in \u001b[0;36m<module>\u001b[0;34m()\u001b[0m\n\u001b[1;32m      1\u001b[0m \u001b[0mbuilder\u001b[0m \u001b[0;34m=\u001b[0m \u001b[0mNebWorkChain\u001b[0m\u001b[0;34m.\u001b[0m\u001b[0mget_builder\u001b[0m\u001b[0;34m(\u001b[0m\u001b[0;34m)\u001b[0m\u001b[0;34m\u001b[0m\u001b[0;34m\u001b[0m\u001b[0m\n\u001b[1;32m      2\u001b[0m \u001b[0mbuilder\u001b[0m\u001b[0;34m.\u001b[0m\u001b[0mcp2k_code\u001b[0m \u001b[0;34m=\u001b[0m \u001b[0mcomputer_code_dropdown\u001b[0m\u001b[0;34m.\u001b[0m\u001b[0mselected_code\u001b[0m\u001b[0;34m\u001b[0m\u001b[0;34m\u001b[0m\u001b[0m\n\u001b[0;32m----> 3\u001b[0;31m \u001b[0mbuilder\u001b[0m\u001b[0;34m.\u001b[0m\u001b[0mstructure\u001b[0m \u001b[0;34m=\u001b[0m \u001b[0mstruct_browser\u001b[0m\u001b[0;34m.\u001b[0m\u001b[0mresults\u001b[0m\u001b[0;34m.\u001b[0m\u001b[0mvalue\u001b[0m\u001b[0;34m\u001b[0m\u001b[0;34m\u001b[0m\u001b[0m\n\u001b[0m\u001b[1;32m      4\u001b[0m \u001b[0mbuilder\u001b[0m\u001b[0;34m.\u001b[0m\u001b[0mmax_force\u001b[0m \u001b[0;34m=\u001b[0m \u001b[0mFloat\u001b[0m\u001b[0;34m(\u001b[0m\u001b[0mdft_details_widget\u001b[0m\u001b[0;34m.\u001b[0m\u001b[0mmax_force\u001b[0m\u001b[0;34m.\u001b[0m\u001b[0mvalue\u001b[0m\u001b[0;34m)\u001b[0m\u001b[0;34m\u001b[0m\u001b[0;34m\u001b[0m\u001b[0m\n\u001b[1;32m      5\u001b[0m \u001b[0mbuilder\u001b[0m\u001b[0;34m.\u001b[0m\u001b[0mcalc_type\u001b[0m \u001b[0;34m=\u001b[0m \u001b[0mStr\u001b[0m\u001b[0;34m(\u001b[0m\u001b[0mdft_details_widget\u001b[0m\u001b[0;34m.\u001b[0m\u001b[0mcalc_type\u001b[0m\u001b[0;34m.\u001b[0m\u001b[0mvalue\u001b[0m\u001b[0;34m)\u001b[0m\u001b[0;34m\u001b[0m\u001b[0;34m\u001b[0m\u001b[0m\n",
      "\u001b[0;32m/project/.local/lib/python3.6/site-packages/aiida/engine/processes/builder.py\u001b[0m in \u001b[0;36m__setattr__\u001b[0;34m(self, attr, value)\u001b[0m\n\u001b[1;32m     95\u001b[0m                 \u001b[0mvalidation_error\u001b[0m \u001b[0;34m=\u001b[0m \u001b[0mport\u001b[0m\u001b[0;34m.\u001b[0m\u001b[0mvalidate\u001b[0m\u001b[0;34m(\u001b[0m\u001b[0mvalue\u001b[0m\u001b[0;34m)\u001b[0m\u001b[0;34m\u001b[0m\u001b[0;34m\u001b[0m\u001b[0m\n\u001b[1;32m     96\u001b[0m                 \u001b[0;32mif\u001b[0m \u001b[0mvalidation_error\u001b[0m\u001b[0;34m:\u001b[0m\u001b[0;34m\u001b[0m\u001b[0;34m\u001b[0m\u001b[0m\n\u001b[0;32m---> 97\u001b[0;31m                     \u001b[0;32mraise\u001b[0m \u001b[0mValueError\u001b[0m\u001b[0;34m(\u001b[0m\u001b[0;34m'invalid attribute value {}'\u001b[0m\u001b[0;34m.\u001b[0m\u001b[0mformat\u001b[0m\u001b[0;34m(\u001b[0m\u001b[0mvalidation_error\u001b[0m\u001b[0;34m.\u001b[0m\u001b[0mmessage\u001b[0m\u001b[0;34m)\u001b[0m\u001b[0;34m)\u001b[0m\u001b[0;34m\u001b[0m\u001b[0;34m\u001b[0m\u001b[0m\n\u001b[0m\u001b[1;32m     98\u001b[0m \u001b[0;34m\u001b[0m\u001b[0m\n\u001b[1;32m     99\u001b[0m             \u001b[0mself\u001b[0m\u001b[0;34m.\u001b[0m\u001b[0m_data\u001b[0m\u001b[0;34m[\u001b[0m\u001b[0mattr\u001b[0m\u001b[0;34m]\u001b[0m \u001b[0;34m=\u001b[0m \u001b[0mvalue\u001b[0m\u001b[0;34m\u001b[0m\u001b[0;34m\u001b[0m\u001b[0m\n",
      "\u001b[0;31mValueError\u001b[0m: invalid attribute value value 'structure' is not of the right type. Got '<class 'bool'>', expected '<class 'aiida.orm.nodes.data.structure.StructureData'>'"
     ]
    }
   ],
   "source": [
    "builder = NebWorkChain.get_builder()\n",
    "builder.cp2k_code = computer_code_dropdown.selected_code\n",
    "builder.structure = struct_browser.results.value\n",
    "builder.max_force = Float(dft_details_widget.max_force.value)\n",
    "builder.calc_type = Str(dft_details_widget.calc_type.value)\n",
    "#builder.workchain = \n",
    "builder.vdw_switch = Bool(dft_details_widget.vdw_switch.value)\n",
    "builder.mgrid_cutoff = Int(dft_details_widget.mgrid_cutoff.value)\n",
    "builder.fixed_atoms = Str(dft_details_widget.fixed_atoms)\n",
    "builder.num_machines = Int(num_nodes_selector.value)\n",
    "builder.struc_folder = neb_details_widget.struct_folder\n",
    "builder.wfn_cp_commands = neb_details_widget.aiida_wfn_cp_list\n",
    "builder.calc_name = Str(calc_name_selector.value)\n",
    "builder.nproc_rep = Int(neb_details_widget.proc_rep.value)\n",
    "builder.nreplicas = Int(neb_details_widget.num_rep.value)\n",
    "builder.spring = Float(neb_details_widget.spring_constant.value)\n",
    "builder.rotate = Bool(neb_details_widget.rotate_frames.value)\n",
    "builder.align = Bool(neb_details_widget.align_frames.value)\n",
    "builder.nstepsit = Int(neb_details_widget.nsteps_it.value)\n",
    "builder.endpoints = Bool(neb_details_widget.optimize_endpoints.value)\n",
    "builder.replica_pks = Str(neb_details_widget.text_replica_pks.value)"
   ]
  },
  {
   "cell_type": "code",
   "execution_count": null,
   "metadata": {},
   "outputs": [],
   "source": [
    "builder = NebWorkChain.get_builder()\n",
    "builder.cp2k_code = computer_code_dropdown.selected_code\n",
    "builder.structure = struct_browser.results.value\n",
    "builder.max_force = Float(dft_details_widget.max_force.value)\n",
    "builder.calc_type = Str(dft_details_widget.calc_type.value)\n",
    "#builder.workchain = \n",
    "builder.vdw_switch = Bool(dft_details_widget.vdw_switch.value)\n",
    "builder.mgrid_cutoff = Int(dft_details_widget.mgrid_cutoff.value)\n",
    "builder.fixed_atoms = Str(dft_details_widget.fixed_atoms)\n",
    "builder.num_machines = Int(num_nodes_selector.value)\n",
    "builder.struc_folder = neb_details_widget.struct_folder\n",
    "builder.wfn_cp_commands = neb_details_widget.aiida_wfn_cp_list\n",
    "builder.calc_name = Str(calc_name_selector.value)\n",
    "builder.nproc_rep = Int(neb_details_widget.proc_rep.value)\n",
    "builder.nreplicas = Int(neb_details_widget.num_rep.value)\n",
    "builder.spring = Float(neb_details_widget.spring_constant.value)\n",
    "builder.rotate = Bool(neb_details_widget.rotate_frames.value)\n",
    "builder.align = Bool(neb_details_widget.align_frames.value)\n",
    "builder.nstepsit = Int(neb_details_widget.nsteps_it.value)\n",
    "builder.endpoints = Bool(neb_details_widget.optimize_endpoints.value)\n",
    "builder.replica_pks = Str(neb_details_widget.text_replica_pks.value)\n",
    "\n",
    "\n",
    "builder.cp2k_code = load_node(975)\n",
    "builder.structure = load_node(974)\n",
    "builder.num_machines = Int(1)\n",
    "builder.calc_name = Str(\"c2h2 test\")\n",
    "#builder.cell\n",
    "builder.fixed_atoms = Str(\"\")\n",
    "builder.colvar_targets = Str(\"1.3 1.5 1.7 2.0\")\n",
    "builder.target_unit = Str('angstrom')\n",
    "builder.spring = Float(30.0)\n",
    "builder.spring_unit = Str('eV/angstrom^2')\n",
    "builder.subsys_colvar = Dict(dict={'DISTANCE': {'ATOMS': '2 3 '}})\n",
    "builder.calc_type = Str('Full DFT')\n",
    "builder.mgrid_cutoff = Int(600)\n",
    "builder.metadata = {\n",
    "    \"description\": \"c2h2 test\",\n",
    "    \"label\": \"ReplicaWorkChain\",\n",
    "}\n",
    "print(\"----\")\n",
    "print(builder)\n",
    "print(\"----\")"
   ]
  },
  {
   "cell_type": "code",
   "execution_count": null,
   "metadata": {},
   "outputs": [],
   "source": [
    "\n",
    "#display submit button\n",
    "btn_submit = SubmitButton(the_workchain=the_workchain,job_details=job_details)\n",
    "display(btn_submit)"
   ]
  },
  {
   "cell_type": "code",
   "execution_count": null,
   "metadata": {},
   "outputs": [],
   "source": []
  }
 ],
 "metadata": {
  "kernelspec": {
   "display_name": "Python 3",
   "language": "python",
   "name": "python3"
  },
  "language_info": {
   "codemirror_mode": {
    "name": "ipython",
    "version": 3
   },
   "file_extension": ".py",
   "mimetype": "text/x-python",
   "name": "python",
   "nbconvert_exporter": "python",
   "pygments_lexer": "ipython3",
   "version": "3.6.8"
  }
 },
 "nbformat": 4,
 "nbformat_minor": 2
}
