{
 "cells": [
  {
   "cell_type": "code",
   "execution_count": 1,
   "metadata": {},
   "outputs": [
    {
     "data": {
      "application/json": {
       "current_state": "Loaded AiiDA DB environment."
      },
      "text/html": [
       "<p>Loaded AiiDA DB environment.</p>"
      ],
      "text/latex": [
       "Loaded AiiDA DB environment.\n"
      ],
      "text/plain": [
       "Loaded AiiDA DB environment.\n"
      ]
     },
     "execution_count": 1,
     "metadata": {},
     "output_type": "execute_result"
    }
   ],
   "source": [
    "%aiida"
   ]
  },
  {
   "cell_type": "code",
   "execution_count": 2,
   "metadata": {},
   "outputs": [
    {
     "data": {
      "application/vnd.jupyter.widget-view+json": {
       "model_id": "7cf0f945822c4923a0d0628bc2f24497",
       "version_major": 2,
       "version_minor": 0
      },
      "text/plain": [
       "_ColormakerRegistry()"
      ]
     },
     "metadata": {},
     "output_type": "display_data"
    }
   ],
   "source": [
    "import nglview\n",
    "import numpy as np\n",
    "import ipywidgets as ipw\n",
    "from collections import OrderedDict\n",
    "from IPython.display import display, clear_output, HTML\n",
    "import nglview\n",
    "\n",
    "from aiida.orm import Int, Float, Str, Bool\n",
    "\n",
    "from aiidalab_widgets_base import CodeDropdown, SubmitButtonWidget, StructureBrowserWidget\n",
    "from aiida.engine import submit, run, run_get_node\n",
    "\n",
    "\n",
    "#from apps.surfaces.widgets.computer_code_selection import ComputerCodeDropdown\n",
    "from apps.surfaces.widgets.dft_details_dev import DFTDetails\n",
    "from apps.surfaces.widgets.viewer_details import ViewerDetails\n",
    "from apps.surfaces.widgets.slab_validity import slab_is_valid\n",
    "from apps.surfaces.widgets.suggested_param import suggested_parameters\n",
    "#from apps.surfaces.widgets.submit_button import SubmitButton\n",
    "\n",
    "from ase.data import vdw_radii\n",
    "\n",
    "from apps.surfaces.widgets import analyze_structure\n",
    "from apps.surfaces.widgets.metadata import MetadataWidget\n",
    "\n",
    "\n",
    "#ReplicaWorkChain = WorkflowFactory('replica')\n",
    "\n",
    "from apps.surfaces.reactions.workchains import ReplicaWorkChain\n",
    "\n",
    "from apps.surfaces.widgets.collective_variable_widget import CollectiveVariableWidget"
   ]
  },
  {
   "cell_type": "code",
   "execution_count": 3,
   "metadata": {},
   "outputs": [
    {
     "data": {
      "application/javascript": [
       "IPython.OutputArea.prototype._should_scroll = function(lines) {\n",
       "    return false;\n",
       "}\n"
      ],
      "text/plain": [
       "<IPython.core.display.Javascript object>"
      ]
     },
     "metadata": {},
     "output_type": "display_data"
    }
   ],
   "source": [
    "%%javascript\n",
    "IPython.OutputArea.prototype._should_scroll = function(lines) {\n",
    "    return false;\n",
    "}"
   ]
  },
  {
   "cell_type": "code",
   "execution_count": 4,
   "metadata": {},
   "outputs": [],
   "source": [
    "## GENERAL PARAMETERS\n",
    "\n",
    "the_workchain = ReplicaWorkChain\n",
    "job_details = {'workchain':'ReplicaWorkChain'}\n",
    "\n",
    "atoms = None"
   ]
  },
  {
   "cell_type": "code",
   "execution_count": null,
   "metadata": {},
   "outputs": [],
   "source": []
  },
  {
   "cell_type": "code",
   "execution_count": 7,
   "metadata": {},
   "outputs": [],
   "source": [
    "replica_calc = load_node(458)"
   ]
  },
  {
   "cell_type": "code",
   "execution_count": 12,
   "metadata": {},
   "outputs": [
    {
     "data": {
      "text/plain": [
       "['replica_abc']"
      ]
     },
     "execution_count": 12,
     "metadata": {},
     "output_type": "execute_result"
    }
   ],
   "source": [
    "list(replica_calc.outputs)"
   ]
  },
  {
   "cell_type": "code",
   "execution_count": null,
   "metadata": {},
   "outputs": [],
   "source": []
  },
  {
   "cell_type": "code",
   "execution_count": null,
   "metadata": {},
   "outputs": [],
   "source": []
  },
  {
   "cell_type": "code",
   "execution_count": 5,
   "metadata": {},
   "outputs": [
    {
     "name": "stdout",
     "output_type": "stream",
     "text": [
      "----\n",
      "{'metadata': {'description': 'h2 test', 'label': 'ReplicaWorkChain'}, 'cp2k_code': <Code: Remote code 'cp2k_6.1' on daint-gpu-s904, pk: 195, uuid: 62dc1567-8586-4077-8dd0-29b184597863>, 'structure': <StructureData: uuid: 61f0b08b-e6c2-4c29-8900-21867111cc28 (pk: 430)>, 'num_machines': <Int: uuid: 23b398e5-39fd-4cae-9ac2-2fc8cc7a1bc3 (unstored) value: 1>, 'calc_name': <Str: uuid: b6e99877-69fd-4c8c-bb85-e2daf711e46f (unstored) value: h2 test>, 'fixed_atoms': <Str: uuid: 68632db9-d3b4-4d58-8232-6949284a3522 (unstored) value: >, 'colvar_targets': <Str: uuid: adc3b5b8-9755-4bfd-b3f2-78f34781130d (unstored) value: 1.1 1.2>, 'target_unit': <Str: uuid: 993cf524-f7da-44ae-8682-96c594980f79 (unstored) value: angstrom>, 'spring': <Float: uuid: 379fa3b5-ee0d-45ad-a3f5-ecdc759893c7 (unstored) value: 30.0>, 'spring_unit': <Str: uuid: b42c58f0-7489-4b3d-bd17-729a8960943e (unstored) value: eV/angstrom^2>, 'subsys_colvar': <Dict: uuid: 9100f27b-11e8-43c5-a64b-3c5d6bffbdf4 (unstored)>, 'calc_type': <Str: uuid: 37766e15-2580-454a-ae14-f2d944afc293 (unstored) value: Full DFT>, 'mgrid_cutoff': <Int: uuid: 8d500290-f1db-4e3a-9eb1-002a1447a608 (unstored) value: 600>, 'max_force': <Float: uuid: acadd7f1-6314-4580-8774-8c3b142042c5 (unstored) value: 0.0001>, 'dftd3_switch': <Bool: uuid: 895e83b4-dab5-4c98-91b2-4509000daf07 (unstored) value: True>}\n",
      "----\n"
     ]
    }
   ],
   "source": [
    "builder = ReplicaWorkChain.get_builder()\n",
    "builder.cp2k_code = load_node(195)\n",
    "builder.structure = load_node(430)\n",
    "builder.num_machines = Int(1)\n",
    "builder.calc_name = Str(\"h2 test\")\n",
    "#builder.cell\n",
    "builder.fixed_atoms = Str(\"\")\n",
    "builder.colvar_targets = Str(\"1.1 1.2\")\n",
    "builder.target_unit = Str('angstrom')\n",
    "builder.spring = Float(30.0)\n",
    "builder.spring_unit = Str('eV/angstrom^2')\n",
    "builder.subsys_colvar = Dict(dict={'DISTANCE': {'ATOMS': '1 2'}})\n",
    "builder.calc_type = Str('Full DFT')\n",
    "builder.mgrid_cutoff = Int(600)\n",
    "builder.max_force = Float(0.0001)\n",
    "builder.dftd3_switch = Bool(True)\n",
    "builder.metadata = {\n",
    "    \"description\": \"h2 test\",\n",
    "    \"label\": \"ReplicaWorkChain\",\n",
    "}\n",
    "print(\"----\")\n",
    "print(builder)\n",
    "print(\"----\")"
   ]
  },
  {
   "cell_type": "code",
   "execution_count": null,
   "metadata": {},
   "outputs": [
    {
     "name": "stderr",
     "output_type": "stream",
     "text": [
      "04/03/2020 02:14:30 PM <8511> aiida.orm.nodes.process.workflow.workchain.WorkChainNode: [REPORT] [1018|ReplicaWorkChain|initialize]: Init generate replicas\n",
      "04/03/2020 02:14:30 PM <8511> aiida.orm.nodes.process.workflow.workchain.WorkChainNode: [REPORT] [1018|ReplicaWorkChain|initialize]: #2 replicas\n",
      "04/03/2020 02:14:30 PM <8511> aiida.orm.nodes.process.workflow.workchain.WorkChainNode: [REPORT] [1018|ReplicaWorkChain|next_replica]: Go to replica - 2\n",
      "04/03/2020 02:14:30 PM <8511> aiida.orm.nodes.process.workflow.workchain.WorkChainNode: [REPORT] [1018|ReplicaWorkChain|next_replica]: Remaining list: ['1.1', '1.2'] (2)\n",
      "04/03/2020 02:14:30 PM <8511> aiida.orm.nodes.process.workflow.workchain.WorkChainNode: [REPORT] [1018|ReplicaWorkChain|generate_replica]: Running CP2K geometry optimization - Target: 1.1\n",
      "04/03/2020 02:14:31 PM <8511> aiida.orm.nodes.process.workflow.workchain.WorkChainNode: [REPORT] [1018|ReplicaWorkChain|generate_replica]:  \n",
      "04/03/2020 02:14:31 PM <8511> aiida.orm.nodes.process.workflow.workchain.WorkChainNode: [REPORT] [1018|ReplicaWorkChain|generate_replica]: inputs: {'metadata': {'label': 'replica_geo_opt', 'description': 'replica_h2 test_1.1', 'options': {'resources': {'num_machines': 1}, 'max_wallclock_seconds': 86000}}, 'code': <Code: Remote code 'cp2k_6.1' on daint-gpu-s904, pk: 195, uuid: 62dc1567-8586-4077-8dd0-29b184597863>, 'file': {'molslab_coords': <SinglefileData: uuid: ca67af97-e124-43d3-a6ad-b24c94d17e5d (unstored)>}, 'parameters': <Dict: uuid: 9451f38d-3d90-40f5-b502-b9ec2845bda6 (unstored)>, 'settings': <Dict: uuid: 5f7ef93f-57d2-4ac8-993d-952572d1932b (unstored)>}\n",
      "04/03/2020 02:14:31 PM <8511> aiida.orm.nodes.process.workflow.workchain.WorkChainNode: [REPORT] [1018|ReplicaWorkChain|generate_replica]:  \n",
      "04/03/2020 02:14:31 PM <8511> aiida.orm.nodes.process.workflow.workchain.WorkChainNode: [REPORT] [1018|ReplicaWorkChain|generate_replica]: future: uuid: ce8b4a23-943a-485c-82cf-dfe738562cd2 (pk: 1022) (aiida.calculations:cp2k)\n",
      "04/03/2020 02:14:31 PM <8511> aiida.orm.nodes.process.workflow.workchain.WorkChainNode: [REPORT] [1018|ReplicaWorkChain|generate_replica]:  \n",
      "04/03/2020 02:22:37 PM <8511> paramiko.transport: [ERROR] Exception: ProxyCommand(\"ssh -q -Y keimre@ela.cscs.ch netcat daint.cscs.ch 22\") returned nonzero exit status: Broken pipe\n",
      "04/03/2020 02:22:37 PM <8511> paramiko.transport: [ERROR] Traceback (most recent call last):\n",
      "04/03/2020 02:22:37 PM <8511> paramiko.transport: [ERROR]   File \"/opt/conda/lib/python3.7/site-packages/paramiko/proxy.py\", line 79, in send\n",
      "04/03/2020 02:22:37 PM <8511> paramiko.transport: [ERROR]     self.process.stdin.write(content)\n",
      "04/03/2020 02:22:37 PM <8511> paramiko.transport: [ERROR] BrokenPipeError: [Errno 32] Broken pipe\n",
      "04/03/2020 02:22:37 PM <8511> paramiko.transport: [ERROR] \n",
      "04/03/2020 02:22:37 PM <8511> paramiko.transport: [ERROR] During handling of the above exception, another exception occurred:\n",
      "04/03/2020 02:22:37 PM <8511> paramiko.transport: [ERROR] \n",
      "04/03/2020 02:22:37 PM <8511> paramiko.transport: [ERROR] Traceback (most recent call last):\n",
      "04/03/2020 02:22:37 PM <8511> paramiko.transport: [ERROR]   File \"/opt/conda/lib/python3.7/site-packages/paramiko/transport.py\", line 2088, in run\n",
      "04/03/2020 02:22:37 PM <8511> paramiko.transport: [ERROR]     self._channel_handler_table[ptype](chan, m)\n",
      "04/03/2020 02:22:37 PM <8511> paramiko.transport: [ERROR]   File \"/opt/conda/lib/python3.7/site-packages/paramiko/channel.py\", line 1187, in _handle_close\n",
      "04/03/2020 02:22:37 PM <8511> paramiko.transport: [ERROR]     self.transport._send_user_message(m)\n",
      "04/03/2020 02:22:37 PM <8511> paramiko.transport: [ERROR]   File \"/opt/conda/lib/python3.7/site-packages/paramiko/transport.py\", line 1863, in _send_user_message\n",
      "04/03/2020 02:22:37 PM <8511> paramiko.transport: [ERROR]     self._send_message(data)\n",
      "04/03/2020 02:22:37 PM <8511> paramiko.transport: [ERROR]   File \"/opt/conda/lib/python3.7/site-packages/paramiko/transport.py\", line 1839, in _send_message\n",
      "04/03/2020 02:22:37 PM <8511> paramiko.transport: [ERROR]     self.packetizer.send_message(data)\n",
      "04/03/2020 02:22:37 PM <8511> paramiko.transport: [ERROR]   File \"/opt/conda/lib/python3.7/site-packages/paramiko/packet.py\", line 431, in send_message\n",
      "04/03/2020 02:22:37 PM <8511> paramiko.transport: [ERROR]     self.write_all(out)\n",
      "04/03/2020 02:22:37 PM <8511> paramiko.transport: [ERROR]   File \"/opt/conda/lib/python3.7/site-packages/paramiko/packet.py\", line 336, in write_all\n",
      "04/03/2020 02:22:37 PM <8511> paramiko.transport: [ERROR]     n = self.__socket.send(out)\n",
      "04/03/2020 02:22:37 PM <8511> paramiko.transport: [ERROR]   File \"/opt/conda/lib/python3.7/site-packages/paramiko/proxy.py\", line 85, in send\n",
      "04/03/2020 02:22:37 PM <8511> paramiko.transport: [ERROR]     raise ProxyCommandFailure(\" \".join(self.cmd), e.strerror)\n",
      "04/03/2020 02:22:37 PM <8511> paramiko.transport: [ERROR] paramiko.ssh_exception.ProxyCommandFailure: ProxyCommand(\"ssh -q -Y keimre@ela.cscs.ch netcat daint.cscs.ch 22\") returned nonzero exit status: Broken pipe\n",
      "04/03/2020 02:22:37 PM <8511> paramiko.transport: [ERROR] \n",
      "04/03/2020 02:48:09 PM <8511> paramiko.transport: [ERROR] Exception: ProxyCommand(\"ssh -q -Y keimre@ela.cscs.ch netcat daint.cscs.ch 22\") returned nonzero exit status: Broken pipe\n",
      "04/03/2020 02:48:09 PM <8511> paramiko.transport: [ERROR] Traceback (most recent call last):\n",
      "04/03/2020 02:48:09 PM <8511> paramiko.transport: [ERROR]   File \"/opt/conda/lib/python3.7/site-packages/paramiko/proxy.py\", line 79, in send\n",
      "04/03/2020 02:48:09 PM <8511> paramiko.transport: [ERROR]     self.process.stdin.write(content)\n",
      "04/03/2020 02:48:09 PM <8511> paramiko.transport: [ERROR] BrokenPipeError: [Errno 32] Broken pipe\n",
      "04/03/2020 02:48:09 PM <8511> paramiko.transport: [ERROR] \n",
      "04/03/2020 02:48:09 PM <8511> paramiko.transport: [ERROR] During handling of the above exception, another exception occurred:\n",
      "04/03/2020 02:48:09 PM <8511> paramiko.transport: [ERROR] \n",
      "04/03/2020 02:48:09 PM <8511> paramiko.transport: [ERROR] Traceback (most recent call last):\n",
      "04/03/2020 02:48:09 PM <8511> paramiko.transport: [ERROR]   File \"/opt/conda/lib/python3.7/site-packages/paramiko/transport.py\", line 2088, in run\n",
      "04/03/2020 02:48:09 PM <8511> paramiko.transport: [ERROR]     self._channel_handler_table[ptype](chan, m)\n",
      "04/03/2020 02:48:09 PM <8511> paramiko.transport: [ERROR]   File \"/opt/conda/lib/python3.7/site-packages/paramiko/channel.py\", line 1187, in _handle_close\n",
      "04/03/2020 02:48:09 PM <8511> paramiko.transport: [ERROR]     self.transport._send_user_message(m)\n",
      "04/03/2020 02:48:09 PM <8511> paramiko.transport: [ERROR]   File \"/opt/conda/lib/python3.7/site-packages/paramiko/transport.py\", line 1863, in _send_user_message\n",
      "04/03/2020 02:48:09 PM <8511> paramiko.transport: [ERROR]     self._send_message(data)\n",
      "04/03/2020 02:48:09 PM <8511> paramiko.transport: [ERROR]   File \"/opt/conda/lib/python3.7/site-packages/paramiko/transport.py\", line 1839, in _send_message\n",
      "04/03/2020 02:48:09 PM <8511> paramiko.transport: [ERROR]     self.packetizer.send_message(data)\n",
      "04/03/2020 02:48:09 PM <8511> paramiko.transport: [ERROR]   File \"/opt/conda/lib/python3.7/site-packages/paramiko/packet.py\", line 431, in send_message\n",
      "04/03/2020 02:48:09 PM <8511> paramiko.transport: [ERROR]     self.write_all(out)\n",
      "04/03/2020 02:48:09 PM <8511> paramiko.transport: [ERROR]   File \"/opt/conda/lib/python3.7/site-packages/paramiko/packet.py\", line 336, in write_all\n",
      "04/03/2020 02:48:09 PM <8511> paramiko.transport: [ERROR]     n = self.__socket.send(out)\n",
      "04/03/2020 02:48:09 PM <8511> paramiko.transport: [ERROR]   File \"/opt/conda/lib/python3.7/site-packages/paramiko/proxy.py\", line 85, in send\n",
      "04/03/2020 02:48:09 PM <8511> paramiko.transport: [ERROR]     raise ProxyCommandFailure(\" \".join(self.cmd), e.strerror)\n",
      "04/03/2020 02:48:09 PM <8511> paramiko.transport: [ERROR] paramiko.ssh_exception.ProxyCommandFailure: ProxyCommand(\"ssh -q -Y keimre@ela.cscs.ch netcat daint.cscs.ch 22\") returned nonzero exit status: Broken pipe\n",
      "04/03/2020 02:48:09 PM <8511> paramiko.transport: [ERROR] \n",
      "04/03/2020 02:53:46 PM <8511> paramiko.transport: [ERROR] Exception: ProxyCommand(\"ssh -q -Y keimre@ela.cscs.ch netcat daint.cscs.ch 22\") returned nonzero exit status: Broken pipe\n"
     ]
    },
    {
     "name": "stderr",
     "output_type": "stream",
     "text": [
      "04/03/2020 02:53:46 PM <8511> paramiko.transport: [ERROR] Traceback (most recent call last):\n",
      "04/03/2020 02:53:46 PM <8511> paramiko.transport: [ERROR]   File \"/opt/conda/lib/python3.7/site-packages/paramiko/proxy.py\", line 79, in send\n",
      "04/03/2020 02:53:46 PM <8511> paramiko.transport: [ERROR]     self.process.stdin.write(content)\n",
      "04/03/2020 02:53:46 PM <8511> paramiko.transport: [ERROR] BrokenPipeError: [Errno 32] Broken pipe\n",
      "04/03/2020 02:53:46 PM <8511> paramiko.transport: [ERROR] \n",
      "04/03/2020 02:53:46 PM <8511> paramiko.transport: [ERROR] During handling of the above exception, another exception occurred:\n",
      "04/03/2020 02:53:46 PM <8511> paramiko.transport: [ERROR] \n",
      "04/03/2020 02:53:46 PM <8511> paramiko.transport: [ERROR] Traceback (most recent call last):\n",
      "04/03/2020 02:53:46 PM <8511> paramiko.transport: [ERROR]   File \"/opt/conda/lib/python3.7/site-packages/paramiko/transport.py\", line 2088, in run\n",
      "04/03/2020 02:53:46 PM <8511> paramiko.transport: [ERROR]     self._channel_handler_table[ptype](chan, m)\n",
      "04/03/2020 02:53:46 PM <8511> paramiko.transport: [ERROR]   File \"/opt/conda/lib/python3.7/site-packages/paramiko/channel.py\", line 1187, in _handle_close\n",
      "04/03/2020 02:53:46 PM <8511> paramiko.transport: [ERROR]     self.transport._send_user_message(m)\n",
      "04/03/2020 02:53:46 PM <8511> paramiko.transport: [ERROR]   File \"/opt/conda/lib/python3.7/site-packages/paramiko/transport.py\", line 1863, in _send_user_message\n",
      "04/03/2020 02:53:46 PM <8511> paramiko.transport: [ERROR]     self._send_message(data)\n",
      "04/03/2020 02:53:46 PM <8511> paramiko.transport: [ERROR]   File \"/opt/conda/lib/python3.7/site-packages/paramiko/transport.py\", line 1839, in _send_message\n",
      "04/03/2020 02:53:46 PM <8511> paramiko.transport: [ERROR]     self.packetizer.send_message(data)\n",
      "04/03/2020 02:53:46 PM <8511> paramiko.transport: [ERROR]   File \"/opt/conda/lib/python3.7/site-packages/paramiko/packet.py\", line 431, in send_message\n",
      "04/03/2020 02:53:46 PM <8511> paramiko.transport: [ERROR]     self.write_all(out)\n",
      "04/03/2020 02:53:46 PM <8511> paramiko.transport: [ERROR]   File \"/opt/conda/lib/python3.7/site-packages/paramiko/packet.py\", line 336, in write_all\n",
      "04/03/2020 02:53:46 PM <8511> paramiko.transport: [ERROR]     n = self.__socket.send(out)\n",
      "04/03/2020 02:53:46 PM <8511> paramiko.transport: [ERROR]   File \"/opt/conda/lib/python3.7/site-packages/paramiko/proxy.py\", line 85, in send\n",
      "04/03/2020 02:53:46 PM <8511> paramiko.transport: [ERROR]     raise ProxyCommandFailure(\" \".join(self.cmd), e.strerror)\n",
      "04/03/2020 02:53:46 PM <8511> paramiko.transport: [ERROR] paramiko.ssh_exception.ProxyCommandFailure: ProxyCommand(\"ssh -q -Y keimre@ela.cscs.ch netcat daint.cscs.ch 22\") returned nonzero exit status: Broken pipe\n",
      "04/03/2020 02:53:46 PM <8511> paramiko.transport: [ERROR] \n",
      "04/03/2020 03:02:18 PM <8511> paramiko.transport: [ERROR] Exception: ProxyCommand(\"ssh -q -Y keimre@ela.cscs.ch netcat daint.cscs.ch 22\") returned nonzero exit status: Broken pipe\n",
      "04/03/2020 03:02:18 PM <8511> paramiko.transport: [ERROR] Traceback (most recent call last):\n",
      "04/03/2020 03:02:18 PM <8511> paramiko.transport: [ERROR]   File \"/opt/conda/lib/python3.7/site-packages/paramiko/proxy.py\", line 79, in send\n",
      "04/03/2020 03:02:18 PM <8511> paramiko.transport: [ERROR]     self.process.stdin.write(content)\n",
      "04/03/2020 03:02:18 PM <8511> paramiko.transport: [ERROR] BrokenPipeError: [Errno 32] Broken pipe\n",
      "04/03/2020 03:02:18 PM <8511> paramiko.transport: [ERROR] \n",
      "04/03/2020 03:02:18 PM <8511> paramiko.transport: [ERROR] During handling of the above exception, another exception occurred:\n",
      "04/03/2020 03:02:18 PM <8511> paramiko.transport: [ERROR] \n",
      "04/03/2020 03:02:18 PM <8511> paramiko.transport: [ERROR] Traceback (most recent call last):\n",
      "04/03/2020 03:02:18 PM <8511> paramiko.transport: [ERROR]   File \"/opt/conda/lib/python3.7/site-packages/paramiko/transport.py\", line 2088, in run\n",
      "04/03/2020 03:02:18 PM <8511> paramiko.transport: [ERROR]     self._channel_handler_table[ptype](chan, m)\n",
      "04/03/2020 03:02:18 PM <8511> paramiko.transport: [ERROR]   File \"/opt/conda/lib/python3.7/site-packages/paramiko/channel.py\", line 1187, in _handle_close\n",
      "04/03/2020 03:02:18 PM <8511> paramiko.transport: [ERROR]     self.transport._send_user_message(m)\n",
      "04/03/2020 03:02:18 PM <8511> paramiko.transport: [ERROR]   File \"/opt/conda/lib/python3.7/site-packages/paramiko/transport.py\", line 1863, in _send_user_message\n",
      "04/03/2020 03:02:18 PM <8511> paramiko.transport: [ERROR]     self._send_message(data)\n",
      "04/03/2020 03:02:18 PM <8511> paramiko.transport: [ERROR]   File \"/opt/conda/lib/python3.7/site-packages/paramiko/transport.py\", line 1839, in _send_message\n",
      "04/03/2020 03:02:18 PM <8511> paramiko.transport: [ERROR]     self.packetizer.send_message(data)\n",
      "04/03/2020 03:02:18 PM <8511> paramiko.transport: [ERROR]   File \"/opt/conda/lib/python3.7/site-packages/paramiko/packet.py\", line 431, in send_message\n",
      "04/03/2020 03:02:18 PM <8511> paramiko.transport: [ERROR]     self.write_all(out)\n",
      "04/03/2020 03:02:18 PM <8511> paramiko.transport: [ERROR]   File \"/opt/conda/lib/python3.7/site-packages/paramiko/packet.py\", line 336, in write_all\n",
      "04/03/2020 03:02:18 PM <8511> paramiko.transport: [ERROR]     n = self.__socket.send(out)\n",
      "04/03/2020 03:02:18 PM <8511> paramiko.transport: [ERROR]   File \"/opt/conda/lib/python3.7/site-packages/paramiko/proxy.py\", line 85, in send\n",
      "04/03/2020 03:02:18 PM <8511> paramiko.transport: [ERROR]     raise ProxyCommandFailure(\" \".join(self.cmd), e.strerror)\n",
      "04/03/2020 03:02:18 PM <8511> paramiko.transport: [ERROR] paramiko.ssh_exception.ProxyCommandFailure: ProxyCommand(\"ssh -q -Y keimre@ela.cscs.ch netcat daint.cscs.ch 22\") returned nonzero exit status: Broken pipe\n",
      "04/03/2020 03:02:18 PM <8511> paramiko.transport: [ERROR] \n",
      "04/03/2020 03:06:34 PM <8511> paramiko.transport: [ERROR] Exception: ProxyCommand(\"ssh -q -Y keimre@ela.cscs.ch netcat daint.cscs.ch 22\") returned nonzero exit status: Broken pipe\n",
      "04/03/2020 03:06:34 PM <8511> paramiko.transport: [ERROR] Traceback (most recent call last):\n",
      "04/03/2020 03:06:34 PM <8511> paramiko.transport: [ERROR]   File \"/opt/conda/lib/python3.7/site-packages/paramiko/proxy.py\", line 79, in send\n",
      "04/03/2020 03:06:34 PM <8511> paramiko.transport: [ERROR]     self.process.stdin.write(content)\n",
      "04/03/2020 03:06:34 PM <8511> paramiko.transport: [ERROR] BrokenPipeError: [Errno 32] Broken pipe\n",
      "04/03/2020 03:06:34 PM <8511> paramiko.transport: [ERROR] \n",
      "04/03/2020 03:06:34 PM <8511> paramiko.transport: [ERROR] During handling of the above exception, another exception occurred:\n",
      "04/03/2020 03:06:34 PM <8511> paramiko.transport: [ERROR] \n",
      "04/03/2020 03:06:34 PM <8511> paramiko.transport: [ERROR] Traceback (most recent call last):\n",
      "04/03/2020 03:06:34 PM <8511> paramiko.transport: [ERROR]   File \"/opt/conda/lib/python3.7/site-packages/paramiko/transport.py\", line 2088, in run\n",
      "04/03/2020 03:06:34 PM <8511> paramiko.transport: [ERROR]     self._channel_handler_table[ptype](chan, m)\n",
      "04/03/2020 03:06:34 PM <8511> paramiko.transport: [ERROR]   File \"/opt/conda/lib/python3.7/site-packages/paramiko/channel.py\", line 1187, in _handle_close\n",
      "04/03/2020 03:06:34 PM <8511> paramiko.transport: [ERROR]     self.transport._send_user_message(m)\n",
      "04/03/2020 03:06:34 PM <8511> paramiko.transport: [ERROR]   File \"/opt/conda/lib/python3.7/site-packages/paramiko/transport.py\", line 1863, in _send_user_message\n",
      "04/03/2020 03:06:34 PM <8511> paramiko.transport: [ERROR]     self._send_message(data)\n",
      "04/03/2020 03:06:34 PM <8511> paramiko.transport: [ERROR]   File \"/opt/conda/lib/python3.7/site-packages/paramiko/transport.py\", line 1839, in _send_message\n",
      "04/03/2020 03:06:34 PM <8511> paramiko.transport: [ERROR]     self.packetizer.send_message(data)\n",
      "04/03/2020 03:06:34 PM <8511> paramiko.transport: [ERROR]   File \"/opt/conda/lib/python3.7/site-packages/paramiko/packet.py\", line 431, in send_message\n",
      "04/03/2020 03:06:34 PM <8511> paramiko.transport: [ERROR]     self.write_all(out)\n",
      "04/03/2020 03:06:34 PM <8511> paramiko.transport: [ERROR]   File \"/opt/conda/lib/python3.7/site-packages/paramiko/packet.py\", line 336, in write_all\n",
      "04/03/2020 03:06:34 PM <8511> paramiko.transport: [ERROR]     n = self.__socket.send(out)\n",
      "04/03/2020 03:06:34 PM <8511> paramiko.transport: [ERROR]   File \"/opt/conda/lib/python3.7/site-packages/paramiko/proxy.py\", line 85, in send\n"
     ]
    },
    {
     "name": "stderr",
     "output_type": "stream",
     "text": [
      "04/03/2020 03:06:34 PM <8511> paramiko.transport: [ERROR]     raise ProxyCommandFailure(\" \".join(self.cmd), e.strerror)\n",
      "04/03/2020 03:06:34 PM <8511> paramiko.transport: [ERROR] paramiko.ssh_exception.ProxyCommandFailure: ProxyCommand(\"ssh -q -Y keimre@ela.cscs.ch netcat daint.cscs.ch 22\") returned nonzero exit status: Broken pipe\n",
      "04/03/2020 03:06:34 PM <8511> paramiko.transport: [ERROR] \n",
      "04/03/2020 03:10:05 PM <8511> paramiko.transport: [ERROR] Exception: ProxyCommand(\"ssh -q -Y keimre@ela.cscs.ch netcat daint.cscs.ch 22\") returned nonzero exit status: Broken pipe\n",
      "04/03/2020 03:10:05 PM <8511> paramiko.transport: [ERROR] Traceback (most recent call last):\n",
      "04/03/2020 03:10:05 PM <8511> paramiko.transport: [ERROR]   File \"/opt/conda/lib/python3.7/site-packages/paramiko/proxy.py\", line 79, in send\n",
      "04/03/2020 03:10:05 PM <8511> paramiko.transport: [ERROR]     self.process.stdin.write(content)\n",
      "04/03/2020 03:10:05 PM <8511> paramiko.transport: [ERROR] BrokenPipeError: [Errno 32] Broken pipe\n",
      "04/03/2020 03:10:05 PM <8511> paramiko.transport: [ERROR] \n",
      "04/03/2020 03:10:05 PM <8511> paramiko.transport: [ERROR] During handling of the above exception, another exception occurred:\n",
      "04/03/2020 03:10:05 PM <8511> paramiko.transport: [ERROR] \n",
      "04/03/2020 03:10:05 PM <8511> paramiko.transport: [ERROR] Traceback (most recent call last):\n",
      "04/03/2020 03:10:05 PM <8511> paramiko.transport: [ERROR]   File \"/opt/conda/lib/python3.7/site-packages/paramiko/transport.py\", line 2088, in run\n",
      "04/03/2020 03:10:05 PM <8511> paramiko.transport: [ERROR]     self._channel_handler_table[ptype](chan, m)\n",
      "04/03/2020 03:10:05 PM <8511> paramiko.transport: [ERROR]   File \"/opt/conda/lib/python3.7/site-packages/paramiko/channel.py\", line 1187, in _handle_close\n",
      "04/03/2020 03:10:05 PM <8511> paramiko.transport: [ERROR]     self.transport._send_user_message(m)\n",
      "04/03/2020 03:10:05 PM <8511> paramiko.transport: [ERROR]   File \"/opt/conda/lib/python3.7/site-packages/paramiko/transport.py\", line 1863, in _send_user_message\n",
      "04/03/2020 03:10:05 PM <8511> paramiko.transport: [ERROR]     self._send_message(data)\n",
      "04/03/2020 03:10:05 PM <8511> paramiko.transport: [ERROR]   File \"/opt/conda/lib/python3.7/site-packages/paramiko/transport.py\", line 1839, in _send_message\n",
      "04/03/2020 03:10:05 PM <8511> paramiko.transport: [ERROR]     self.packetizer.send_message(data)\n",
      "04/03/2020 03:10:05 PM <8511> paramiko.transport: [ERROR]   File \"/opt/conda/lib/python3.7/site-packages/paramiko/packet.py\", line 431, in send_message\n",
      "04/03/2020 03:10:05 PM <8511> paramiko.transport: [ERROR]     self.write_all(out)\n",
      "04/03/2020 03:10:05 PM <8511> paramiko.transport: [ERROR]   File \"/opt/conda/lib/python3.7/site-packages/paramiko/packet.py\", line 336, in write_all\n",
      "04/03/2020 03:10:05 PM <8511> paramiko.transport: [ERROR]     n = self.__socket.send(out)\n",
      "04/03/2020 03:10:05 PM <8511> paramiko.transport: [ERROR]   File \"/opt/conda/lib/python3.7/site-packages/paramiko/proxy.py\", line 85, in send\n",
      "04/03/2020 03:10:05 PM <8511> paramiko.transport: [ERROR]     raise ProxyCommandFailure(\" \".join(self.cmd), e.strerror)\n",
      "04/03/2020 03:10:05 PM <8511> paramiko.transport: [ERROR] paramiko.ssh_exception.ProxyCommandFailure: ProxyCommand(\"ssh -q -Y keimre@ela.cscs.ch netcat daint.cscs.ch 22\") returned nonzero exit status: Broken pipe\n",
      "04/03/2020 03:10:05 PM <8511> paramiko.transport: [ERROR] \n",
      "04/03/2020 03:18:34 PM <8511> paramiko.transport: [ERROR] Exception: ProxyCommand(\"ssh -q -Y keimre@ela.cscs.ch netcat daint.cscs.ch 22\") returned nonzero exit status: Broken pipe\n",
      "04/03/2020 03:18:34 PM <8511> paramiko.transport: [ERROR] Traceback (most recent call last):\n",
      "04/03/2020 03:18:34 PM <8511> paramiko.transport: [ERROR]   File \"/opt/conda/lib/python3.7/site-packages/paramiko/proxy.py\", line 79, in send\n",
      "04/03/2020 03:18:34 PM <8511> paramiko.transport: [ERROR]     self.process.stdin.write(content)\n",
      "04/03/2020 03:18:34 PM <8511> paramiko.transport: [ERROR] BrokenPipeError: [Errno 32] Broken pipe\n",
      "04/03/2020 03:18:34 PM <8511> paramiko.transport: [ERROR] \n",
      "04/03/2020 03:18:34 PM <8511> paramiko.transport: [ERROR] During handling of the above exception, another exception occurred:\n",
      "04/03/2020 03:18:34 PM <8511> paramiko.transport: [ERROR] \n",
      "04/03/2020 03:18:34 PM <8511> paramiko.transport: [ERROR] Traceback (most recent call last):\n",
      "04/03/2020 03:18:34 PM <8511> paramiko.transport: [ERROR]   File \"/opt/conda/lib/python3.7/site-packages/paramiko/transport.py\", line 2088, in run\n",
      "04/03/2020 03:18:34 PM <8511> paramiko.transport: [ERROR]     self._channel_handler_table[ptype](chan, m)\n",
      "04/03/2020 03:18:34 PM <8511> paramiko.transport: [ERROR]   File \"/opt/conda/lib/python3.7/site-packages/paramiko/channel.py\", line 1187, in _handle_close\n",
      "04/03/2020 03:18:34 PM <8511> paramiko.transport: [ERROR]     self.transport._send_user_message(m)\n",
      "04/03/2020 03:18:34 PM <8511> paramiko.transport: [ERROR]   File \"/opt/conda/lib/python3.7/site-packages/paramiko/transport.py\", line 1863, in _send_user_message\n",
      "04/03/2020 03:18:34 PM <8511> paramiko.transport: [ERROR]     self._send_message(data)\n",
      "04/03/2020 03:18:34 PM <8511> paramiko.transport: [ERROR]   File \"/opt/conda/lib/python3.7/site-packages/paramiko/transport.py\", line 1839, in _send_message\n",
      "04/03/2020 03:18:34 PM <8511> paramiko.transport: [ERROR]     self.packetizer.send_message(data)\n",
      "04/03/2020 03:18:34 PM <8511> paramiko.transport: [ERROR]   File \"/opt/conda/lib/python3.7/site-packages/paramiko/packet.py\", line 431, in send_message\n",
      "04/03/2020 03:18:34 PM <8511> paramiko.transport: [ERROR]     self.write_all(out)\n",
      "04/03/2020 03:18:34 PM <8511> paramiko.transport: [ERROR]   File \"/opt/conda/lib/python3.7/site-packages/paramiko/packet.py\", line 336, in write_all\n",
      "04/03/2020 03:18:34 PM <8511> paramiko.transport: [ERROR]     n = self.__socket.send(out)\n",
      "04/03/2020 03:18:34 PM <8511> paramiko.transport: [ERROR]   File \"/opt/conda/lib/python3.7/site-packages/paramiko/proxy.py\", line 85, in send\n",
      "04/03/2020 03:18:34 PM <8511> paramiko.transport: [ERROR]     raise ProxyCommandFailure(\" \".join(self.cmd), e.strerror)\n",
      "04/03/2020 03:18:34 PM <8511> paramiko.transport: [ERROR] paramiko.ssh_exception.ProxyCommandFailure: ProxyCommand(\"ssh -q -Y keimre@ela.cscs.ch netcat daint.cscs.ch 22\") returned nonzero exit status: Broken pipe\n",
      "04/03/2020 03:18:34 PM <8511> paramiko.transport: [ERROR] \n",
      "04/03/2020 03:19:16 PM <8511> paramiko.transport: [ERROR] Exception: ProxyCommand(\"ssh -q -Y keimre@ela.cscs.ch netcat daint.cscs.ch 22\") returned nonzero exit status: Broken pipe\n",
      "04/03/2020 03:19:16 PM <8511> paramiko.transport: [ERROR] Traceback (most recent call last):\n",
      "04/03/2020 03:19:16 PM <8511> paramiko.transport: [ERROR]   File \"/opt/conda/lib/python3.7/site-packages/paramiko/proxy.py\", line 79, in send\n",
      "04/03/2020 03:19:16 PM <8511> paramiko.transport: [ERROR]     self.process.stdin.write(content)\n",
      "04/03/2020 03:19:16 PM <8511> paramiko.transport: [ERROR] BrokenPipeError: [Errno 32] Broken pipe\n",
      "04/03/2020 03:19:16 PM <8511> paramiko.transport: [ERROR] \n",
      "04/03/2020 03:19:16 PM <8511> paramiko.transport: [ERROR] During handling of the above exception, another exception occurred:\n",
      "04/03/2020 03:19:16 PM <8511> paramiko.transport: [ERROR] \n",
      "04/03/2020 03:19:16 PM <8511> paramiko.transport: [ERROR] Traceback (most recent call last):\n",
      "04/03/2020 03:19:16 PM <8511> paramiko.transport: [ERROR]   File \"/opt/conda/lib/python3.7/site-packages/paramiko/transport.py\", line 2088, in run\n",
      "04/03/2020 03:19:16 PM <8511> paramiko.transport: [ERROR]     self._channel_handler_table[ptype](chan, m)\n",
      "04/03/2020 03:19:16 PM <8511> paramiko.transport: [ERROR]   File \"/opt/conda/lib/python3.7/site-packages/paramiko/channel.py\", line 1187, in _handle_close\n",
      "04/03/2020 03:19:16 PM <8511> paramiko.transport: [ERROR]     self.transport._send_user_message(m)\n",
      "04/03/2020 03:19:16 PM <8511> paramiko.transport: [ERROR]   File \"/opt/conda/lib/python3.7/site-packages/paramiko/transport.py\", line 1863, in _send_user_message\n",
      "04/03/2020 03:19:16 PM <8511> paramiko.transport: [ERROR]     self._send_message(data)\n",
      "04/03/2020 03:19:16 PM <8511> paramiko.transport: [ERROR]   File \"/opt/conda/lib/python3.7/site-packages/paramiko/transport.py\", line 1839, in _send_message\n",
      "04/03/2020 03:19:16 PM <8511> paramiko.transport: [ERROR]     self.packetizer.send_message(data)\n"
     ]
    },
    {
     "name": "stderr",
     "output_type": "stream",
     "text": [
      "04/03/2020 03:19:16 PM <8511> paramiko.transport: [ERROR]   File \"/opt/conda/lib/python3.7/site-packages/paramiko/packet.py\", line 431, in send_message\n",
      "04/03/2020 03:19:16 PM <8511> paramiko.transport: [ERROR]     self.write_all(out)\n",
      "04/03/2020 03:19:16 PM <8511> paramiko.transport: [ERROR]   File \"/opt/conda/lib/python3.7/site-packages/paramiko/packet.py\", line 336, in write_all\n",
      "04/03/2020 03:19:16 PM <8511> paramiko.transport: [ERROR]     n = self.__socket.send(out)\n",
      "04/03/2020 03:19:16 PM <8511> paramiko.transport: [ERROR]   File \"/opt/conda/lib/python3.7/site-packages/paramiko/proxy.py\", line 85, in send\n",
      "04/03/2020 03:19:16 PM <8511> paramiko.transport: [ERROR]     raise ProxyCommandFailure(\" \".join(self.cmd), e.strerror)\n",
      "04/03/2020 03:19:16 PM <8511> paramiko.transport: [ERROR] paramiko.ssh_exception.ProxyCommandFailure: ProxyCommand(\"ssh -q -Y keimre@ela.cscs.ch netcat daint.cscs.ch 22\") returned nonzero exit status: Broken pipe\n",
      "04/03/2020 03:19:16 PM <8511> paramiko.transport: [ERROR] \n",
      "04/03/2020 03:22:47 PM <8511> paramiko.transport: [ERROR] Exception: ProxyCommand(\"ssh -q -Y keimre@ela.cscs.ch netcat daint.cscs.ch 22\") returned nonzero exit status: Broken pipe\n",
      "04/03/2020 03:22:47 PM <8511> paramiko.transport: [ERROR] Traceback (most recent call last):\n",
      "04/03/2020 03:22:47 PM <8511> paramiko.transport: [ERROR]   File \"/opt/conda/lib/python3.7/site-packages/paramiko/proxy.py\", line 79, in send\n",
      "04/03/2020 03:22:47 PM <8511> paramiko.transport: [ERROR]     self.process.stdin.write(content)\n",
      "04/03/2020 03:22:47 PM <8511> paramiko.transport: [ERROR] BrokenPipeError: [Errno 32] Broken pipe\n",
      "04/03/2020 03:22:47 PM <8511> paramiko.transport: [ERROR] \n",
      "04/03/2020 03:22:47 PM <8511> paramiko.transport: [ERROR] During handling of the above exception, another exception occurred:\n",
      "04/03/2020 03:22:47 PM <8511> paramiko.transport: [ERROR] \n",
      "04/03/2020 03:22:47 PM <8511> paramiko.transport: [ERROR] Traceback (most recent call last):\n",
      "04/03/2020 03:22:47 PM <8511> paramiko.transport: [ERROR]   File \"/opt/conda/lib/python3.7/site-packages/paramiko/transport.py\", line 2088, in run\n",
      "04/03/2020 03:22:47 PM <8511> paramiko.transport: [ERROR]     self._channel_handler_table[ptype](chan, m)\n",
      "04/03/2020 03:22:47 PM <8511> paramiko.transport: [ERROR]   File \"/opt/conda/lib/python3.7/site-packages/paramiko/channel.py\", line 1187, in _handle_close\n",
      "04/03/2020 03:22:47 PM <8511> paramiko.transport: [ERROR]     self.transport._send_user_message(m)\n",
      "04/03/2020 03:22:47 PM <8511> paramiko.transport: [ERROR]   File \"/opt/conda/lib/python3.7/site-packages/paramiko/transport.py\", line 1863, in _send_user_message\n",
      "04/03/2020 03:22:47 PM <8511> paramiko.transport: [ERROR]     self._send_message(data)\n",
      "04/03/2020 03:22:47 PM <8511> paramiko.transport: [ERROR]   File \"/opt/conda/lib/python3.7/site-packages/paramiko/transport.py\", line 1839, in _send_message\n",
      "04/03/2020 03:22:47 PM <8511> paramiko.transport: [ERROR]     self.packetizer.send_message(data)\n",
      "04/03/2020 03:22:47 PM <8511> paramiko.transport: [ERROR]   File \"/opt/conda/lib/python3.7/site-packages/paramiko/packet.py\", line 431, in send_message\n",
      "04/03/2020 03:22:47 PM <8511> paramiko.transport: [ERROR]     self.write_all(out)\n",
      "04/03/2020 03:22:47 PM <8511> paramiko.transport: [ERROR]   File \"/opt/conda/lib/python3.7/site-packages/paramiko/packet.py\", line 336, in write_all\n",
      "04/03/2020 03:22:47 PM <8511> paramiko.transport: [ERROR]     n = self.__socket.send(out)\n",
      "04/03/2020 03:22:47 PM <8511> paramiko.transport: [ERROR]   File \"/opt/conda/lib/python3.7/site-packages/paramiko/proxy.py\", line 85, in send\n",
      "04/03/2020 03:22:47 PM <8511> paramiko.transport: [ERROR]     raise ProxyCommandFailure(\" \".join(self.cmd), e.strerror)\n",
      "04/03/2020 03:22:47 PM <8511> paramiko.transport: [ERROR] paramiko.ssh_exception.ProxyCommandFailure: ProxyCommand(\"ssh -q -Y keimre@ela.cscs.ch netcat daint.cscs.ch 22\") returned nonzero exit status: Broken pipe\n",
      "04/03/2020 03:22:47 PM <8511> paramiko.transport: [ERROR] \n",
      "04/03/2020 03:24:12 PM <8511> paramiko.transport: [ERROR] Exception: ProxyCommand(\"ssh -q -Y keimre@ela.cscs.ch netcat daint.cscs.ch 22\") returned nonzero exit status: Broken pipe\n",
      "04/03/2020 03:24:12 PM <8511> paramiko.transport: [ERROR] Traceback (most recent call last):\n",
      "04/03/2020 03:24:12 PM <8511> paramiko.transport: [ERROR]   File \"/opt/conda/lib/python3.7/site-packages/paramiko/proxy.py\", line 79, in send\n",
      "04/03/2020 03:24:12 PM <8511> paramiko.transport: [ERROR]     self.process.stdin.write(content)\n",
      "04/03/2020 03:24:12 PM <8511> paramiko.transport: [ERROR] BrokenPipeError: [Errno 32] Broken pipe\n",
      "04/03/2020 03:24:12 PM <8511> paramiko.transport: [ERROR] \n",
      "04/03/2020 03:24:12 PM <8511> paramiko.transport: [ERROR] During handling of the above exception, another exception occurred:\n",
      "04/03/2020 03:24:12 PM <8511> paramiko.transport: [ERROR] \n",
      "04/03/2020 03:24:12 PM <8511> paramiko.transport: [ERROR] Traceback (most recent call last):\n",
      "04/03/2020 03:24:12 PM <8511> paramiko.transport: [ERROR]   File \"/opt/conda/lib/python3.7/site-packages/paramiko/transport.py\", line 2088, in run\n",
      "04/03/2020 03:24:12 PM <8511> paramiko.transport: [ERROR]     self._channel_handler_table[ptype](chan, m)\n",
      "04/03/2020 03:24:12 PM <8511> paramiko.transport: [ERROR]   File \"/opt/conda/lib/python3.7/site-packages/paramiko/channel.py\", line 1187, in _handle_close\n",
      "04/03/2020 03:24:12 PM <8511> paramiko.transport: [ERROR]     self.transport._send_user_message(m)\n",
      "04/03/2020 03:24:12 PM <8511> paramiko.transport: [ERROR]   File \"/opt/conda/lib/python3.7/site-packages/paramiko/transport.py\", line 1863, in _send_user_message\n",
      "04/03/2020 03:24:12 PM <8511> paramiko.transport: [ERROR]     self._send_message(data)\n",
      "04/03/2020 03:24:12 PM <8511> paramiko.transport: [ERROR]   File \"/opt/conda/lib/python3.7/site-packages/paramiko/transport.py\", line 1839, in _send_message\n",
      "04/03/2020 03:24:12 PM <8511> paramiko.transport: [ERROR]     self.packetizer.send_message(data)\n",
      "04/03/2020 03:24:12 PM <8511> paramiko.transport: [ERROR]   File \"/opt/conda/lib/python3.7/site-packages/paramiko/packet.py\", line 431, in send_message\n",
      "04/03/2020 03:24:12 PM <8511> paramiko.transport: [ERROR]     self.write_all(out)\n",
      "04/03/2020 03:24:12 PM <8511> paramiko.transport: [ERROR]   File \"/opt/conda/lib/python3.7/site-packages/paramiko/packet.py\", line 336, in write_all\n",
      "04/03/2020 03:24:12 PM <8511> paramiko.transport: [ERROR]     n = self.__socket.send(out)\n",
      "04/03/2020 03:24:12 PM <8511> paramiko.transport: [ERROR]   File \"/opt/conda/lib/python3.7/site-packages/paramiko/proxy.py\", line 85, in send\n",
      "04/03/2020 03:24:12 PM <8511> paramiko.transport: [ERROR]     raise ProxyCommandFailure(\" \".join(self.cmd), e.strerror)\n",
      "04/03/2020 03:24:12 PM <8511> paramiko.transport: [ERROR] paramiko.ssh_exception.ProxyCommandFailure: ProxyCommand(\"ssh -q -Y keimre@ela.cscs.ch netcat daint.cscs.ch 22\") returned nonzero exit status: Broken pipe\n",
      "04/03/2020 03:24:12 PM <8511> paramiko.transport: [ERROR] \n",
      "04/03/2020 03:34:04 PM <8511> paramiko.transport: [ERROR] Exception: ProxyCommand(\"ssh -q -Y keimre@ela.cscs.ch netcat daint.cscs.ch 22\") returned nonzero exit status: Broken pipe\n",
      "04/03/2020 03:34:04 PM <8511> paramiko.transport: [ERROR] Traceback (most recent call last):\n",
      "04/03/2020 03:34:04 PM <8511> paramiko.transport: [ERROR]   File \"/opt/conda/lib/python3.7/site-packages/paramiko/proxy.py\", line 79, in send\n",
      "04/03/2020 03:34:04 PM <8511> paramiko.transport: [ERROR]     self.process.stdin.write(content)\n",
      "04/03/2020 03:34:04 PM <8511> paramiko.transport: [ERROR] BrokenPipeError: [Errno 32] Broken pipe\n",
      "04/03/2020 03:34:04 PM <8511> paramiko.transport: [ERROR] \n",
      "04/03/2020 03:34:04 PM <8511> paramiko.transport: [ERROR] During handling of the above exception, another exception occurred:\n",
      "04/03/2020 03:34:04 PM <8511> paramiko.transport: [ERROR] \n",
      "04/03/2020 03:34:04 PM <8511> paramiko.transport: [ERROR] Traceback (most recent call last):\n",
      "04/03/2020 03:34:04 PM <8511> paramiko.transport: [ERROR]   File \"/opt/conda/lib/python3.7/site-packages/paramiko/transport.py\", line 2088, in run\n",
      "04/03/2020 03:34:04 PM <8511> paramiko.transport: [ERROR]     self._channel_handler_table[ptype](chan, m)\n",
      "04/03/2020 03:34:04 PM <8511> paramiko.transport: [ERROR]   File \"/opt/conda/lib/python3.7/site-packages/paramiko/channel.py\", line 1187, in _handle_close\n"
     ]
    },
    {
     "name": "stderr",
     "output_type": "stream",
     "text": [
      "04/03/2020 03:34:04 PM <8511> paramiko.transport: [ERROR]     self.transport._send_user_message(m)\n",
      "04/03/2020 03:34:04 PM <8511> paramiko.transport: [ERROR]   File \"/opt/conda/lib/python3.7/site-packages/paramiko/transport.py\", line 1863, in _send_user_message\n",
      "04/03/2020 03:34:04 PM <8511> paramiko.transport: [ERROR]     self._send_message(data)\n",
      "04/03/2020 03:34:04 PM <8511> paramiko.transport: [ERROR]   File \"/opt/conda/lib/python3.7/site-packages/paramiko/transport.py\", line 1839, in _send_message\n",
      "04/03/2020 03:34:04 PM <8511> paramiko.transport: [ERROR]     self.packetizer.send_message(data)\n",
      "04/03/2020 03:34:04 PM <8511> paramiko.transport: [ERROR]   File \"/opt/conda/lib/python3.7/site-packages/paramiko/packet.py\", line 431, in send_message\n",
      "04/03/2020 03:34:04 PM <8511> paramiko.transport: [ERROR]     self.write_all(out)\n",
      "04/03/2020 03:34:04 PM <8511> paramiko.transport: [ERROR]   File \"/opt/conda/lib/python3.7/site-packages/paramiko/packet.py\", line 336, in write_all\n",
      "04/03/2020 03:34:04 PM <8511> paramiko.transport: [ERROR]     n = self.__socket.send(out)\n",
      "04/03/2020 03:34:04 PM <8511> paramiko.transport: [ERROR]   File \"/opt/conda/lib/python3.7/site-packages/paramiko/proxy.py\", line 85, in send\n",
      "04/03/2020 03:34:04 PM <8511> paramiko.transport: [ERROR]     raise ProxyCommandFailure(\" \".join(self.cmd), e.strerror)\n",
      "04/03/2020 03:34:04 PM <8511> paramiko.transport: [ERROR] paramiko.ssh_exception.ProxyCommandFailure: ProxyCommand(\"ssh -q -Y keimre@ela.cscs.ch netcat daint.cscs.ch 22\") returned nonzero exit status: Broken pipe\n",
      "04/03/2020 03:34:04 PM <8511> paramiko.transport: [ERROR] \n",
      "04/03/2020 03:39:42 PM <8511> paramiko.transport: [ERROR] Exception: ProxyCommand(\"ssh -q -Y keimre@ela.cscs.ch netcat daint.cscs.ch 22\") returned nonzero exit status: Broken pipe\n",
      "04/03/2020 03:39:42 PM <8511> paramiko.transport: [ERROR] Traceback (most recent call last):\n",
      "04/03/2020 03:39:42 PM <8511> paramiko.transport: [ERROR]   File \"/opt/conda/lib/python3.7/site-packages/paramiko/proxy.py\", line 79, in send\n",
      "04/03/2020 03:39:42 PM <8511> paramiko.transport: [ERROR]     self.process.stdin.write(content)\n",
      "04/03/2020 03:39:42 PM <8511> paramiko.transport: [ERROR] BrokenPipeError: [Errno 32] Broken pipe\n",
      "04/03/2020 03:39:42 PM <8511> paramiko.transport: [ERROR] \n",
      "04/03/2020 03:39:42 PM <8511> paramiko.transport: [ERROR] During handling of the above exception, another exception occurred:\n",
      "04/03/2020 03:39:42 PM <8511> paramiko.transport: [ERROR] \n",
      "04/03/2020 03:39:42 PM <8511> paramiko.transport: [ERROR] Traceback (most recent call last):\n",
      "04/03/2020 03:39:42 PM <8511> paramiko.transport: [ERROR]   File \"/opt/conda/lib/python3.7/site-packages/paramiko/transport.py\", line 2088, in run\n",
      "04/03/2020 03:39:42 PM <8511> paramiko.transport: [ERROR]     self._channel_handler_table[ptype](chan, m)\n",
      "04/03/2020 03:39:42 PM <8511> paramiko.transport: [ERROR]   File \"/opt/conda/lib/python3.7/site-packages/paramiko/channel.py\", line 1187, in _handle_close\n",
      "04/03/2020 03:39:42 PM <8511> paramiko.transport: [ERROR]     self.transport._send_user_message(m)\n",
      "04/03/2020 03:39:42 PM <8511> paramiko.transport: [ERROR]   File \"/opt/conda/lib/python3.7/site-packages/paramiko/transport.py\", line 1863, in _send_user_message\n",
      "04/03/2020 03:39:42 PM <8511> paramiko.transport: [ERROR]     self._send_message(data)\n",
      "04/03/2020 03:39:42 PM <8511> paramiko.transport: [ERROR]   File \"/opt/conda/lib/python3.7/site-packages/paramiko/transport.py\", line 1839, in _send_message\n",
      "04/03/2020 03:39:42 PM <8511> paramiko.transport: [ERROR]     self.packetizer.send_message(data)\n",
      "04/03/2020 03:39:42 PM <8511> paramiko.transport: [ERROR]   File \"/opt/conda/lib/python3.7/site-packages/paramiko/packet.py\", line 431, in send_message\n",
      "04/03/2020 03:39:42 PM <8511> paramiko.transport: [ERROR]     self.write_all(out)\n",
      "04/03/2020 03:39:42 PM <8511> paramiko.transport: [ERROR]   File \"/opt/conda/lib/python3.7/site-packages/paramiko/packet.py\", line 336, in write_all\n",
      "04/03/2020 03:39:42 PM <8511> paramiko.transport: [ERROR]     n = self.__socket.send(out)\n",
      "04/03/2020 03:39:42 PM <8511> paramiko.transport: [ERROR]   File \"/opt/conda/lib/python3.7/site-packages/paramiko/proxy.py\", line 85, in send\n",
      "04/03/2020 03:39:42 PM <8511> paramiko.transport: [ERROR]     raise ProxyCommandFailure(\" \".join(self.cmd), e.strerror)\n",
      "04/03/2020 03:39:42 PM <8511> paramiko.transport: [ERROR] paramiko.ssh_exception.ProxyCommandFailure: ProxyCommand(\"ssh -q -Y keimre@ela.cscs.ch netcat daint.cscs.ch 22\") returned nonzero exit status: Broken pipe\n",
      "04/03/2020 03:39:42 PM <8511> paramiko.transport: [ERROR] \n",
      "04/03/2020 03:51:39 PM <8511> paramiko.transport: [ERROR] Exception: ProxyCommand(\"ssh -q -Y keimre@ela.cscs.ch netcat daint.cscs.ch 22\") returned nonzero exit status: Broken pipe\n",
      "04/03/2020 03:51:39 PM <8511> paramiko.transport: [ERROR] Traceback (most recent call last):\n",
      "04/03/2020 03:51:39 PM <8511> paramiko.transport: [ERROR]   File \"/opt/conda/lib/python3.7/site-packages/paramiko/proxy.py\", line 79, in send\n",
      "04/03/2020 03:51:39 PM <8511> paramiko.transport: [ERROR]     self.process.stdin.write(content)\n",
      "04/03/2020 03:51:39 PM <8511> paramiko.transport: [ERROR] BrokenPipeError: [Errno 32] Broken pipe\n",
      "04/03/2020 03:51:39 PM <8511> paramiko.transport: [ERROR] \n",
      "04/03/2020 03:51:39 PM <8511> paramiko.transport: [ERROR] During handling of the above exception, another exception occurred:\n",
      "04/03/2020 03:51:39 PM <8511> paramiko.transport: [ERROR] \n",
      "04/03/2020 03:51:39 PM <8511> paramiko.transport: [ERROR] Traceback (most recent call last):\n",
      "04/03/2020 03:51:39 PM <8511> paramiko.transport: [ERROR]   File \"/opt/conda/lib/python3.7/site-packages/paramiko/transport.py\", line 2088, in run\n",
      "04/03/2020 03:51:39 PM <8511> paramiko.transport: [ERROR]     self._channel_handler_table[ptype](chan, m)\n",
      "04/03/2020 03:51:39 PM <8511> paramiko.transport: [ERROR]   File \"/opt/conda/lib/python3.7/site-packages/paramiko/channel.py\", line 1187, in _handle_close\n",
      "04/03/2020 03:51:39 PM <8511> paramiko.transport: [ERROR]     self.transport._send_user_message(m)\n",
      "04/03/2020 03:51:39 PM <8511> paramiko.transport: [ERROR]   File \"/opt/conda/lib/python3.7/site-packages/paramiko/transport.py\", line 1863, in _send_user_message\n",
      "04/03/2020 03:51:39 PM <8511> paramiko.transport: [ERROR]     self._send_message(data)\n",
      "04/03/2020 03:51:39 PM <8511> paramiko.transport: [ERROR]   File \"/opt/conda/lib/python3.7/site-packages/paramiko/transport.py\", line 1839, in _send_message\n",
      "04/03/2020 03:51:39 PM <8511> paramiko.transport: [ERROR]     self.packetizer.send_message(data)\n",
      "04/03/2020 03:51:39 PM <8511> paramiko.transport: [ERROR]   File \"/opt/conda/lib/python3.7/site-packages/paramiko/packet.py\", line 431, in send_message\n",
      "04/03/2020 03:51:39 PM <8511> paramiko.transport: [ERROR]     self.write_all(out)\n",
      "04/03/2020 03:51:39 PM <8511> paramiko.transport: [ERROR]   File \"/opt/conda/lib/python3.7/site-packages/paramiko/packet.py\", line 336, in write_all\n",
      "04/03/2020 03:51:39 PM <8511> paramiko.transport: [ERROR]     n = self.__socket.send(out)\n",
      "04/03/2020 03:51:39 PM <8511> paramiko.transport: [ERROR]   File \"/opt/conda/lib/python3.7/site-packages/paramiko/proxy.py\", line 85, in send\n",
      "04/03/2020 03:51:39 PM <8511> paramiko.transport: [ERROR]     raise ProxyCommandFailure(\" \".join(self.cmd), e.strerror)\n",
      "04/03/2020 03:51:39 PM <8511> paramiko.transport: [ERROR] paramiko.ssh_exception.ProxyCommandFailure: ProxyCommand(\"ssh -q -Y keimre@ela.cscs.ch netcat daint.cscs.ch 22\") returned nonzero exit status: Broken pipe\n",
      "04/03/2020 03:51:39 PM <8511> paramiko.transport: [ERROR] \n",
      "04/03/2020 04:05:06 PM <8511> paramiko.transport: [ERROR] Exception: ProxyCommand(\"ssh -q -Y keimre@ela.cscs.ch netcat daint.cscs.ch 22\") returned nonzero exit status: Broken pipe\n",
      "04/03/2020 04:05:06 PM <8511> paramiko.transport: [ERROR] Traceback (most recent call last):\n",
      "04/03/2020 04:05:06 PM <8511> paramiko.transport: [ERROR]   File \"/opt/conda/lib/python3.7/site-packages/paramiko/proxy.py\", line 79, in send\n",
      "04/03/2020 04:05:06 PM <8511> paramiko.transport: [ERROR]     self.process.stdin.write(content)\n",
      "04/03/2020 04:05:06 PM <8511> paramiko.transport: [ERROR] BrokenPipeError: [Errno 32] Broken pipe\n",
      "04/03/2020 04:05:06 PM <8511> paramiko.transport: [ERROR] \n"
     ]
    },
    {
     "name": "stderr",
     "output_type": "stream",
     "text": [
      "04/03/2020 04:05:06 PM <8511> paramiko.transport: [ERROR] During handling of the above exception, another exception occurred:\n",
      "04/03/2020 04:05:06 PM <8511> paramiko.transport: [ERROR] \n",
      "04/03/2020 04:05:06 PM <8511> paramiko.transport: [ERROR] Traceback (most recent call last):\n",
      "04/03/2020 04:05:06 PM <8511> paramiko.transport: [ERROR]   File \"/opt/conda/lib/python3.7/site-packages/paramiko/transport.py\", line 2088, in run\n",
      "04/03/2020 04:05:06 PM <8511> paramiko.transport: [ERROR]     self._channel_handler_table[ptype](chan, m)\n",
      "04/03/2020 04:05:06 PM <8511> paramiko.transport: [ERROR]   File \"/opt/conda/lib/python3.7/site-packages/paramiko/channel.py\", line 1187, in _handle_close\n",
      "04/03/2020 04:05:06 PM <8511> paramiko.transport: [ERROR]     self.transport._send_user_message(m)\n",
      "04/03/2020 04:05:06 PM <8511> paramiko.transport: [ERROR]   File \"/opt/conda/lib/python3.7/site-packages/paramiko/transport.py\", line 1863, in _send_user_message\n",
      "04/03/2020 04:05:06 PM <8511> paramiko.transport: [ERROR]     self._send_message(data)\n",
      "04/03/2020 04:05:06 PM <8511> paramiko.transport: [ERROR]   File \"/opt/conda/lib/python3.7/site-packages/paramiko/transport.py\", line 1839, in _send_message\n",
      "04/03/2020 04:05:06 PM <8511> paramiko.transport: [ERROR]     self.packetizer.send_message(data)\n",
      "04/03/2020 04:05:06 PM <8511> paramiko.transport: [ERROR]   File \"/opt/conda/lib/python3.7/site-packages/paramiko/packet.py\", line 431, in send_message\n",
      "04/03/2020 04:05:06 PM <8511> paramiko.transport: [ERROR]     self.write_all(out)\n",
      "04/03/2020 04:05:06 PM <8511> paramiko.transport: [ERROR]   File \"/opt/conda/lib/python3.7/site-packages/paramiko/packet.py\", line 336, in write_all\n",
      "04/03/2020 04:05:06 PM <8511> paramiko.transport: [ERROR]     n = self.__socket.send(out)\n",
      "04/03/2020 04:05:06 PM <8511> paramiko.transport: [ERROR]   File \"/opt/conda/lib/python3.7/site-packages/paramiko/proxy.py\", line 85, in send\n",
      "04/03/2020 04:05:06 PM <8511> paramiko.transport: [ERROR]     raise ProxyCommandFailure(\" \".join(self.cmd), e.strerror)\n",
      "04/03/2020 04:05:06 PM <8511> paramiko.transport: [ERROR] paramiko.ssh_exception.ProxyCommandFailure: ProxyCommand(\"ssh -q -Y keimre@ela.cscs.ch netcat daint.cscs.ch 22\") returned nonzero exit status: Broken pipe\n",
      "04/03/2020 04:05:06 PM <8511> paramiko.transport: [ERROR] \n",
      "04/03/2020 04:28:28 PM <8511> paramiko.transport: [ERROR] Exception: ProxyCommand(\"ssh -q -Y keimre@ela.cscs.ch netcat daint.cscs.ch 22\") returned nonzero exit status: Broken pipe\n",
      "04/03/2020 04:28:28 PM <8511> paramiko.transport: [ERROR] Traceback (most recent call last):\n",
      "04/03/2020 04:28:28 PM <8511> paramiko.transport: [ERROR]   File \"/opt/conda/lib/python3.7/site-packages/paramiko/proxy.py\", line 79, in send\n",
      "04/03/2020 04:28:28 PM <8511> paramiko.transport: [ERROR]     self.process.stdin.write(content)\n",
      "04/03/2020 04:28:28 PM <8511> paramiko.transport: [ERROR] BrokenPipeError: [Errno 32] Broken pipe\n",
      "04/03/2020 04:28:28 PM <8511> paramiko.transport: [ERROR] \n",
      "04/03/2020 04:28:28 PM <8511> paramiko.transport: [ERROR] During handling of the above exception, another exception occurred:\n",
      "04/03/2020 04:28:28 PM <8511> paramiko.transport: [ERROR] \n",
      "04/03/2020 04:28:28 PM <8511> paramiko.transport: [ERROR] Traceback (most recent call last):\n",
      "04/03/2020 04:28:28 PM <8511> paramiko.transport: [ERROR]   File \"/opt/conda/lib/python3.7/site-packages/paramiko/transport.py\", line 2088, in run\n",
      "04/03/2020 04:28:28 PM <8511> paramiko.transport: [ERROR]     self._channel_handler_table[ptype](chan, m)\n",
      "04/03/2020 04:28:28 PM <8511> paramiko.transport: [ERROR]   File \"/opt/conda/lib/python3.7/site-packages/paramiko/channel.py\", line 1187, in _handle_close\n",
      "04/03/2020 04:28:28 PM <8511> paramiko.transport: [ERROR]     self.transport._send_user_message(m)\n",
      "04/03/2020 04:28:28 PM <8511> paramiko.transport: [ERROR]   File \"/opt/conda/lib/python3.7/site-packages/paramiko/transport.py\", line 1863, in _send_user_message\n",
      "04/03/2020 04:28:28 PM <8511> paramiko.transport: [ERROR]     self._send_message(data)\n",
      "04/03/2020 04:28:28 PM <8511> paramiko.transport: [ERROR]   File \"/opt/conda/lib/python3.7/site-packages/paramiko/transport.py\", line 1839, in _send_message\n",
      "04/03/2020 04:28:28 PM <8511> paramiko.transport: [ERROR]     self.packetizer.send_message(data)\n",
      "04/03/2020 04:28:28 PM <8511> paramiko.transport: [ERROR]   File \"/opt/conda/lib/python3.7/site-packages/paramiko/packet.py\", line 431, in send_message\n",
      "04/03/2020 04:28:28 PM <8511> paramiko.transport: [ERROR]     self.write_all(out)\n",
      "04/03/2020 04:28:28 PM <8511> paramiko.transport: [ERROR]   File \"/opt/conda/lib/python3.7/site-packages/paramiko/packet.py\", line 336, in write_all\n",
      "04/03/2020 04:28:28 PM <8511> paramiko.transport: [ERROR]     n = self.__socket.send(out)\n",
      "04/03/2020 04:28:28 PM <8511> paramiko.transport: [ERROR]   File \"/opt/conda/lib/python3.7/site-packages/paramiko/proxy.py\", line 85, in send\n",
      "04/03/2020 04:28:28 PM <8511> paramiko.transport: [ERROR]     raise ProxyCommandFailure(\" \".join(self.cmd), e.strerror)\n",
      "04/03/2020 04:28:28 PM <8511> paramiko.transport: [ERROR] paramiko.ssh_exception.ProxyCommandFailure: ProxyCommand(\"ssh -q -Y keimre@ela.cscs.ch netcat daint.cscs.ch 22\") returned nonzero exit status: Broken pipe\n",
      "04/03/2020 04:28:28 PM <8511> paramiko.transport: [ERROR] \n"
     ]
    }
   ],
   "source": [
    "node = run(ReplicaWorkChain, **builder)"
   ]
  },
  {
   "cell_type": "code",
   "execution_count": null,
   "metadata": {},
   "outputs": [],
   "source": []
  },
  {
   "cell_type": "code",
   "execution_count": null,
   "metadata": {},
   "outputs": [],
   "source": []
  },
  {
   "cell_type": "code",
   "execution_count": null,
   "metadata": {},
   "outputs": [],
   "source": []
  },
  {
   "cell_type": "code",
   "execution_count": null,
   "metadata": {},
   "outputs": [],
   "source": []
  },
  {
   "cell_type": "code",
   "execution_count": null,
   "metadata": {},
   "outputs": [],
   "source": []
  },
  {
   "cell_type": "code",
   "execution_count": 5,
   "metadata": {},
   "outputs": [],
   "source": [
    "## WIDGETS MONITOR FUNCTIONS\n",
    "def on_struct_change(c):\n",
    "    global atoms\n",
    "    if not struct_browser.results.value:\n",
    "        return\n",
    "    job_details['structure']=struct_browser.results.value\n",
    "    node = struct_browser.results.value\n",
    "    \n",
    "    atoms = node.get_ase()\n",
    "    atoms.pbc = [1, 1, 1]\n",
    "    \n",
    "    slab_analyzed = analyze_structure.analyze(atoms)\n",
    "    job_details['slab_analyzed'] = slab_analyzed\n",
    "    dft_details_widget.reset()\n",
    "    \n",
    "    guess_calc_params(slab_analyzed)\n",
    "    \n",
    "    viewer_widget.setup(atoms, slab_analyzed)\n",
    "    \n",
    "    with mol_ids_info_out:\n",
    "        clear_output()\n",
    "        print(slab_analyzed['summary'])\n",
    "\n",
    "def on_fixed_atoms_btn_click(c):\n",
    "    if dft_details_widget.btn_fixed_pressed:\n",
    "        viewer_widget.show_fixed(dft_details_widget.fixed_atoms.value)\n",
    "    else:\n",
    "        viewer_widget.show_fixed(\"\")\n",
    "        \n",
    "def guess_calc_params(slab_analyzed):\n",
    "    method = dft_details_widget.calc_type.value\n",
    "    valid_slab, msg = slab_is_valid(slab_analyzed,method)\n",
    "    if valid_slab:        \n",
    "        atoms_to_fix,num_machines=suggested_parameters(slab_analyzed,method)\n",
    "        dft_details_widget.reset(fixed_atoms=atoms_to_fix,calc_type=method)\n",
    "        num_nodes_selector.value = num_machines\n",
    "    else:\n",
    "        print(msg)"
   ]
  },
  {
   "cell_type": "markdown",
   "metadata": {},
   "source": [
    "## Step 1: Select initial structure"
   ]
  },
  {
   "cell_type": "code",
   "execution_count": 6,
   "metadata": {},
   "outputs": [
    {
     "data": {
      "application/vnd.jupyter.widget-view+json": {
       "model_id": "6b688d76a4184178a1d0b5d3811e5b93",
       "version_major": 2,
       "version_minor": 0
      },
      "text/plain": [
       "VBox(children=(StructureBrowserWidget(children=(VBox(children=(VBox(children=(HTML(value='<p>Select the date r…"
      ]
     },
     "metadata": {},
     "output_type": "display_data"
    }
   ],
   "source": [
    "## DISPLAY WIDGETS AND DEFINE JOB PARAMETERS\n",
    "\n",
    "##STRUCTURE\n",
    "struct_browser = StructureBrowserWidget()\n",
    "struct_browser.results.observe(on_struct_change, names='value')\n",
    "\n",
    "##VIEWER\n",
    "viewer_widget = ViewerDetails()\n",
    "\n",
    "mol_ids_info_out = ipw.Output()\n",
    "\n",
    "display(ipw.VBox([struct_browser, viewer_widget, mol_ids_info_out]))"
   ]
  },
  {
   "cell_type": "markdown",
   "metadata": {},
   "source": [
    "## Step 2: General parameters of the calculation"
   ]
  },
  {
   "cell_type": "code",
   "execution_count": 7,
   "metadata": {},
   "outputs": [
    {
     "data": {
      "application/vnd.jupyter.widget-view+json": {
       "model_id": "9e0bbe40d6fd4dbe9499236cdac6cd7c",
       "version_major": 2,
       "version_minor": 0
      },
      "text/plain": [
       "VBox(children=(CodeDropdown(children=(HBox(children=(Dropdown(options={'cp2k@localhost': <Code: Remote code 'c…"
      ]
     },
     "metadata": {},
     "output_type": "display_data"
    }
   ],
   "source": [
    "##CODE\n",
    "computer_code_dropdown = CodeDropdown(input_plugin='cp2k', path_to_root=\"../../\")\n",
    "\n",
    "# Misc details\n",
    "style = {'description_width': '120px'}\n",
    "layout = {'width': '70%'}\n",
    "num_nodes_selector = ipw.IntText(\n",
    "    value=1,\n",
    "    description='# Nodes',\n",
    "    style=style, layout=layout)\n",
    "calc_name_selector = ipw.Text(\n",
    "    description='Calculation Name: ',\n",
    "    placeholder='A great name.',\n",
    "    style=style, layout=layout)\n",
    "\n",
    "##DFT\n",
    "dft_details_widget = DFTDetails(job_details=job_details)    \n",
    "dft_details_widget.btn_fixed_atoms.on_click(on_fixed_atoms_btn_click)\n",
    "dft_details_widget.calc_type.observe(lambda c: guess_calc_params(), names='value')\n",
    "\n",
    "# display code dropdown\n",
    "display(ipw.VBox([computer_code_dropdown, num_nodes_selector, calc_name_selector, dft_details_widget]))"
   ]
  },
  {
   "cell_type": "markdown",
   "metadata": {},
   "source": [
    "## Step 3: Define collective variable\n",
    "The unit of the spring constant is [eV/unit of colvar^2].\n",
    "\n",
    "Three kinds of collective variable are implemented:\n",
    "\n",
    "**DISTANCE between two atoms**\n",
    "\n",
    "**ANGLE_PLANE_PLANE between two planes**\n",
    "- Rotation of plane defined by (P1 - P2) and (P3 - P2) WRT plane defined by a normal .\n",
    "\n",
    "**BOND_ROTATION**\n",
    "- Clockwise rotation of (P2-P1) WRT (P4-P3)."
   ]
  },
  {
   "cell_type": "code",
   "execution_count": 8,
   "metadata": {},
   "outputs": [
    {
     "data": {
      "application/vnd.jupyter.widget-view+json": {
       "model_id": "9b663764bd164f34ac615aab7d0d28a7",
       "version_major": 2,
       "version_minor": 0
      },
      "text/plain": [
       "CollectiveVariableWidget(children=(Select(description='Colvar Type', layout=Layout(width='70%'), options={'DIS…"
      ]
     },
     "metadata": {},
     "output_type": "display_data"
    }
   ],
   "source": [
    "cv_widget = CollectiveVariableWidget()\n",
    "\n",
    "def on_vis_cv_click(c):\n",
    "    if cv_widget.validation_check() and atoms is not None:\n",
    "        vis_list = cv_widget.current_cv_instance.visualization_list(atoms)\n",
    "        viewer_widget.visualize_extra(vis_list)\n",
    "        \n",
    "        with mol_ids_info_out:\n",
    "            cv_widget.current_cv_instance.print_cv(atoms)\n",
    "        \n",
    "cv_widget.visualize_colvar_btn.on_click(on_vis_cv_click)\n",
    "\n",
    "display(cv_widget)"
   ]
  },
  {
   "cell_type": "code",
   "execution_count": 11,
   "metadata": {},
   "outputs": [
    {
     "name": "stdout",
     "output_type": "stream",
     "text": [
      "----\n",
      "{'metadata': {'description': 'h2 test', 'label': 'ReplicaWorkChain'}, 'cp2k_code': <Code: Remote code 'cp2k_6.1' on daint-gpu-s904, pk: 195, uuid: 62dc1567-8586-4077-8dd0-29b184597863>, 'structure': <StructureData: uuid: 61f0b08b-e6c2-4c29-8900-21867111cc28 (pk: 430)>, 'num_machines': <Int: uuid: 8856e3db-e11d-4492-9c8a-2e399ecd8bfa (unstored) value: 1>, 'calc_name': <Str: uuid: b7e9d7ae-968e-4318-b35f-0b41e3c807a3 (unstored) value: h2 test>, 'fixed_atoms': <Str: uuid: 49e699a2-fc3a-43cf-b68b-5f007e7d6418 (unstored) value: Text(value='', description='Fixed Atoms', layout=Layout(width='60%'), placeholder='1..10', style=DescriptionStyle(description_width='120px'))>, 'colvar_targets': <Str: uuid: 8a62ffd0-7cd5-4cbc-bd6b-234a9245f064 (unstored) value: 1.0 1.2 1.4 1.6>, 'target_unit': <Str: uuid: dd7afe18-4324-46d7-8b01-5f7bf17b5938 (unstored) value: angstrom>, 'spring': <Float: uuid: 8c27164d-6d86-434a-8724-d2d43fb177d2 (unstored) value: 30.0>, 'spring_unit': <Str: uuid: 06e9f3e8-e64c-47e0-b0be-8e191143909a (unstored) value: eV/angstrom^2>, 'subsys_colvar': <Dict: uuid: 0145c6aa-c9d4-43dd-adf5-8718869152c6 (unstored)>, 'calc_type': <Str: uuid: 7f490b0d-bcdd-4cba-8b92-156484488e4a (unstored) value: Full DFT>, 'mgrid_cutoff': <Int: uuid: 304f9f24-9e0b-461e-8667-a4a7fdd91101 (unstored) value: 600>, 'max_force': <Float: uuid: 4b303092-2ee6-4e9e-8d6f-7cf8b5ce94b0 (unstored) value: 0.0001>, 'dftd3_switch': <Bool: uuid: 9469f191-25c0-4cd0-90cc-a30d5d885798 (unstored) value: True>}\n",
      "----\n"
     ]
    }
   ],
   "source": [
    "if not struct_browser.results.value:\n",
    "    print(\"Please select a structure.\")\n",
    "if not computer_code_dropdown.selected_code:\n",
    "    print(\"Please select a code.\")\n",
    "\n",
    "builder = ReplicaWorkChain.get_builder()\n",
    "builder.cp2k_code = computer_code_dropdown.selected_code\n",
    "builder.structure = struct_browser.results.value\n",
    "builder.num_machines = Int(num_nodes_selector.value)\n",
    "builder.calc_name = Str(calc_name_selector.value)\n",
    "#builder.cell\n",
    "builder.fixed_atoms = Str(dft_details_widget.fixed_atoms)\n",
    "builder.colvar_targets = Str(cv_widget.colvar_targets)\n",
    "builder.target_unit = Str(cv_widget.target_unit)\n",
    "builder.spring = Float(cv_widget.spring_constant)\n",
    "builder.spring_unit = Str(cv_widget.spring_unit)\n",
    "builder.subsys_colvar = Dict(dict=cv_widget.subsys_colvar)\n",
    "builder.calc_type = Str(dft_details_widget.calc_type.value)\n",
    "builder.mgrid_cutoff = Int(dft_details_widget.mgrid_cutoff.value)\n",
    "builder.max_force = Float(dft_details_widget.max_force.value)\n",
    "builder.dftd3_switch = Bool(dft_details_widget.vdw_switch.value)\n",
    "\n",
    "builder.metadata = {\n",
    "    \"description\": calc_name_selector.value,\n",
    "    \"label\": \"ReplicaWorkChain\",\n",
    "}\n",
    "print(\"----\")\n",
    "print(builder)\n",
    "print(\"----\")"
   ]
  },
  {
   "cell_type": "code",
   "execution_count": 27,
   "metadata": {},
   "outputs": [],
   "source": [
    "\n",
    "def on_submit():\n",
    "    with submit_out:\n",
    "        clear_output()\n",
    "        if not struct_browser.results.value:\n",
    "            print(\"Please select a structure.\")\n",
    "            return\n",
    "        if not computer_code_dropdown.selected_code:\n",
    "            print(\"Please select a code.\")\n",
    "            return\n",
    "\n",
    "        builder = ReplicaWorkChain.get_builder()\n",
    "        builder.cp2k_code = computer_code_dropdown.selected_code\n",
    "        builder.structure = struct_browser.results.value\n",
    "        builder.num_machines = Int(num_nodes_selector.value)\n",
    "        builder.calc_name = Str(calc_name_selector.value)\n",
    "        #builder.cell\n",
    "        builder.fixed_atoms = Str(dft_details_widget.fixed_atoms)\n",
    "        builder.colvar_targets = Str(cv_widget.colvar_targets)\n",
    "        builder.target_unit = Str(cv_widget.target_unit)\n",
    "        builder.spring = Float(cv_widget.spring_constant)\n",
    "        builder.spring_unit = Str(cv_widget.spring_unit)\n",
    "        builder.subsys_colvar = Dict(cv_widget.subsys_colvar)\n",
    "        builder.calc_type = Str(dft_details_widget.calc_type.value)\n",
    "        builder.mgrid_cutoff = Int(dft_details_widget.mgrid_cutoff.value)\n",
    "        builder.max_force = Float(dft_details_widget.max_force.value)\n",
    "        builder.dftd3_switch = Float(dft_details_widget.vdw_switch.value)\n",
    "        \n",
    "        builder.metadata = {\n",
    "            \"description\": calc_name_selector.value,\n",
    "            \"label\": \"ReplicaWorkChain\",\n",
    "        }\n",
    "        print(\"----\")\n",
    "        print(builder)\n",
    "        print(\"----\")\n",
    "        return builder"
   ]
  },
  {
   "cell_type": "code",
   "execution_count": 29,
   "metadata": {},
   "outputs": [
    {
     "ename": "TypeError",
     "evalue": "__init__() got an unexpected keyword argument 'workchain'",
     "output_type": "error",
     "traceback": [
      "\u001b[0;31m---------------------------------------------------------------------------\u001b[0m",
      "\u001b[0;31mTypeError\u001b[0m                                 Traceback (most recent call last)",
      "\u001b[0;32m<ipython-input-29-e1bf142b6f3c>\u001b[0m in \u001b[0;36m<module>\u001b[0;34m\u001b[0m\n\u001b[0;32m----> 1\u001b[0;31m \u001b[0mbtn_submit\u001b[0m \u001b[0;34m=\u001b[0m \u001b[0mSubmitButtonWidget\u001b[0m\u001b[0;34m(\u001b[0m\u001b[0mworkchain\u001b[0m\u001b[0;34m=\u001b[0m\u001b[0mReplicaWorkChain\u001b[0m\u001b[0;34m,\u001b[0m\u001b[0mwidgets_values\u001b[0m\u001b[0;34m=\u001b[0m\u001b[0mon_submit\u001b[0m\u001b[0;34m)\u001b[0m\u001b[0;34m\u001b[0m\u001b[0;34m\u001b[0m\u001b[0m\n\u001b[0m\u001b[1;32m      2\u001b[0m \u001b[0msubmit_out\u001b[0m \u001b[0;34m=\u001b[0m \u001b[0mipw\u001b[0m\u001b[0;34m.\u001b[0m\u001b[0mOutput\u001b[0m\u001b[0;34m(\u001b[0m\u001b[0;34m)\u001b[0m\u001b[0;34m\u001b[0m\u001b[0;34m\u001b[0m\u001b[0m\n\u001b[1;32m      3\u001b[0m \u001b[0mdisplay\u001b[0m\u001b[0;34m(\u001b[0m\u001b[0mbtn_submit\u001b[0m\u001b[0;34m,\u001b[0m \u001b[0msubmit_out\u001b[0m\u001b[0;34m)\u001b[0m\u001b[0;34m\u001b[0m\u001b[0;34m\u001b[0m\u001b[0m\n",
      "\u001b[0;31mTypeError\u001b[0m: __init__() got an unexpected keyword argument 'workchain'"
     ]
    }
   ],
   "source": [
    "btn_submit = SubmitButtonWidget(workchain=ReplicaWorkChain,widgets_values=on_submit)\n",
    "submit_out = ipw.Output()\n",
    "display(btn_submit, submit_out)"
   ]
  },
  {
   "cell_type": "code",
   "execution_count": 13,
   "metadata": {},
   "outputs": [
    {
     "data": {
      "text/plain": [
       "<StructureData: uuid: 61f0b08b-e6c2-4c29-8900-21867111cc28 (pk: 430)>"
      ]
     },
     "execution_count": 13,
     "metadata": {},
     "output_type": "execute_result"
    }
   ],
   "source": [
    "struct_browser.results.value"
   ]
  },
  {
   "cell_type": "code",
   "execution_count": 14,
   "metadata": {},
   "outputs": [
    {
     "name": "stdout",
     "output_type": "stream",
     "text": [
      "----\n",
      "{'metadata': {'description': 'h2 test', 'label': 'ReplicaWorkChain'}, 'cp2k_code': <Code: Remote code 'cp2k_6.1' on daint-gpu-s904, pk: 195, uuid: 62dc1567-8586-4077-8dd0-29b184597863>, 'structure': <StructureData: uuid: 61f0b08b-e6c2-4c29-8900-21867111cc28 (pk: 430)>, 'num_machines': <Int: uuid: a2689250-a8c3-43fc-b1ef-c72855701599 (unstored) value: 1>, 'calc_name': <Str: uuid: 103fdbf8-bdd8-4678-ba2f-f51f51124c88 (unstored) value: h2 test>, 'fixed_atoms': <Str: uuid: 01d37643-8a37-4e81-b624-1e5772ac5b5e (unstored) value: >, 'colvar_targets': <Str: uuid: 43c10a5d-9ba1-4cca-aaca-210498579ec3 (unstored) value: 1.1 1.2 1.3>, 'target_unit': <Str: uuid: e9fd7acd-4be9-4861-8534-170cd30546b2 (unstored) value: angstrom>, 'spring': <Float: uuid: 02c5f7a6-d81a-4d73-8486-500ac5189ed7 (unstored) value: 30.0>, 'spring_unit': <Str: uuid: 10bf685e-eedd-47c1-bbef-afd93ad98d1c (unstored) value: eV/angstrom^2>, 'subsys_colvar': <Dict: uuid: ced7f2d5-ba52-40b8-82b0-50e1cc3a71ad (unstored)>, 'calc_type': <Str: uuid: 21dbd283-35ec-4768-b0af-545eb0bf9e12 (unstored) value: Full DFT>, 'mgrid_cutoff': <Int: uuid: 68f914cf-8252-457c-b152-4c80c4a01544 (unstored) value: 600>, 'max_force': <Float: uuid: c5e0366d-04be-4587-b13d-e4b331d946c0 (unstored) value: 0.0001>, 'dftd3_switch': <Bool: uuid: 56de7a31-673d-4f21-bf09-72e8fbe69fb9 (unstored) value: True>}\n",
      "----\n"
     ]
    }
   ],
   "source": []
  },
  {
   "cell_type": "code",
   "execution_count": null,
   "metadata": {},
   "outputs": [],
   "source": []
  }
 ],
 "metadata": {
  "kernelspec": {
   "display_name": "Python 3",
   "language": "python",
   "name": "python3"
  },
  "language_info": {
   "codemirror_mode": {
    "name": "ipython",
    "version": 3
   },
   "file_extension": ".py",
   "mimetype": "text/x-python",
   "name": "python",
   "nbconvert_exporter": "python",
   "pygments_lexer": "ipython3",
   "version": "3.7.4"
  }
 },
 "nbformat": 4,
 "nbformat_minor": 2
}
