{
 "cells": [
  {
   "cell_type": "code",
   "execution_count": 1,
   "metadata": {},
   "outputs": [
    {
     "data": {
      "application/json": {
       "current_state": "Loaded AiiDA DB environment."
      },
      "text/html": [
       "<p>Loaded AiiDA DB environment.</p>"
      ],
      "text/latex": [
       "Loaded AiiDA DB environment.\n"
      ],
      "text/plain": [
       "Loaded AiiDA DB environment.\n"
      ]
     },
     "execution_count": 1,
     "metadata": {},
     "output_type": "execute_result"
    }
   ],
   "source": [
    "%aiida"
   ]
  },
  {
   "cell_type": "code",
   "execution_count": 2,
   "metadata": {},
   "outputs": [
    {
     "data": {
      "application/vnd.jupyter.widget-view+json": {
       "model_id": "76d132f2282443539c689ac3711af9b3",
       "version_major": 2,
       "version_minor": 0
      },
      "text/plain": [
       "_ColormakerRegistry()"
      ]
     },
     "metadata": {},
     "output_type": "display_data"
    }
   ],
   "source": [
    "import nglview\n",
    "import numpy as np\n",
    "import ipywidgets as ipw\n",
    "from collections import OrderedDict\n",
    "from IPython.display import display, clear_output, HTML\n",
    "import nglview\n",
    "\n",
    "from aiidalab_widgets_base import CodeDropdown, SubmitButtonWidget, MetadataWidget, StructureBrowserWidget\n",
    "from aiida.engine import submit, run, run_get_node\n",
    "\n",
    "\n",
    "#from apps.surfaces.widgets.computer_code_selection import ComputerCodeDropdown\n",
    "from apps.surfaces.widgets.dft_details_dev import DFTDetails\n",
    "from apps.surfaces.widgets.viewer_details import ViewerDetails\n",
    "from apps.surfaces.widgets.slab_validity import slab_is_valid\n",
    "from apps.surfaces.widgets.suggested_param import suggested_parameters\n",
    "#from apps.surfaces.widgets.submit_button import SubmitButton\n",
    "\n",
    "from ase.data import vdw_radii\n",
    "\n",
    "from apps.surfaces.widgets import analyze_structure\n",
    "\n",
    "\n",
    "ReplicaWorkChain = WorkflowFactory('replica') \n",
    "\n",
    "from apps.surfaces.widgets.collective_variable_widget import CollectiveVariableWidget"
   ]
  },
  {
   "cell_type": "code",
   "execution_count": 3,
   "metadata": {},
   "outputs": [
    {
     "data": {
      "application/javascript": [
       "IPython.OutputArea.prototype._should_scroll = function(lines) {\n",
       "    return false;\n",
       "}"
      ],
      "text/plain": [
       "<IPython.core.display.Javascript object>"
      ]
     },
     "metadata": {},
     "output_type": "display_data"
    }
   ],
   "source": [
    "%%javascript\n",
    "IPython.OutputArea.prototype._should_scroll = function(lines) {\n",
    "    return false;\n",
    "}"
   ]
  },
  {
   "cell_type": "code",
   "execution_count": 4,
   "metadata": {},
   "outputs": [],
   "source": [
    "## GENERAL PARAMETERS\n",
    "\n",
    "the_workchain = ReplicaWorkChain\n",
    "job_details = {'workchain':'ReplicaWorkChain'}\n",
    "\n",
    "atoms = None"
   ]
  },
  {
   "cell_type": "code",
   "execution_count": 5,
   "metadata": {},
   "outputs": [],
   "source": [
    "## WIDGETS MONITOR FUNCTIONS\n",
    "def on_struct_change(c):\n",
    "    global atoms\n",
    "    if not struct_browser.results.value:\n",
    "        return\n",
    "    job_details['structure']=struct_browser.results.value\n",
    "    node = struct_browser.results.value\n",
    "    \n",
    "    atoms = node.get_ase()\n",
    "    atoms.pbc = [1, 1, 1]\n",
    "    \n",
    "    slab_analyzed = analyze_structure.analyze(atoms)\n",
    "    job_details['slab_analyzed'] = slab_analyzed\n",
    "    dft_details_widget.reset()\n",
    "    \n",
    "    guess_calc_params(slab_analyzed)\n",
    "    \n",
    "    viewer_widget.setup(atoms, slab_analyzed)\n",
    "    \n",
    "    with mol_ids_info_out:\n",
    "        clear_output()\n",
    "        print(slab_analyzed['summary'])\n",
    "\n",
    "def on_fixed_atoms_btn_click(c):\n",
    "    if dft_details_widget.btn_fixed_pressed:\n",
    "        viewer_widget.show_fixed(dft_details_widget.fixed_atoms.value)\n",
    "    else:\n",
    "        viewer_widget.show_fixed(\"\")\n",
    "        \n",
    "def guess_calc_params(slab_analyzed):\n",
    "    method = dft_details_widget.calc_type.value\n",
    "    valid_slab, msg = slab_is_valid(slab_analyzed,method)\n",
    "    if valid_slab:        \n",
    "        atoms_to_fix,num_machines=suggested_parameters(slab_analyzed,method)\n",
    "        dft_details_widget.reset(fixed_atoms=atoms_to_fix,calc_type=method)\n",
    "        num_nodes_selector.value = num_machines\n",
    "    else:\n",
    "        print(msg)"
   ]
  },
  {
   "cell_type": "markdown",
   "metadata": {},
   "source": [
    "## Step 1: Select initial structure"
   ]
  },
  {
   "cell_type": "code",
   "execution_count": 6,
   "metadata": {},
   "outputs": [
    {
     "data": {
      "application/vnd.jupyter.widget-view+json": {
       "model_id": "609d68ce81f748dcac1764b698197d06",
       "version_major": 2,
       "version_minor": 0
      },
      "text/plain": [
       "VBox(children=(StructureBrowserWidget(children=(VBox(children=(VBox(children=(HTML(value='<p>Select the date r…"
      ]
     },
     "metadata": {},
     "output_type": "display_data"
    }
   ],
   "source": [
    "## DISPLAY WIDGETS AND DEFINE JOB PARAMETERS\n",
    "\n",
    "##STRUCTURE\n",
    "struct_browser = StructureBrowserWidget()\n",
    "struct_browser.results.observe(on_struct_change, names='value')\n",
    "\n",
    "##VIEWER\n",
    "viewer_widget = ViewerDetails()\n",
    "\n",
    "mol_ids_info_out = ipw.Output()\n",
    "\n",
    "display(ipw.VBox([struct_browser, viewer_widget, mol_ids_info_out]))"
   ]
  },
  {
   "cell_type": "markdown",
   "metadata": {},
   "source": [
    "## Step 2: General parameters of the calculation"
   ]
  },
  {
   "cell_type": "code",
   "execution_count": 7,
   "metadata": {},
   "outputs": [
    {
     "data": {
      "application/vnd.jupyter.widget-view+json": {
       "model_id": "d861c14789724c469963f0e7cab93949",
       "version_major": 2,
       "version_minor": 0
      },
      "text/plain": [
       "VBox(children=(CodeDropdown(children=(HBox(children=(Dropdown(description='Select code:', options=('cp2k@mc3-m…"
      ]
     },
     "metadata": {},
     "output_type": "display_data"
    }
   ],
   "source": [
    "##CODE\n",
    "computer_code_dropdown = CodeDropdown(input_plugin='cp2k', path_to_root=\"../../\")\n",
    "\n",
    "# Misc details\n",
    "style = {'description_width': '120px'}\n",
    "layout = {'width': '70%'}\n",
    "num_nodes_selector = ipw.IntText(\n",
    "    value=1,\n",
    "    description='# Nodes',\n",
    "    style=style, layout=layout)\n",
    "calc_name_selector = ipw.Text(\n",
    "    description='Calculation Name: ',\n",
    "    placeholder='A great name.',\n",
    "    style=style, layout=layout)\n",
    "\n",
    "##DFT\n",
    "dft_details_widget = DFTDetails(job_details=job_details)    \n",
    "dft_details_widget.btn_fixed_atoms.on_click(on_fixed_atoms_btn_click)\n",
    "dft_details_widget.calc_type.observe(lambda c: guess_calc_params(), names='value')\n",
    "\n",
    "# display code dropdown\n",
    "display(ipw.VBox([computer_code_dropdown, num_nodes_selector, calc_name_selector, dft_details_widget]))"
   ]
  },
  {
   "cell_type": "markdown",
   "metadata": {},
   "source": [
    "## Step 3: Define collective variable\n",
    "The unit of the spring constant is [eV/unit of colvar^2].\n",
    "\n",
    "Three kinds of collective variable are implemented:\n",
    "\n",
    "**DISTANCE between two atoms**\n",
    "\n",
    "**ANGLE_PLANE_PLANE between two planes**\n",
    "- Rotation of plane defined by (P1 - P2) and (P3 - P2) WRT plane defined by a normal .\n",
    "\n",
    "**BOND_ROTATION**\n",
    "- Clockwise rotation of (P2-P1) WRT (P4-P3)."
   ]
  },
  {
   "cell_type": "code",
   "execution_count": 8,
   "metadata": {},
   "outputs": [
    {
     "data": {
      "application/vnd.jupyter.widget-view+json": {
       "model_id": "900d6532193a4395bc1a026e75b77337",
       "version_major": 2,
       "version_minor": 0
      },
      "text/plain": [
       "CollectiveVariableWidget(children=(Select(description='Colvar Type', layout=Layout(width='70%'), options={'DIS…"
      ]
     },
     "metadata": {},
     "output_type": "display_data"
    }
   ],
   "source": [
    "cv_widget = CollectiveVariableWidget()\n",
    "\n",
    "def on_vis_cv_click(c):\n",
    "    if cv_widget.validation_check() and atoms is not None:\n",
    "        vis_list = cv_widget.current_cv_instance.visualization_list(atoms)\n",
    "        viewer_widget.visualize_extra(vis_list)\n",
    "        \n",
    "        with mol_ids_info_out:\n",
    "            cv_widget.current_cv_instance.print_cv(atoms)\n",
    "        \n",
    "cv_widget.visualize_colvar_btn.on_click(on_vis_cv_click)\n",
    "\n",
    "display(cv_widget)"
   ]
  },
  {
   "cell_type": "code",
   "execution_count": 9,
   "metadata": {},
   "outputs": [],
   "source": [
    "# BUG: MAX_FORCE IS NOT USED (hardcoded value in workchain)\n",
    "# NOR IS VDW SWITCH USED\n",
    "\n",
    "def on_submit():\n",
    "    with submit_out:\n",
    "        clear_output()\n",
    "        if not struct_browser.results.value:\n",
    "            print(\"Please select a structure.\")\n",
    "            return\n",
    "        if not computer_code_dropdown.selected_code:\n",
    "            print(\"Please select a code.\")\n",
    "            return\n",
    "\n",
    "        builder = ReplicaWorkChain.get_builder()\n",
    "        builder.cp2k_code = computer_code_dropdown.selected_code\n",
    "        builder.structure = struct_browser.results.value\n",
    "        builder.num_machines = Int(num_nodes_selector.value)\n",
    "        builder.calc_name = Str(calc_name_selector.value)\n",
    "        #builder.cell\n",
    "        builder.fixed_atoms = Str(dft_details_widget.fixed_atoms)\n",
    "        builder.colvar_targets = Str(cv_widget.colvar_targets)\n",
    "        builder.target_unit = Str(cv_widget.target_unit)\n",
    "        builder.spring = Float(cv_widget.spring_constant)\n",
    "        builder.spring_unit = Str(cv_widget.spring_unit)\n",
    "        builder.subsys_colvar = Dict(cv_widget.subsys_colvar)\n",
    "        builder.calc_type = Str(dft_details_widget.calc_type.value)\n",
    "        builder.mgrid_cutoff = Int(dft_details_widget.mgrid_cutoff.value)\n",
    "        builder.metadata = {\n",
    "            \"description\": calc_name_selector.value,\n",
    "            \"label\": \"ReplicaWorkChain\",\n",
    "        }\n",
    "        print(\"----\")\n",
    "        print(builder)\n",
    "        print(\"----\")\n",
    "        return builder"
   ]
  },
  {
   "cell_type": "code",
   "execution_count": 10,
   "metadata": {},
   "outputs": [],
   "source": [
    "def on_submit():\n",
    "    with submit_out:\n",
    "\n",
    "        builder = ReplicaWorkChain.get_builder()\n",
    "        builder.cp2k_code = load_node(975)\n",
    "        builder.structure = load_node(974)\n",
    "        builder.num_machines = Int(1)\n",
    "        builder.calc_name = Str(\"c2h2 test\")\n",
    "        #builder.cell\n",
    "        builder.fixed_atoms = Str(\"\")\n",
    "        builder.colvar_targets = Str(\"1.3 1.5 1.7 2.0\")\n",
    "        builder.target_unit = Str('angstrom')\n",
    "        builder.spring = Float(30.0)\n",
    "        builder.spring_unit = Str('eV/angstrom^2')\n",
    "        builder.subsys_colvar = Dict(dict={'DISTANCE': {'ATOMS': '2 3 '}})\n",
    "        builder.calc_type = Str('Full DFT')\n",
    "        builder.mgrid_cutoff = Int(600)\n",
    "        builder.metadata = {\n",
    "            \"description\": \"c2h2 test\",\n",
    "            \"label\": \"ReplicaWorkChain\",\n",
    "        }\n",
    "        print(\"----\")\n",
    "        print(builder)\n",
    "        print(\"----\")\n",
    "        return builder"
   ]
  },
  {
   "cell_type": "code",
   "execution_count": 11,
   "metadata": {},
   "outputs": [
    {
     "data": {
      "application/vnd.jupyter.widget-view+json": {
       "model_id": "2aed748fa88c4033ba9f3cca15c1ae5a",
       "version_major": 2,
       "version_minor": 0
      },
      "text/plain": [
       "SubmitButtonWidget(children=(Button(description='Submit', style=ButtonStyle()), Output()))"
      ]
     },
     "metadata": {},
     "output_type": "display_data"
    },
    {
     "data": {
      "application/vnd.jupyter.widget-view+json": {
       "model_id": "b55e5d059d49454abb8b3ab11753ac55",
       "version_major": 2,
       "version_minor": 0
      },
      "text/plain": [
       "Output()"
      ]
     },
     "metadata": {},
     "output_type": "display_data"
    }
   ],
   "source": [
    "btn_submit = SubmitButtonWidget(workchain=ReplicaWorkChain,widgets_values=on_submit)\n",
    "submit_out = ipw.Output()\n",
    "display(btn_submit, submit_out)"
   ]
  },
  {
   "cell_type": "code",
   "execution_count": 12,
   "metadata": {},
   "outputs": [
    {
     "name": "stdout",
     "output_type": "stream",
     "text": [
      "----\n",
      "{'metadata': {'description': 'h2 test', 'label': 'ReplicaWorkChain'}, 'cp2k_code': <Code: Remote code 'cp2k' on localhost, pk: 1, uuid: 8963b2e6-3418-4180-91eb-8d740dfe5e7e>, 'structure': <StructureData: uuid: 83aeecda-744a-44d0-8848-e9cf122f9632 (pk: 4033)>, 'num_machines': <Int: uuid: 2d722399-7f95-498b-9102-5697f71515e5 (unstored) value: 1>, 'calc_name': <Str: uuid: b397f56b-b0bf-4414-b2fc-82ce48c6ca5d (unstored) value: h2 test>, 'fixed_atoms': <Str: uuid: 083cf366-186c-4309-ad93-ec98a6895062 (unstored) value: >, 'colvar_targets': <Str: uuid: 3299f2c6-76f0-4531-acc6-1ef5aa3e7d30 (unstored) value: 1.1 1.2 1.3>, 'target_unit': <Str: uuid: ec2be989-b050-4cf8-9672-f0c419402879 (unstored) value: angstrom>, 'spring': <Float: uuid: 4e07c056-827b-4042-adc0-9b54f0efeee9 (unstored) value: 30.0>, 'spring_unit': <Str: uuid: 53a1aee8-869c-47ab-80cc-aa7eb9e36a41 (unstored) value: eV/angstrom^2>, 'subsys_colvar': <Dict: uuid: 98d82560-6fc4-4c26-8587-622dba90f40b (unstored)>, 'calc_type': <Str: uuid: 15390a33-73ee-4a29-ad46-4afa63c33acd (unstored) value: Full DFT>, 'mgrid_cutoff': <Int: uuid: 75302047-fdbc-450b-a6a9-43351a3e9768 (unstored) value: 600>}\n",
      "----\n"
     ]
    }
   ],
   "source": [
    "builder = ReplicaWorkChain.get_builder()\n",
    "#builder.cp2k_code = load_node(975)\n",
    "builder.cp2k_code = load_node(1)\n",
    "builder.structure = load_node(4033)\n",
    "builder.num_machines = Int(1)\n",
    "builder.calc_name = Str(\"h2 test\")\n",
    "#builder.cell\n",
    "builder.fixed_atoms = Str(\"\")\n",
    "builder.colvar_targets = Str(\"1.1 1.2 1.3\")\n",
    "builder.target_unit = Str('angstrom')\n",
    "builder.spring = Float(30.0)\n",
    "builder.spring_unit = Str('eV/angstrom^2')\n",
    "builder.subsys_colvar = Dict(dict={'DISTANCE': {'ATOMS': '1 2'}})\n",
    "builder.calc_type = Str('Full DFT')\n",
    "builder.mgrid_cutoff = Int(600)\n",
    "builder.metadata = {\n",
    "    \"description\": \"h2 test\",\n",
    "    \"label\": \"ReplicaWorkChain\",\n",
    "}\n",
    "print(\"----\")\n",
    "print(builder)\n",
    "print(\"----\")"
   ]
  },
  {
   "cell_type": "code",
   "execution_count": 13,
   "metadata": {},
   "outputs": [
    {
     "name": "stderr",
     "output_type": "stream",
     "text": [
      "11/22/2019 12:10:43 PM <17769> aiida.orm.nodes.process.workflow.workchain.WorkChainNode: [REPORT] [4345|ReplicaWorkChain|initialize]: Init generate replicas\n",
      "11/22/2019 12:10:43 PM <17769> aiida.orm.nodes.process.workflow.workchain.WorkChainNode: [REPORT] [4345|ReplicaWorkChain|initialize]: #3 replicas\n",
      "11/22/2019 12:10:43 PM <17769> aiida.orm.nodes.process.workflow.workchain.WorkChainNode: [REPORT] [4345|ReplicaWorkChain|next_replica]: Go to replica - 3\n",
      "11/22/2019 12:10:43 PM <17769> aiida.orm.nodes.process.workflow.workchain.WorkChainNode: [REPORT] [4345|ReplicaWorkChain|next_replica]: Remaining list: ['1.1', '1.2', '1.3'] (3)\n",
      "11/22/2019 12:10:43 PM <17769> aiida.orm.nodes.process.workflow.workchain.WorkChainNode: [REPORT] [4345|ReplicaWorkChain|generate_replica]: Running CP2K geometry optimization - Target: 1.1\n",
      "11/22/2019 12:10:43 PM <17769> aiida.orm.nodes.process.workflow.workchain.WorkChainNode: [REPORT] [4345|ReplicaWorkChain|generate_replica]:  \n",
      "11/22/2019 12:10:43 PM <17769> aiida.orm.nodes.process.workflow.workchain.WorkChainNode: [REPORT] [4345|ReplicaWorkChain|generate_replica]: inputs: {'metadata': {'label': 'replica_geo_opt', 'description': 'replica_uuid: b397f56b-b0bf-4414-b2fc-82ce48c6ca5d (pk: 4335) value: h2 test_1.1', 'options': {'resources': {'num_machines': 1}, 'max_wallclock_seconds': 86000}}, 'code': <Code: Remote code 'cp2k' on localhost, pk: 1, uuid: 8963b2e6-3418-4180-91eb-8d740dfe5e7e>, 'file': {'molslab_coords': <SinglefileData: uuid: 0607457e-0d0d-4213-8b93-a888a1f21e11 (unstored)>}, 'parameters': <Dict: uuid: 80749552-f8e4-4f3c-be68-6093556cb556 (unstored)>, 'settings': <Dict: uuid: e0de0ac4-d601-41fc-9873-ea3fb1665e64 (unstored)>}\n",
      "11/22/2019 12:10:43 PM <17769> aiida.orm.nodes.process.workflow.workchain.WorkChainNode: [REPORT] [4345|ReplicaWorkChain|generate_replica]:  \n",
      "11/22/2019 12:10:44 PM <17769> aiida.orm.nodes.process.workflow.workchain.WorkChainNode: [REPORT] [4345|ReplicaWorkChain|generate_replica]: future: uuid: c5e5144b-886d-48c1-9360-45d66a384712 (pk: 4349) (aiida.calculations:cp2k)\n",
      "11/22/2019 12:10:44 PM <17769> aiida.orm.nodes.process.workflow.workchain.WorkChainNode: [REPORT] [4345|ReplicaWorkChain|generate_replica]:  \n",
      "11/22/2019 12:14:49 PM <17769> aiida.orm.nodes.process.workflow.workchain.WorkChainNode: [REPORT] [4345|ReplicaWorkChain|next_replica]: Go to replica - 2\n",
      "11/22/2019 12:14:49 PM <17769> aiida.orm.nodes.process.workflow.workchain.WorkChainNode: [REPORT] [4345|ReplicaWorkChain|next_replica]: Remaining list: ['1.2', '1.3'] (2)\n",
      "11/22/2019 12:14:49 PM <17769> aiida.orm.nodes.process.workflow.workchain.WorkChainNode: [REPORT] [4345|ReplicaWorkChain|generate_replica]: Running CP2K geometry optimization - Target: 1.2\n",
      "11/22/2019 12:14:49 PM <17769> aiida.orm.nodes.process.workflow.workchain.WorkChainNode: [REPORT] [4345|ReplicaWorkChain|generate_replica]:  \n",
      "11/22/2019 12:14:49 PM <17769> aiida.orm.nodes.process.workflow.workchain.WorkChainNode: [REPORT] [4345|ReplicaWorkChain|generate_replica]: inputs: {'metadata': {'label': 'replica_geo_opt', 'description': 'replica_uuid: b397f56b-b0bf-4414-b2fc-82ce48c6ca5d (pk: 4335) value: h2 test_1.2', 'options': {'resources': {'num_machines': 1}, 'max_wallclock_seconds': 86000}}, 'code': <Code: Remote code 'cp2k' on localhost, pk: 1, uuid: 8963b2e6-3418-4180-91eb-8d740dfe5e7e>, 'file': {'molslab_coords': <SinglefileData: uuid: 70d5a491-3085-4d41-a6ba-c4cb7fd94a7c (unstored)>}, 'parent_calc_folder': <RemoteData: uuid: 7b01f3a4-5100-4e79-89f0-0bbc53fef581 (pk: 4350)>, 'parameters': <Dict: uuid: 0e6ecd37-f45f-4a7a-bfc6-85aaaf8bfee6 (unstored)>, 'settings': <Dict: uuid: 0f9f3d79-0b72-4d6f-b1ef-2234f1e34d41 (unstored)>}\n",
      "11/22/2019 12:14:49 PM <17769> aiida.orm.nodes.process.workflow.workchain.WorkChainNode: [REPORT] [4345|ReplicaWorkChain|generate_replica]:  \n",
      "11/22/2019 12:14:50 PM <17769> aiida.orm.nodes.process.workflow.workchain.WorkChainNode: [REPORT] [4345|ReplicaWorkChain|generate_replica]: future: uuid: 92bda019-1fe7-49b5-a99d-e3e985c6ad6b (pk: 4374) (aiida.calculations:cp2k)\n",
      "11/22/2019 12:14:50 PM <17769> aiida.orm.nodes.process.workflow.workchain.WorkChainNode: [REPORT] [4345|ReplicaWorkChain|generate_replica]:  \n",
      "11/22/2019 12:17:20 PM <17769> aiida.orm.nodes.process.workflow.workchain.WorkChainNode: [REPORT] [4345|ReplicaWorkChain|next_replica]: Go to replica - 1\n",
      "11/22/2019 12:17:20 PM <17769> aiida.orm.nodes.process.workflow.workchain.WorkChainNode: [REPORT] [4345|ReplicaWorkChain|next_replica]: Remaining list: ['1.3'] (1)\n",
      "11/22/2019 12:17:20 PM <17769> aiida.orm.nodes.process.workflow.workchain.WorkChainNode: [REPORT] [4345|ReplicaWorkChain|generate_replica]: Running CP2K geometry optimization - Target: 1.3\n",
      "11/22/2019 12:17:20 PM <17769> aiida.orm.nodes.process.workflow.workchain.WorkChainNode: [REPORT] [4345|ReplicaWorkChain|generate_replica]:  \n",
      "11/22/2019 12:17:21 PM <17769> aiida.orm.nodes.process.workflow.workchain.WorkChainNode: [REPORT] [4345|ReplicaWorkChain|generate_replica]: inputs: {'metadata': {'label': 'replica_geo_opt', 'description': 'replica_uuid: b397f56b-b0bf-4414-b2fc-82ce48c6ca5d (pk: 4335) value: h2 test_1.3', 'options': {'resources': {'num_machines': 1}, 'max_wallclock_seconds': 86000}}, 'code': <Code: Remote code 'cp2k' on localhost, pk: 1, uuid: 8963b2e6-3418-4180-91eb-8d740dfe5e7e>, 'file': {'molslab_coords': <SinglefileData: uuid: 9fc6ec92-481a-448c-a34f-a714a5e0dc24 (unstored)>}, 'parent_calc_folder': <RemoteData: uuid: f2dc4bc8-c015-4985-9aed-3dca5f89114b (pk: 4375)>, 'parameters': <Dict: uuid: e63ebf47-1762-403d-a2d5-d4191b7f2fe5 (unstored)>, 'settings': <Dict: uuid: d0c8be09-6e34-4aa5-88f6-a08e3fe28e54 (unstored)>}\n",
      "11/22/2019 12:17:21 PM <17769> aiida.orm.nodes.process.workflow.workchain.WorkChainNode: [REPORT] [4345|ReplicaWorkChain|generate_replica]:  \n",
      "11/22/2019 12:17:21 PM <17769> aiida.orm.nodes.process.workflow.workchain.WorkChainNode: [REPORT] [4345|ReplicaWorkChain|generate_replica]: future: uuid: 43b39a3d-a77b-470b-85af-c714164afa4c (pk: 4390) (aiida.calculations:cp2k)\n",
      "11/22/2019 12:17:21 PM <17769> aiida.orm.nodes.process.workflow.workchain.WorkChainNode: [REPORT] [4345|ReplicaWorkChain|generate_replica]:  \n",
      "11/22/2019 12:19:20 PM <17769> aiida.orm.nodes.process.workflow.workchain.WorkChainNode: [REPORT] [4345|ReplicaWorkChain|next_replica]: Go to replica - 0\n",
      "11/22/2019 12:19:20 PM <17769> aiida.orm.nodes.process.workflow.workchain.WorkChainNode: [REPORT] [4345|ReplicaWorkChain|next_replica]: Remaining list: [] (0)\n"
     ]
    }
   ],
   "source": [
    "node = run(ReplicaWorkChain, **builder)"
   ]
  },
  {
   "cell_type": "code",
   "execution_count": null,
   "metadata": {},
   "outputs": [],
   "source": []
  }
 ],
 "metadata": {
  "kernelspec": {
   "display_name": "Python 3",
   "language": "python",
   "name": "python3"
  },
  "language_info": {
   "codemirror_mode": {
    "name": "ipython",
    "version": 3
   },
   "file_extension": ".py",
   "mimetype": "text/x-python",
   "name": "python",
   "nbconvert_exporter": "python",
   "pygments_lexer": "ipython3",
   "version": "3.6.8"
  }
 },
 "nbformat": 4,
 "nbformat_minor": 2
}
