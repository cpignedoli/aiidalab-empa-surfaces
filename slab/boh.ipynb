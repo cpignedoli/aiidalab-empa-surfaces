{
 "cells": [
  {
   "cell_type": "markdown",
   "metadata": {},
   "source": [
    "# Place a molecule onto a Surface"
   ]
  },
  {
   "cell_type": "code",
   "execution_count": null,
   "metadata": {},
   "outputs": [],
   "source": [
    "%aiida"
   ]
  },
  {
   "cell_type": "code",
   "execution_count": null,
   "metadata": {},
   "outputs": [],
   "source": [
    "# General imports\n",
    "import nglview\n",
    "import numpy as np\n",
    "import ipywidgets as ipw\n",
    "from collections import OrderedDict\n",
    "from ase.data import vdw_radii\n",
    "from IPython.display import display, clear_output, HTML\n",
    "from numpy.linalg import norm\n",
    "import scipy.stats\n",
    "\n",
    "# AiiDA imports\n",
    "from aiida.engine import calcfunction\n",
    "from aiida.orm import StructureData\n",
    "from aiidalab_widgets_base import StructureBrowserWidget\n",
    "from apps.surfaces.widgets import analyze_structure\n",
    "\n",
    "from ase.data import covalent_radii\n",
    "from ase.neighborlist import NeighborList\n",
    "import ase.neighborlist\n",
    "import ase.build\n",
    "\n",
    "\n",
    "# Custom imports\n",
    "from apps.surfaces.widgets import slabs"
   ]
  },
  {
   "cell_type": "markdown",
   "metadata": {},
   "source": [
    "## Step 1: Select a structure from the AiiDA database"
   ]
  },
  {
   "cell_type": "code",
   "execution_count": null,
   "metadata": {},
   "outputs": [],
   "source": [
    "def on_struct_change(c):\n",
    "    global orig_structure\n",
    "    orig_structure = None # disable event processing\n",
    "    s = struct_browser.results.value\n",
    "    if s:\n",
    "        atoms = s.get_ase()\n",
    "        details=analyze_structure.analyze(atoms)\n",
    "        orig_structure = s\n",
    "    update_view()"
   ]
  },
  {
   "cell_type": "code",
   "execution_count": null,
   "metadata": {
    "scrolled": true
   },
   "outputs": [],
   "source": [
    "struct_browser = StructureBrowserWidget()\n",
    "struct_browser.results.observe(on_struct_change, names='value')\n",
    "display(struct_browser)\n",
    "style = {'description_width': '30px'}\n",
    "layout = {'width': '10%'}"
   ]
  },
  {
   "cell_type": "markdown",
   "metadata": {},
   "source": [
    "## Step 2: Select cell size"
   ]
  },
  {
   "cell_type": "code",
   "execution_count": null,
   "metadata": {},
   "outputs": [],
   "source": [
    "def on_nxyz_change(c):\n",
    "    update_view()\n",
    "    \n",
    "\n",
    "\n",
    "selection = ipw.Text(placeholder='1..10',\n",
    "                                    description='selection',\n",
    "                                    style=style, layout={'width': '60%'})\n",
    "normal =  ipw.Text(placeholder='0 0 1',\n",
    "                                    description='axis rot.',\n",
    "                                    style=style, layout={'width': '30%'})\n",
    "phi_slider = ipw.BoundedFloatText(description='Dphi:', value=30, min=-90, \n",
    "                                        max=90, step=5,style=style, layout=layout)\n",
    "phi_slider.observe(on_nxyz_change, names='value')\n",
    "\n",
    "dx_slider = ipw.BoundedFloatText(description='Dx:', value=0.1, min=0.01, \n",
    "                                        max=2, step=0.1,style=style, layout=layout)\n",
    "dx_slider.observe(on_nxyz_change, names='value')\n",
    "\n",
    "dy_slider = ipw.BoundedFloatText(description='Dy:', value=0.1, min=0.01, \n",
    "                                        max=2, step=0.1,style=style, layout=layout)\n",
    "dy_slider.observe(on_nxyz_change, names='value')\n",
    "\n",
    "dz_slider = ipw.BoundedFloatText(description='Dz:', value=0.1, min=0.01, \n",
    "                                        max=2, step=0.1,style=style, layout=layout)\n",
    "dz_slider.observe(on_nxyz_change, names='value')\n",
    "\n",
    "dr_slider = ipw.BoundedFloatText(description='Dr:', value=0.1, min=0.01, \n",
    "                                        max=2, step=0.1,style=style, layout=layout)\n",
    "dr_slider.observe(on_nxyz_change, names='value')\n",
    "\n",
    "#display(drop_surface,dx_slider,dy_slider,dz_slider,nx_slider, ny_slider, nz_slider,phi_slider)\n",
    "\n",
    "\n",
    "display(ipw.VBox([selection,\n",
    "                  ipw.HBox([dx_slider,dy_slider,dz_slider]),\n",
    "                   ipw.HBox([dr_slider,phi_slider,normal])]))"
   ]
  },
  {
   "cell_type": "code",
   "execution_count": null,
   "metadata": {},
   "outputs": [],
   "source": [
    "def update_view():\n",
    "\n",
    "    with info_out:\n",
    "        clear_output()\n",
    "\n",
    "        inp_descr.value = \"\"\n",
    "\n",
    "        # remove old components\n",
    "        if hasattr(viewer, \"component_1\"):\n",
    "            viewer.component_1.clear_representations()\n",
    "            viewer.component_1.remove_unitcell()\n",
    "            cid = viewer.component_1.id\n",
    "            viewer.remove_component(cid)\n",
    "        if hasattr(viewer, \"component_0\"):\n",
    "            viewer.component_0.clear_representations()\n",
    "            viewer.component_0.remove_unitcell()\n",
    "            cid = viewer.component_0.id\n",
    "            viewer.remove_component(cid)\n",
    "\n",
    "        if orig_structure:\n",
    "            phi = phi_slider.value\n",
    "            dx = dx_slider.value\n",
    "            dy = dy_slider.value\n",
    "            dz = dz_slider.value\n",
    "            inp_descr.value = 'TEST'\n",
    "            mol = orig_structure.get_ase()\n",
    "            slab = slabs.prepare_slab(mol,\n",
    "                                dx=dx,dy=dy,dz=dz,phi=phi, nx=nx, ny=ny, nz=nz,which_surf=which_surf)\n",
    "            atoms = mol + slab\n",
    "#From Kristjan    \n",
    "            viewer.add_component(nglview.ASEStructure(mol)) # adds ball+stick\n",
    "            viewer.add_component(nglview.ASEStructure(slab), default_representation=False)\n",
    "            viewer.add_unitcell()\n",
    "            viewer.center()\n",
    "\n",
    "            viewer.component_1.add_ball_and_stick(aspectRatio=10.0, opacity=1.0)\n",
    "\n",
    "\n",
    "            # Orient camera to look from positive z\n",
    "            cell_z = atoms.cell[2, 2]\n",
    "            com = atoms.get_center_of_mass()\n",
    "            def_orientation = viewer._camera_orientation\n",
    "            top_z_orientation = [1.0, 0.0, 0.0, 0,\n",
    "                                 0.0, 1.0, 0.0, 0,\n",
    "                                 0.0, 0.0, -np.max([cell_z, 30.0]) , 0,\n",
    "                                 -com[0], -com[1], -com[2], 1]\n",
    "            viewer._set_camera_orientation(top_z_orientation)"
   ]
  },
  {
   "cell_type": "code",
   "execution_count": null,
   "metadata": {},
   "outputs": [],
   "source": [
    "viewer = nglview.NGLWidget()\n",
    "info_out = ipw.Output()\n",
    "display(viewer, info_out)"
   ]
  },
  {
   "cell_type": "markdown",
   "metadata": {},
   "source": [
    "## Step 3: Store structure in the AiiDA database"
   ]
  },
  {
   "cell_type": "code",
   "execution_count": null,
   "metadata": {},
   "outputs": [],
   "source": [
    "def on_click_store(b):\n",
    "    if not orig_structure:\n",
    "        print(\"No structure selected.\")\n",
    "        return\n",
    "\n",
    "    nx = Int(nx_slider.value)\n",
    "    ny = Int(ny_slider.value)\n",
    "    nz = Int(nz_slider.value)\n",
    "    dx = Float(dx_slider.value)\n",
    "    dy = Float(dy_slider.value)\n",
    "    dz = Float(dz_slider.value)\n",
    "    phi = Float(phi_slider.value)\n",
    "    s = prepare_mol_on_slab_wf(orig_structure,dx,dy,dz,phi, nx, ny, nz)\n",
    "    s.description = inp_descr.value\n",
    "    s.store()\n",
    "    print(\"Stored in AiiDA: \"+repr(s))\n",
    "\n",
    "cell_ready = False\n",
    "inp_descr = ipw.Text(placeholder=\"Description (optional)\")   \n",
    "btn_store = ipw.Button(description='Store in AiiDA')\n",
    "btn_store.on_click(on_click_store)\n",
    "display(ipw.HBox([btn_store, inp_descr]))"
   ]
  },
  {
   "cell_type": "code",
   "execution_count": null,
   "metadata": {},
   "outputs": [],
   "source": [
    "@calcfunction\n",
    "def modify_structure(orig_struct,list_modifications):\n",
    "    modified_structure=None\n",
    "    return StructureData(ase=new_atoms)"
   ]
  }
 ],
 "metadata": {
  "kernelspec": {
   "display_name": "Python 3",
   "language": "python",
   "name": "python3"
  },
  "language_info": {
   "codemirror_mode": {
    "name": "ipython",
    "version": 3
   },
   "file_extension": ".py",
   "mimetype": "text/x-python",
   "name": "python",
   "nbconvert_exporter": "python",
   "pygments_lexer": "ipython3",
   "version": "3.6.8"
  }
 },
 "nbformat": 4,
 "nbformat_minor": 2
}
