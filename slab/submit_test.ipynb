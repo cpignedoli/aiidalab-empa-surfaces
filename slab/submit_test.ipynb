{
 "cells": [
  {
   "cell_type": "markdown",
   "metadata": {},
   "source": [
    "#  Submit test"
   ]
  },
  {
   "cell_type": "code",
   "execution_count": null,
   "metadata": {},
   "outputs": [],
   "source": [
    "%aiida\n",
    "# General imports\n",
    "import nglview\n",
    "import numpy as np\n",
    "import ipywidgets as ipw\n",
    "from collections import OrderedDict\n",
    "from ase.data import vdw_radii\n",
    "from ase import Atoms\n",
    "from IPython.display import display, clear_output, HTML\n",
    "import itertools\n",
    "\n",
    "from traitlets import dlink, Dict\n",
    "\n",
    "# AiiDA imports\n",
    "#from aiida_cp2k.utils import Cp2kInput\n",
    "from aiida.orm import SinglefileData\n",
    "from aiidalab_widgets_base import CodeDropdown, SubmitButtonWidget,  StructureBrowserWidget\n",
    "from aiidalab_widgets_base.utils import string_range_to_set\n",
    "from aiida_cp2k.workchains.base import Cp2kBaseWorkChain\n",
    "\n",
    "# Custom imports\n",
    "\n",
    "from apps.surfaces.widgets.ANALYZE_structure import StructureAnalyzer\n",
    "#from apps.surfaces.widgets.cp2k2dict import CP2K2DICT\n",
    "from apps.surfaces.widgets.create_xyz_input_files import make_geom_file\n",
    "from apps.surfaces.widgets.inputs import InputDetails\n",
    "from apps.surfaces.widgets.viewer_details import ViewerDetails\n",
    "from apps.surfaces.widgets.slab_validity import slab_is_valid\n",
    "from apps.surfaces.widgets.cp2k_input_validity import validate_input #input_is_valid\n",
    "from apps.surfaces.widgets.suggested_param import suggested_parameters\n",
    "#from apps.surfaces.widgets.get_cp2k_input import Get_CP2K_Input\n",
    "\n",
    "from aiidalab_widgets_base import CodeDropdown, StructureManagerWidget, StructureBrowserWidget, StructureUploadWidget, SubmitButtonWidget, SmilesWidget"
   ]
  },
  {
   "cell_type": "code",
   "execution_count": null,
   "metadata": {},
   "outputs": [],
   "source": [
    "%%javascript\n",
    "IPython.OutputArea.prototype._should_scroll = function(lines) {\n",
    "    return false;\n",
    "}"
   ]
  },
  {
   "cell_type": "code",
   "execution_count": null,
   "metadata": {
    "scrolled": true
   },
   "outputs": [],
   "source": [
    "## STRUCTURE SELECTOR\n",
    "structure_selector = StructureManagerWidget(importers=[\n",
    "    (\"AiiDA database\", StructureBrowserWidget()),\n",
    "    (\"Import from computer\", StructureUploadWidget()),\n",
    "    ],\n",
    "    storable=False, node_class='StructureData')\n",
    "display(structure_selector)"
   ]
  },
  {
   "cell_type": "code",
   "execution_count": null,
   "metadata": {},
   "outputs": [],
   "source": [
    "## DESCRIPTION OF CALCULATION\n",
    "process_description = ipw.Text(description='Process description: ',\n",
    "                               placeholder='Type the name here.',\n",
    "                               style={'description_width': '120px'},\n",
    "                               layout={'width': '70%'})"
   ]
  },
  {
   "cell_type": "code",
   "execution_count": null,
   "metadata": {},
   "outputs": [],
   "source": [
    "# Code\n",
    "computer_code_dropdown = CodeDropdown(input_plugin='cp2k')\n",
    "\n",
    "input_details = InputDetails()\n",
    "\n",
    "create_input = ipw.Button(description=\"Create Input\")\n",
    "\n",
    "analyzer = StructureAnalyzer()\n",
    "\n",
    "dlink((structure_selector, 'structure'), (analyzer, 'structure'))\n",
    "dlink((analyzer, 'details'), (input_details, 'details'))\n",
    "dlink((computer_code_dropdown, 'selected_code'),(input_details, 'selected_code'))"
   ]
  },
  {
   "cell_type": "code",
   "execution_count": null,
   "metadata": {},
   "outputs": [],
   "source": [
    "def get_plain_input():\n",
    "    error_msg,submit_dict = CP2K2DICT(input_lines = input_details.plain_input.value)\n",
    "    if error_msg != \"\":\n",
    "        print(error_msg)\n",
    "    else:\n",
    "        input_builder = Cp2kBaseWorkChain.get_builder()\n",
    "\n",
    "        # code\n",
    "        input_builder.cp2k.code = computer_code_dropdown.selected_code\n",
    "        # structure\n",
    "        input_builder.cp2k.file.input_xyz = make_geom_file(structure_selector.structure_node, Str(\"mol_on_slab.xyz\")) \n",
    "\n",
    "        if details_dict['calc_type'] != 'Full DFT':\n",
    "            # slab potential\n",
    "            slab_element=list(slab_analyzed['slab_elements'])[0]\n",
    "            input_builder.cp2k.file.pot_f = SinglefileData(file='/home/aiida/apps/surfaces/slab/'+slab_element+'.pot')\n",
    "            mol_indexes = list(itertools.chain(*slab_analyzed['all_molecules']))\n",
    "            input_builder.cp2k.file.mol_xyz = make_geom_file(structure_selector.structure_node,\n",
    "                                                             Str(\"mol.xyz\"),\n",
    "                                                             selection=List(list=mol_indexes))        \n",
    "\n",
    "        input_builder.handler_overrides = Dict(dict={'resubmit_unconverged_geometry':True})\n",
    "\n",
    "        input_builder.cp2k.metadata = details_dict['metadata']\n",
    "        input_builder.metadata.label = \"SlabGeoOptWorkChain\"\n",
    "        input_builder.metadata.description = process_description.value\n",
    "\n",
    "        input_builder.cp2k.metadata['label'] = \"slab_geo_opt\"\n",
    "        input_builder.cp2k.metadata['description'] = process_description.value\n",
    "        input_builder.cp2k.parameters = Dict(dict=submit_dict)\n",
    "        #input_builder.cp2k.settings = Dict(dict={'additional_retrieve_list': [\"runtime.callgraph\"]})\n",
    "    return input_builder"
   ]
  },
  {
   "cell_type": "code",
   "execution_count": null,
   "metadata": {},
   "outputs": [],
   "source": [
    "btn_submit = SubmitButtonWidget(process=Cp2kBaseWorkChain, input_dictionary_function=get_plain_input)\n",
    "btn_submit.btn_submit.disabled=True"
   ]
  },
  {
   "cell_type": "code",
   "execution_count": null,
   "metadata": {},
   "outputs": [],
   "source": [
    "output = ipw.Output()\n",
    "def update_all(_=None):\n",
    "    btn_submit.btn_submit.disabled=True    \n",
    "\n",
    "def create(_=None):\n",
    "    can_submit, msg, details_dict = input_details.return_final_dictionary()\n",
    "    \n",
    "    btn_submit.btn_submit.disabled = not can_submit\n",
    "    with output:\n",
    "        clear_output()\n",
    "        if can_submit:\n",
    "            print(\"input created\")\n",
    "        else:\n",
    "            print(msg)\n",
    "            \n",
    "        \n",
    "\n",
    "create_input.on_click(create)\n",
    "input_details.observe(update_all, names='details')"
   ]
  },
  {
   "cell_type": "code",
   "execution_count": null,
   "metadata": {},
   "outputs": [],
   "source": [
    "display(ipw.VBox([input_details,computer_code_dropdown,create_input]))"
   ]
  },
  {
   "cell_type": "code",
   "execution_count": null,
   "metadata": {},
   "outputs": [],
   "source": [
    "## DISPLAY SUBMIT BUTTON\n",
    "display(btn_submit, output)"
   ]
  }
 ],
 "metadata": {
  "kernelspec": {
   "display_name": "Python 3",
   "language": "python",
   "name": "python3"
  },
  "language_info": {
   "codemirror_mode": {
    "name": "ipython",
    "version": 3
   },
   "file_extension": ".py",
   "mimetype": "text/x-python",
   "name": "python",
   "nbconvert_exporter": "python",
   "pygments_lexer": "ipython3",
   "version": "3.7.4"
  }
 },
 "nbformat": 4,
 "nbformat_minor": 2
}
