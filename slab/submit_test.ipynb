{
 "cells": [
  {
   "cell_type": "markdown",
   "metadata": {},
   "source": [
    "#  Submit test"
   ]
  },
  {
   "cell_type": "code",
   "execution_count": null,
   "metadata": {},
   "outputs": [],
   "source": [
    "%aiida\n",
    "# General imports\n",
    "import nglview\n",
    "import numpy as np\n",
    "import ipywidgets as ipw\n",
    "from collections import OrderedDict\n",
    "from ase.data import vdw_radii\n",
    "from ase import Atoms\n",
    "from IPython.display import display, clear_output, HTML\n",
    "import itertools\n",
    "\n",
    "from traitlets import dlink, Dict\n",
    "\n",
    "# AiiDA imports\n",
    "from aiida_cp2k.utils import Cp2kInput\n",
    "from aiida.orm import SinglefileData\n",
    "from aiidalab_widgets_base import CodeDropdown, SubmitButtonWidget,  StructureBrowserWidget\n",
    "from aiidalab_widgets_base.utils import string_range_to_set\n",
    "from aiida_cp2k.workchains.base import Cp2kBaseWorkChain\n",
    "\n",
    "# Custom imports\n",
    "\n",
    "from apps.surfaces.widgets.ANALYZE_structure import StructureAnalyzer\n",
    "from apps.surfaces.widgets.cp2k2dict import CP2K2DICT\n",
    "from apps.surfaces.widgets.create_xyz_input_files import make_geom_file\n",
    "from apps.surfaces.widgets.inputs import PlainInputDetails, InputDetails\n",
    "from apps.surfaces.widgets.viewer_details import ViewerDetails\n",
    "from apps.surfaces.widgets.slab_validity import slab_is_valid\n",
    "from apps.surfaces.widgets.cp2k_input_validity import validate_input #input_is_valid\n",
    "from apps.surfaces.widgets.suggested_param import suggested_parameters\n",
    "from apps.surfaces.widgets.get_cp2k_input import Get_CP2K_Input\n",
    "\n",
    "from aiidalab_widgets_base import CodeDropdown, StructureManagerWidget, StructureBrowserWidget, StructureUploadWidget, SubmitButtonWidget, SmilesWidget"
   ]
  },
  {
   "cell_type": "code",
   "execution_count": null,
   "metadata": {},
   "outputs": [],
   "source": [
    "%%javascript\n",
    "IPython.OutputArea.prototype._should_scroll = function(lines) {\n",
    "    return false;\n",
    "}"
   ]
  },
  {
   "cell_type": "code",
   "execution_count": null,
   "metadata": {
    "scrolled": true
   },
   "outputs": [],
   "source": [
    "## STRUCTURE SELECTOR\n",
    "structure_selector = StructureManagerWidget(importers=[\n",
    "    (\"AiiDA database\", StructureBrowserWidget()),\n",
    "    (\"Import from computer\", StructureUploadWidget()),\n",
    "    ],\n",
    "    storable=False, node_class='StructureData')\n",
    "display(structure_selector)"
   ]
  },
  {
   "cell_type": "code",
   "execution_count": null,
   "metadata": {},
   "outputs": [],
   "source": [
    "## DESCRIPTION OF CALCULATION\n",
    "process_description = ipw.Text(description='Process description: ',\n",
    "                               placeholder='Type the name here.',\n",
    "                               style={'description_width': '120px'},\n",
    "                               layout={'width': '70%'})"
   ]
  },
  {
   "cell_type": "code",
   "execution_count": null,
   "metadata": {},
   "outputs": [],
   "source": [
    "output = ipw.Output()\n",
    "def update_dict(_=None):\n",
    "    with output:\n",
    "        clear_output()\n",
    "        print(input_details.return_final_dictionary())\n",
    "display_updated = ipw.Button(description=\"display updated\")\n",
    "display_updated.on_click(update_dict)"
   ]
  },
  {
   "cell_type": "code",
   "execution_count": null,
   "metadata": {
    "scrolled": true
   },
   "outputs": [],
   "source": [
    "# Code\n",
    "computer_code_dropdown = CodeDropdown(input_plugin='cp2k')\n",
    "input_details = InputDetails()\n",
    "input_details.observe(update_dict, names='details')\n",
    "analyzer = StructureAnalyzer()\n",
    "dlink((structure_selector, 'structure'), (analyzer, 'structure'))\n",
    "dlink((analyzer, 'details'), (input_details, 'details'))\n",
    "display(input_details)"
   ]
  },
  {
   "cell_type": "code",
   "execution_count": null,
   "metadata": {},
   "outputs": [],
   "source": [
    "## DISPLAY SUBMIT BUTTON\n",
    "btn_submit = SubmitButtonWidget(process=Cp2kBaseWorkChain, input_dictionary_function=None)\n",
    "display(btn_submit, display_updated, output)"
   ]
  }
 ],
 "metadata": {
  "kernelspec": {
   "display_name": "Python 3",
   "language": "python",
   "name": "python3"
  },
  "language_info": {
   "codemirror_mode": {
    "name": "ipython",
    "version": 3
   },
   "file_extension": ".py",
   "mimetype": "text/x-python",
   "name": "python",
   "nbconvert_exporter": "python",
   "pygments_lexer": "ipython3",
   "version": "3.7.4"
  }
 },
 "nbformat": 4,
 "nbformat_minor": 2
}
