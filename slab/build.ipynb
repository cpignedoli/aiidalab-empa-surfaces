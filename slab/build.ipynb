{
 "cells": [
  {
   "cell_type": "markdown",
   "metadata": {},
   "source": [
    "# Place a molecule onto a Surface"
   ]
  },
  {
   "cell_type": "code",
   "execution_count": 1,
   "metadata": {},
   "outputs": [],
   "source": [
    "from aiida import load_dbenv, is_dbenv_loaded\n",
    "from aiida.backends import settings\n",
    "if not is_dbenv_loaded():\n",
    "    load_dbenv(profile=settings.AIIDADB_PROFILE)\n",
    "\n",
    "from aiida.orm.querybuilder import QueryBuilder\n",
    "from aiida.orm.data.structure import StructureData\n",
    "from aiida.orm.data.base import Int, Float\n",
    "from aiida.work.workfunction import workfunction\n",
    "\n",
    "from ase.data import covalent_radii\n",
    "from ase.neighborlist import NeighborList\n",
    "import ase.neighborlist\n",
    "import ase.build\n",
    "\n",
    "from IPython.display import display, clear_output\n",
    "import ipywidgets as ipw\n",
    "import numpy as np\n",
    "from numpy.linalg import norm\n",
    "import scipy.stats\n",
    "import nglview\n",
    "\n",
    "from apps.surfaces.widgets import slabs\n",
    "\n",
    "from apps.surfaces.structure_browser import StructureBrowser"
   ]
  },
  {
   "cell_type": "markdown",
   "metadata": {},
   "source": [
    "## Step 1: Select a structure from the AiiDA database"
   ]
  },
  {
   "cell_type": "code",
   "execution_count": 2,
   "metadata": {},
   "outputs": [],
   "source": [
    "def on_struct_change(c):\n",
    "    global orig_structure\n",
    "    orig_structure = None # disable event processing\n",
    "    s = struct_browser.results.value\n",
    "    if s:\n",
    "        atoms = s.get_ase()\n",
    "        #nx, ny = guess_slab_size(atoms)\n",
    "        nx, ny = slabs.guess_slab_size(atoms)\n",
    "        nx_slider.value = nx\n",
    "        ny_slider.value = ny\n",
    "        orig_structure = s\n",
    "    update_view()"
   ]
  },
  {
   "cell_type": "code",
   "execution_count": 3,
   "metadata": {
    "scrolled": true
   },
   "outputs": [
    {
     "data": {
      "application/vnd.jupyter.widget-view+json": {
       "model_id": "c8b8e30087274a2280892e785507f000",
       "version_major": 2,
       "version_minor": 0
      },
      "text/plain": [
       "U3RydWN0dXJlQnJvd3NlcihjaGlsZHJlbj0oVkJveChjaGlsZHJlbj0oVkJveChjaGlsZHJlbj0oSFRNTCh2YWx1ZT11JzxwPlNlbGVjdCB0aGUgZGF0ZSByYW5nZTo8L3A+JyksIEhCb3goY2jigKY=\n"
      ]
     },
     "metadata": {},
     "output_type": "display_data"
    }
   ],
   "source": [
    "struct_browser = StructureBrowser()\n",
    "struct_browser.results.observe(on_struct_change, names='value')\n",
    "display(struct_browser)\n",
    "style = {'description_width': '30px'}\n",
    "layout = {'width': '10%'}"
   ]
  },
  {
   "cell_type": "markdown",
   "metadata": {},
   "source": [
    "## Step 2: Select cell size"
   ]
  },
  {
   "cell_type": "code",
   "execution_count": 4,
   "metadata": {},
   "outputs": [
    {
     "data": {
      "application/vnd.jupyter.widget-view+json": {
       "model_id": "4821bfb8efea48fe8647ba814cd3db0e",
       "version_major": 2,
       "version_minor": 0
      },
      "text/plain": [
       "VkJveChjaGlsZHJlbj0oRHJvcGRvd24oZGVzY3JpcHRpb249dSdTdXJmYWNlJywgb3B0aW9ucz0oJ0F1KDExMSknLCAnQWcoMTExKScsICdDdSgxMTEpJywgJ2hCTicsICdQZEdhX0FfUGQxJyzigKY=\n"
      ]
     },
     "metadata": {},
     "output_type": "display_data"
    }
   ],
   "source": [
    "def on_nxyz_change(c):\n",
    "    update_view()\n",
    "    \n",
    "\n",
    "drop_surface = ipw.Dropdown(description=\"Surface\",\n",
    "                            options=[\"Au(111)\",\"Ag(111)\",\"Cu(111)\",\"hBN\",\"PdGa_A_Pd1\",\"PdGa_A_Pd3\"],\n",
    "                            value=\"Au(111)\"\n",
    "#                           ,style=style, layout=layout\n",
    "                            )\n",
    "drop_surface.observe(on_nxyz_change, names='value')\n",
    "nx_slider = ipw.IntSlider(description=\"nx\", min=1, max=60, continuous_update=False)\n",
    "nx_slider.observe(on_nxyz_change, names='value')\n",
    "ny_slider = ipw.IntSlider(description=\"ny\", min=1, max=30, continuous_update=False)\n",
    "ny_slider.observe(on_nxyz_change, names='value')\n",
    "nz_slider = ipw.IntSlider(description=\"nz\", min=1, max=10,value=4, continuous_update=False)\n",
    "nz_slider.observe(on_nxyz_change, names='value')\n",
    "phi_slider = ipw.IntSlider(description=\"phi\", min=0, max=180,step=5, continuous_update=False)\n",
    "phi_slider.observe(on_nxyz_change, names='value')\n",
    "dx_slider = ipw.BoundedFloatText(description='dx:', value=0, min=-5, max=5, step=1e-1,\n",
    "                                  style=style, layout=layout)\n",
    "dx_slider.observe(on_nxyz_change, names='value')\n",
    "\n",
    "dy_slider = ipw.BoundedFloatText(description='dy:', value=0, min=-5, max=5, step=1e-1,\n",
    "                                  style=style, layout=layout)\n",
    "dy_slider.observe(on_nxyz_change, names='value')\n",
    "\n",
    "dz_slider = ipw.BoundedFloatText(description='dz:', value=0, min=-5, max=5, step=1e-1,\n",
    "                                  style=style, layout=layout)\n",
    "dz_slider.observe(on_nxyz_change, names='value')\n",
    "\n",
    "#display(drop_surface,dx_slider,dy_slider,dz_slider,nx_slider, ny_slider, nz_slider,phi_slider)\n",
    "\n",
    "\n",
    "display(ipw.VBox([drop_surface,ipw.HBox([nx_slider,ny_slider,nz_slider]),\n",
    "                  ipw.HBox([dx_slider,dy_slider,dz_slider]),\n",
    "                   phi_slider]))"
   ]
  },
  {
   "cell_type": "code",
   "execution_count": 5,
   "metadata": {},
   "outputs": [],
   "source": [
    "def update_view():\n",
    "\n",
    "    with info_out:\n",
    "        clear_output()\n",
    "\n",
    "        inp_descr.value = \"\"\n",
    "\n",
    "        # remove old components\n",
    "        if hasattr(viewer, \"component_1\"):\n",
    "            viewer.component_1.clear_representations()\n",
    "            viewer.component_1.remove_unitcell()\n",
    "            cid = viewer.component_1.id\n",
    "            viewer.remove_component(cid)\n",
    "        if hasattr(viewer, \"component_0\"):\n",
    "            viewer.component_0.clear_representations()\n",
    "            viewer.component_0.remove_unitcell()\n",
    "            cid = viewer.component_0.id\n",
    "            viewer.remove_component(cid)\n",
    "\n",
    "        if orig_structure:\n",
    "            nx = nx_slider.value\n",
    "            ny = ny_slider.value\n",
    "            nz = nz_slider.value\n",
    "            phi = phi_slider.value\n",
    "            dx = dx_slider.value\n",
    "            dy = dy_slider.value\n",
    "            dz = dz_slider.value\n",
    "            which_surf=drop_surface.value\n",
    "            inp_descr.value = orig_structure.description + \"_\" + which_surf + \".slab(%d,%d,%d)\"%(nx,ny,nz)\n",
    "            mol = orig_structure.get_ase()\n",
    "            slab = slabs.prepare_slab(mol,\n",
    "                                dx=dx,dy=dy,dz=dz,phi=phi, nx=nx, ny=ny, nz=nz,which_surf=which_surf)\n",
    "            atoms = mol + slab\n",
    "#From Kristjan    \n",
    "            viewer.add_component(nglview.ASEStructure(mol)) # adds ball+stick\n",
    "            viewer.add_component(nglview.ASEStructure(slab), default_representation=False)\n",
    "            viewer.add_unitcell()\n",
    "            viewer.center()\n",
    "\n",
    "            viewer.component_1.add_ball_and_stick(aspectRatio=10.0, opacity=1.0)\n",
    "\n",
    "\n",
    "            # Orient camera to look from positive z\n",
    "            cell_z = atoms.cell[2, 2]\n",
    "            com = atoms.get_center_of_mass()\n",
    "            def_orientation = viewer._camera_orientation\n",
    "            top_z_orientation = [1.0, 0.0, 0.0, 0,\n",
    "                                 0.0, 1.0, 0.0, 0,\n",
    "                                 0.0, 0.0, -np.max([cell_z, 30.0]) , 0,\n",
    "                                 -com[0], -com[1], -com[2], 1]\n",
    "            viewer._set_camera_orientation(top_z_orientation)"
   ]
  },
  {
   "cell_type": "code",
   "execution_count": 6,
   "metadata": {},
   "outputs": [
    {
     "data": {
      "application/vnd.jupyter.widget-view+json": {
       "model_id": "22a06a3e41854be0a2f5603bb0490f49",
       "version_major": 2,
       "version_minor": 0
      },
      "text/plain": [
       "NGLWidget()"
      ]
     },
     "metadata": {},
     "output_type": "display_data"
    },
    {
     "data": {
      "application/vnd.jupyter.widget-view+json": {
       "model_id": "ed38e0862fb845518ff32a1492d12d72",
       "version_major": 2,
       "version_minor": 0
      },
      "text/plain": [
       "Output()"
      ]
     },
     "metadata": {},
     "output_type": "display_data"
    }
   ],
   "source": [
    "viewer = nglview.NGLWidget()\n",
    "info_out = ipw.Output()\n",
    "display(viewer, info_out)"
   ]
  },
  {
   "cell_type": "code",
   "execution_count": 7,
   "metadata": {},
   "outputs": [],
   "source": [
    "## Au lattice param used: 4.1691\n",
    "## dimensions of a rectangular unit cell of Au with z pointing in (111) direction\n",
    "#Au_x = 2.94799888 # a/sqrt(2)\n",
    "#Au_y = 5.10608384 # a*sqrt(3/2)\n",
    "#\n",
    "## Ag lattice param used: 4.10669535119\n",
    "## dimensions of a rectangular unit cell of Ag with z pointing in (111) direction\n",
    "#Ag_x = 2.90387213 # a/sqrt(2)\n",
    "#Ag_y = 5.02965407 # a*sqrt(3/2)\n",
    "#\n",
    "## Cu lattice param used: 3.60103410694\n",
    "## dimensions of a rectangular unit cell of Cu with z pointing in (111) direction\n",
    "#Cu_x = 2.54631564 # a/sqrt(2)\n",
    "#Cu_y = 4.41034805 # a*sqrt(3/2)\n",
    "#\n",
    "## And the x,y coordinates of the Au,Ag,Cu atoms in exact symmetric positions of the three layers of the unit cell\n",
    "#au_exact_xz = np.array([\n",
    "#    [[0.00000000, 1.70202795], [1.47399944, 4.25506987]],\n",
    "#    [[0.00000000, 0.00000000], [1.47399944, 2.55304192]],\n",
    "#    [[0.00000000, 3.40405590], [1.47399944, 0.85101397]]])\n",
    "#\n",
    "#dz_au_bulk = 2.40703101 # Distance between bulk Au layers \n",
    "#dz_au_h    = 0.86519004 # Distance between Au and H layer\n",
    "#dz_au_1_2  = 2.45156905 # Distance between Au top layer and 2nd layer\n",
    "#dz_au_2_3  = 2.39444938 # Distance between Au 2nd layer and 3rd layer (bulk)\n",
    "#\n",
    "#\n",
    "## And the x,y coordinates of the Au,Ag,Cu atoms in exact symmetric positions of the three layers of the unit cell\n",
    "#ag_exact_xz = au_exact_xz*4.10669535119 / 4.1691\n",
    "#\n",
    "#dz_ag_bulk = dz_au_bulk*4.10669535119 / 4.1691 # Distance between bulk Ag layers \n",
    "#dz_ag_h    = 0.85106910 # Distance between Ag and H layer\n",
    "#dz_ag_1_2  = 2.35156179 # Distance between Ag top layer and 2nd layer\n",
    "#dz_ag_2_3  = 2.37580264 # Distance between Ag 2nd layer and 3rd layer (bulk)\n",
    "#\n",
    "#\n",
    "#\n",
    "## And the x,y coordinates of the Au,Ag,Cu atoms in exact symmetric positions of the three layers of the unit cell\n",
    "#cu_exact_xz = au_exact_xz*3.60103410694 / 4.1691\n",
    "#\n",
    "#dz_cu_bulk = dz_au_bulk*3.60103410694 / 4.1691 # Distance between bulk Cu layers \n",
    "#dz_cu_h    = 0.86502011 # Distance between Cu and H layer\n",
    "#dz_cu_1_2  = 2.06853511 # Distance between Cu top layer and 2nd layer\n",
    "#dz_cu_2_3  = 2.08397214 # Distance between Cu 2nd layer and 3rd layer (bulk)\n",
    "#\n",
    "#\n",
    "#\n",
    "#def guess_slab_size(mol):\n",
    "#    cx = np.amax(mol.positions[:,0]) - np.amin(mol.positions[:,0]) + 10\n",
    "#    cy = np.amax(mol.positions[:,1]) - np.amin(mol.positions[:,1]) + 10\n",
    "#    nx = int(round(cx/Au_x))\n",
    "#    ny = int(round(cy/Au_y))\n",
    "#    return nx, ny\n",
    "#\n",
    "#def prepare_slab(mol,dx,dy,dz,phi, nx, ny, nz, which_surf):\n",
    "#    \n",
    "#    if which_surf == \"Au(111)\":\n",
    "#        Lx=Au_x\n",
    "#        Ly=Au_y\n",
    "#        dz_bulk=dz_au_bulk\n",
    "#        dz_h=dz_au_h\n",
    "#        dz_2_3=dz_au_2_3\n",
    "#        dz_1_2=dz_au_1_2\n",
    "#        exact_xz=au_exact_xz\n",
    "#        ida=79\n",
    "#    elif which_surf == \"Ag(111)\":\n",
    "#        Lx=Ag_x\n",
    "#        Ly=Ag_y\n",
    "#        dz_bulk=dz_ag_bulk\n",
    "#        dz_h=dz_ag_h\n",
    "#        dz_2_3=dz_ag_2_3\n",
    "#        dz_1_2=dz_ag_1_2\n",
    "#        exact_xz=ag_exact_xz\n",
    "#        ida=47\n",
    "#    elif which_surf == \"Cu(111)\":\n",
    "#        Lx=Cu_x\n",
    "#        Ly=Cu_y\n",
    "#        dz_bulk=dz_cu_bulk\n",
    "#        dz_h=dz_cu_h\n",
    "#        dz_2_3=dz_cu_2_3\n",
    "#        dz_1_2=dz_cu_1_2\n",
    "#        exact_xz=cu_exact_xz\n",
    "#        ida=29\n",
    "#    \n",
    "#    # Build up the unit cell of the gold slab with nz Au layers\n",
    "#    the_slab = []\n",
    "#    layer_z = 10.0\n",
    "#    # H layer in au lattice x-y positions\n",
    "#    the_slab.append([1, exact_xz[0, 0, 0], exact_xz[0, 0, 1], layer_z])\n",
    "#    the_slab.append([1, exact_xz[0, 1, 0], exact_xz[0, 1, 1], layer_z])\n",
    "#    # nz bulk layers\n",
    "#    for i in range(nz):\n",
    "#        if i == 0:\n",
    "#            layer_z += dz_h\n",
    "#        elif i == nz - 2:\n",
    "#            layer_z += dz_2_3\n",
    "#        elif i == nz - 1:\n",
    "#            layer_z += dz_1_2\n",
    "#        else:\n",
    "#            layer_z += dz_bulk\n",
    "#        xy_pos = exact_xz[(i+1)%3]\n",
    "#        the_slab.append([ida, xy_pos[0, 0], xy_pos[0, 1], layer_z])\n",
    "#        the_slab.append([ida, xy_pos[1, 0], xy_pos[1, 1], layer_z])\n",
    "#    \n",
    "#    the_slab = np.array(the_slab)\n",
    "#    \n",
    "#    # determine cell size\n",
    "#    vac_size = 40.0\n",
    "#    slab_z_max = np.max(the_slab[:, 3])\n",
    "#    slab_z_extent = slab_z_max - np.min(the_slab[:, 3])\n",
    "#    \n",
    "#    cz = slab_z_extent + vac_size\n",
    "#    cx = nx * Lx\n",
    "#    cy = ny * Ly\n",
    "#    print(\"Cell ABC: %f, %f, %f\"%(cx, cy, cz))\n",
    "#    \n",
    "#    #rotate molecule\n",
    "#    mol.rotate(phi,'z')\n",
    "#    \n",
    "#    # position molecule\n",
    "#    mol_slab_dist = 2.3\n",
    "#    \n",
    "#    mol.cell = (cx,cy,cz)\n",
    "#    mol.pbc = (True,True,True)\n",
    "#    \n",
    "#    # position molecule a bit above gold slab\n",
    "#    mol.center()\n",
    "#    mol_z_min = np.min(mol.positions[:,2])\n",
    "#    mol.positions[:,2] += slab_z_max - mol_z_min + mol_slab_dist\n",
    "#\n",
    "#    # translate molecule \n",
    "#    mol.positions += np.array([dx,dy,dz])\n",
    "#    \n",
    "#    # generate gold slab based on the rectangular unit cell\n",
    "#    the_slab_raw = []\n",
    "#    for i in range(nx):\n",
    "#        for j in range(ny):\n",
    "#            shift = np.array([0, i*Lx, j*Ly, 0])\n",
    "#            the_slab_raw.append(the_slab + shift)\n",
    "#\n",
    "#    the_slab_raw = np.concatenate(the_slab_raw)\n",
    "#    the_slab = ase.Atoms(numbers=the_slab_raw[:,0], positions=the_slab_raw[:,1:])\n",
    "#    the_slab = ase.build.sort(the_slab, tags=the_slab.get_positions()[:,2]*-1)\n",
    "#    \n",
    "#    return the_slab"
   ]
  },
  {
   "cell_type": "markdown",
   "metadata": {},
   "source": [
    "## Step 3: Store structure in the AiiDA database"
   ]
  },
  {
   "cell_type": "code",
   "execution_count": 8,
   "metadata": {},
   "outputs": [
    {
     "data": {
      "application/vnd.jupyter.widget-view+json": {
       "model_id": "fc6045f8bbf440a4bf7a34cd4d7b8c3d",
       "version_major": 2,
       "version_minor": 0
      },
      "text/plain": [
       "SEJveChjaGlsZHJlbj0oQnV0dG9uKGRlc2NyaXB0aW9uPXUnU3RvcmUgaW4gQWlpREEnLCBzdHlsZT1CdXR0b25TdHlsZSgpKSwgVGV4dCh2YWx1ZT11JycsIHBsYWNlaG9sZGVyPXUnRGVzY3LigKY=\n"
      ]
     },
     "metadata": {},
     "output_type": "display_data"
    }
   ],
   "source": [
    "def on_click_store(b):\n",
    "    if not orig_structure:\n",
    "        print(\"No structure selected.\")\n",
    "        return\n",
    "\n",
    "    nx = Int(nx_slider.value)\n",
    "    ny = Int(ny_slider.value)\n",
    "    nz = Int(nz_slider.value)\n",
    "    dx = Float(dx_slider.value)\n",
    "    dy = Float(dy_slider.value)\n",
    "    dz = Float(dz_slider.value)\n",
    "    phi = Float(phi_slider.value)\n",
    "    s = prepare_mol_on_slab_wf(orig_structure,dx,dy,dz,phi, nx, ny, nz)\n",
    "    s.description = inp_descr.value\n",
    "    s.store()\n",
    "    print(\"Stored in AiiDA: \"+repr(s))\n",
    "\n",
    "cell_ready = False\n",
    "inp_descr = ipw.Text(placeholder=\"Description (optional)\")   \n",
    "btn_store = ipw.Button(description='Store in AiiDA')\n",
    "btn_store.on_click(on_click_store)\n",
    "display(ipw.HBox([btn_store, inp_descr]))"
   ]
  },
  {
   "cell_type": "code",
   "execution_count": 9,
   "metadata": {},
   "outputs": [],
   "source": [
    "@workfunction\n",
    "def prepare_mol_on_slab_wf(orig_struct,dx,dy,dz,phi, nx, ny, nz):\n",
    "    nx, ny, nz = nx.value, ny.value, nz.value\n",
    "    dx, dy, dz = dx.value, dy.value, dz.value\n",
    "    phi=phi.value\n",
    "    orig_atoms = orig_struct.get_ase()\n",
    "    #slab_atoms = prepare_slab(orig_atoms,dx,dy,dz,phi, nx, ny, nz, drop_surface.value)\n",
    "    slab_atoms = slabs.prepare_slab(orig_atoms,dx,dy,dz,phi, nx, ny, nz, drop_surface.value)\n",
    "    new_atoms = orig_atoms + slab_atoms\n",
    "    return StructureData(ase=new_atoms)"
   ]
  },
  {
   "cell_type": "code",
   "execution_count": null,
   "metadata": {},
   "outputs": [],
   "source": []
  }
 ],
 "metadata": {
  "kernelspec": {
   "display_name": "Python 2",
   "language": "python",
   "name": "python2"
  },
  "language_info": {
   "codemirror_mode": {
    "name": "ipython",
    "version": 2
   },
   "file_extension": ".py",
   "mimetype": "text/x-python",
   "name": "python",
   "nbconvert_exporter": "python",
   "pygments_lexer": "ipython2",
   "version": "2.7.15rc1"
  }
 },
 "nbformat": 4,
 "nbformat_minor": 2
}
