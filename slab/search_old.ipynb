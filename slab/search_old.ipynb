{
 "cells": [
  {
   "cell_type": "markdown",
   "metadata": {},
   "source": [
    "# Search AiiDA Database for Slab Models"
   ]
  },
  {
   "cell_type": "code",
   "execution_count": null,
   "metadata": {},
   "outputs": [],
   "source": [
    "%aiida"
   ]
  },
  {
   "cell_type": "code",
   "execution_count": null,
   "metadata": {},
   "outputs": [],
   "source": [
    "# General imports\n",
    "#import ase.io\n",
    "#from base64 import b64encode\n",
    "import numpy as np\n",
    "import ipywidgets as ipw\n",
    "import matplotlib.pyplot as plt\n",
    "from IPython.display import display, clear_output\n",
    "import datetime\n",
    "#from tempfile import NamedTemporaryFile\n",
    "    \n",
    "# Custom imports\n",
    "from apps.surfaces.widgets import  search_completed"
   ]
  },
  {
   "cell_type": "code",
   "execution_count": null,
   "metadata": {},
   "outputs": [],
   "source": [
    "############################   START OF PREPROCESSING   ###############################"
   ]
  },
  {
   "cell_type": "code",
   "execution_count": null,
   "metadata": {},
   "outputs": [],
   "source": [
    "PREPROCESS_VERSION = 0.96\n",
    "\n"
   ]
  },
  {
   "cell_type": "code",
   "execution_count": null,
   "metadata": {},
   "outputs": [],
   "source": [
    "############################   END OF PREPROCESSING   ###############################"
   ]
  },
  {
   "cell_type": "code",
   "execution_count": null,
   "metadata": {
    "scrolled": false
   },
   "outputs": [],
   "source": [
    "def search():\n",
    "    \n",
    "    results.value = \"preprocessing...\"\n",
    "    search_completed.preprocess_newbies(preprocess_v=PREPROCESS_VERSION,wlabel='SlabGeoOptWorkChain',clabel='slab_geo_opt')\n",
    "    try:\n",
    "        import apps.scanning_probe.common\n",
    "        apps.scanning_probe.common.preprocess_spm_calcs(workchain_list = ['STMWorkChain', 'PdosWorkChain', 'AfmWorkChain'])\n",
    "    except:\n",
    "        print(\"Warning: scanning_probe app not found, skipping spm preprocess.\")\n",
    "    \n",
    "    results.value = \"searching...\"\n",
    "    \n",
    "    # html table header\n",
    "    html  = '<style>#aiida_results td,th {padding: 2px}</style>' \n",
    "    html += '<table border=1 id=\"aiida_results\" style=\"margin:10px;\"><tr>'\n",
    "    html += '<th>PK</th>'\n",
    "    html += '<th>Creation Time</th>'\n",
    "    html += '<th>Formula</th>'\n",
    "    html += '<th>CalcName</th>'\n",
    "    html += '<th>Energy</th>'\n",
    "    html += '<th>Structure</th>'\n",
    "    html += '<th>Extra calculations</th>'\n",
    "    html += '</tr>'\n",
    "\n",
    "    # query AiiDA database\n",
    "    filters = {}\n",
    "    filters['label'] = 'SlabGeoOptWorkChain'\n",
    "    filters['extras.preprocess_version'] = PREPROCESS_VERSION\n",
    "    filters['extras.preprocess_successful'] = True\n",
    "    filters['extras.obsolete'] = False\n",
    "    \n",
    "    pk_list = inp_pks.value.strip().split()\n",
    "    if pk_list:\n",
    "        filters['id'] = {'in': pk_list}\n",
    "        \n",
    "    formula_list = inp_formula.value.strip().split()\n",
    "    if inp_formula.value:\n",
    "        filters['extras.formula'] = {'in': formula_list}\n",
    "        \n",
    "    if len(text_description.value) > 1:\n",
    "        filters['description'] = {'like': '%{}%'.format(text_description.value)}\n",
    "    \n",
    "    try: # If the date range is valid, use it for the search\n",
    "        start_date = datetime.datetime.strptime(date_start.value, '%Y-%m-%d')\n",
    "        end_date = datetime.datetime.strptime(date_end.value, '%Y-%m-%d') + datetime.timedelta(hours=24)\n",
    "    except ValueError: # Otherwise revert to the standard (i.e. last 10 days)\n",
    "        end_date = datetime.datetime.now()\n",
    "        start_date = end_date - datetime.timedelta(days=20)\n",
    "\n",
    "        date_start.value = start_date.strftime('%Y-%m-%d')\n",
    "        date_end.value = end_date.strftime('%Y-%m-%d')\n",
    "    \n",
    "    filters['ctime'] = {'and':[{'<=': end_date},{'>': start_date}]}\n",
    "    \n",
    "    qb = QueryBuilder()        \n",
    "    qb.append(WorkChainNode, filters=filters)\n",
    "    qb.order_by({WorkChainNode:{'ctime':'desc'}})\n",
    "\n",
    "    for i, node_tuple in enumerate(qb.iterall()):\n",
    "        node = node_tuple[0]\n",
    "        thumbnail = node.extras['thumbnail']\n",
    "        description = node.extras['structure_description']\n",
    "        opt_structure_uuid = node.extras['opt_structure_uuid']\n",
    "        \n",
    "        ## Find all extra calculations done on the optimized geometry\n",
    "        extra_calc_links = \"\"\n",
    "        opt_structure = load_node(opt_structure_uuid)\n",
    "        st_extras = opt_structure.extras\n",
    "        \n",
    "        ### --------------------------------------------------\n",
    "        ### add links to SPM calcs\n",
    "        try:\n",
    "            import apps.scanning_probe.common\n",
    "            extra_calc_links += apps.scanning_probe.common.create_viewer_link_html(st_extras, \"../../\")\n",
    "        except Exception as e:\n",
    "            pass\n",
    "        ### --------------------------------------------------\n",
    "        \n",
    "        extra_calc_area = \"<div id='wrapper' style='overflow-y:auto; height:100px; line-height:1.5;'> %s </div>\" % extra_calc_links\n",
    "        \n",
    "        # append table row\n",
    "        html += '<tr>'\n",
    "        html += '<td>%d</td>' % node.pk\n",
    "        html += '<td>%s</td>' % node.ctime.strftime(\"%Y-%m-%d %H:%M\")\n",
    "        html += '<td>%s</td>' % node.extras['formula']\n",
    "        html += '<td>%s</td>' % node.description\n",
    "        html += '<td>%f</td>' % node.extras['energy']\n",
    "        html += '<td><a target=\"_blank\" href=\"../export_structure.ipynb?uuid=%s\">'%opt_structure_uuid\n",
    "        html += '<img width=\"100px\" src=\"data:image/png;base64,%s\" title=\"PK%d: %s\"></a></td>' % (thumbnail, opt_structure.pk, description)\n",
    "        html += '<td>%s</td>' % extra_calc_area\n",
    "        html += '</td>'\n",
    "        html += '</tr>'\n",
    "\n",
    "    html += '</table>'\n",
    "    html += 'Found %d matching entries.<br>'%qb.count()\n",
    "\n",
    "    results.value = html"
   ]
  },
  {
   "cell_type": "code",
   "execution_count": null,
   "metadata": {},
   "outputs": [],
   "source": [
    "# search UI\n",
    "style = {\"description_width\":\"150px\"}\n",
    "layout = ipw.Layout(width=\"600px\")\n",
    "inp_pks = ipw.Text(description='PKs', placeholder='e.g. 4062 4753 (space separated)', layout=layout, style=style)\n",
    "inp_formula = ipw.Text(description='Formulas:', placeholder='e.g. C44H16 C36H4', layout=layout, style=style)\n",
    "text_description = ipw.Text(description='Calculation Name: ',\n",
    "                            placeholder='e.g. keywords',\n",
    "                            layout=layout, style=style)\n",
    "\n",
    "# ---------\n",
    "# date selection\n",
    "dt_now = datetime.datetime.now()\n",
    "dt_from = dt_now - datetime.timedelta(days=20)\n",
    "date_start = ipw.Text(value=dt_from.strftime('%Y-%m-%d'),\n",
    "                           description='From: ',\n",
    "                           style={'description_width': '60px'}, layout={'width': '225px'})\n",
    "\n",
    "date_end = ipw.Text(value=dt_now.strftime('%Y-%m-%d'),\n",
    "                          description='To: ',\n",
    "                          style={'description_width': '60px'}, layout={'width': '225px'})\n",
    "\n",
    "date_text = ipw.HTML(value='<p>Select the date range:</p>', width=\"150px\")\n",
    "# ---------\n",
    "\n",
    "search_crit = [inp_pks, inp_formula, text_description, ipw.HBox([date_text, date_start, date_end])]"
   ]
  },
  {
   "cell_type": "code",
   "execution_count": null,
   "metadata": {
    "scrolled": false
   },
   "outputs": [],
   "source": [
    "def on_click(b):\n",
    "    with info_out:\n",
    "        clear_output()\n",
    "        search()\n",
    "\n",
    "button = ipw.Button(description=\"Search\")\n",
    "button.on_click(on_click)\n",
    "results = ipw.HTML()\n",
    "info_out = ipw.Output()\n",
    "app = ipw.VBox(children=search_crit + [button, results, info_out])\n",
    "display(app)"
   ]
  },
  {
   "cell_type": "code",
   "execution_count": null,
   "metadata": {},
   "outputs": [],
   "source": []
  }
 ],
 "metadata": {
  "kernelspec": {
   "display_name": "Python 3",
   "language": "python",
   "name": "python3"
  },
  "language_info": {
   "codemirror_mode": {
    "name": "ipython",
    "version": 3
   },
   "file_extension": ".py",
   "mimetype": "text/x-python",
   "name": "python",
   "nbconvert_exporter": "python",
   "pygments_lexer": "ipython3",
   "version": "3.6.8"
  }
 },
 "nbformat": 4,
 "nbformat_minor": 2
}
